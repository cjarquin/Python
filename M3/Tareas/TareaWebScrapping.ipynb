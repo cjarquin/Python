{
  "cells": [
    {
      "cell_type": "markdown",
      "metadata": {
        "colab_type": "text",
        "id": "view-in-github"
      },
      "source": [
        "<a href=\"https://colab.research.google.com/github/pikey-msc/Python/blob/main/M3/S3/TareaWebScrapping.ipynb\" target=\"_parent\"><img src=\"https://colab.research.google.com/assets/colab-badge.svg\" alt=\"Open In Colab\"/></a>"
      ]
    },
    {
      "cell_type": "markdown",
      "metadata": {
        "id": "F0cjHr78DXuT"
      },
      "source": [
        "\n",
        "### 1. ¿Cuántas veces se necesita hacer el \"scroll\" para jalar todos los tweets? (tip: Se encuentran el total de tweets en la parte superior). No se necesita obtener todos los tweets."
      ]
    },
    {
      "cell_type": "code",
      "execution_count": 10,
      "metadata": {
        "id": "4BwuodgdDnIR"
      },
      "outputs": [
        {
          "name": "stderr",
          "output_type": "stream",
          "text": [
            "\n",
            "\n",
            "====== WebDriver manager ======\n",
            "Current google-chrome version is 99.0.4844\n",
            "Get LATEST chromedriver version for 99.0.4844 google-chrome\n",
            "Driver [/Users/machristian/.wdm/drivers/chromedriver/mac64/99.0.4844.51/chromedriver] found in cache\n",
            "<ipython-input-10-227f649585ed>:4: DeprecationWarning: executable_path has been deprecated, please pass in a Service object\n",
            "  driver = webdriver.Chrome(ChromeDriverManager().install())\n"
          ]
        }
      ],
      "source": [
        "from selenium import webdriver\n",
        "from webdriver_manager.chrome import ChromeDriverManager\n",
        "\n",
        "driver = webdriver.Chrome(ChromeDriverManager().install())\n",
        "driver.get(\"https://twitter.com/gabenrih\")\n",
        "\n"
      ]
    },
    {
      "cell_type": "code",
      "execution_count": 11,
      "metadata": {},
      "outputs": [],
      "source": [
        "from bs4 import BeautifulSoup\n",
        "res = driver.page_source.encode('utf-8')\n",
        "soup = BeautifulSoup(res, \"html.parser\")"
      ]
    },
    {
      "cell_type": "code",
      "execution_count": 12,
      "metadata": {},
      "outputs": [
        {
          "data": {
            "text/plain": [
              "'AXEL DANIEL LOPEZ SERMEÑO lo responsabilizo por cualquier cosa que me pase a partir de este día, sufrí una relación de violencia y maltrato todo el tiempo donde fui golpeada en varias ocasiones por este sujeto.'"
            ]
          },
          "execution_count": 12,
          "metadata": {},
          "output_type": "execute_result"
        }
      ],
      "source": [
        "# 1st tweet\n",
        "res = driver.page_source.encode('utf-8')\n",
        "soup = BeautifulSoup(res, \"html.parser\")\n",
        "soup.find_all(attrs={\"data-testid\": \"tweet\"})[0].find_all(attrs={\"dir\": \"auto\"})[5].text\n",
        "\n"
      ]
    },
    {
      "cell_type": "code",
      "execution_count": 27,
      "metadata": {},
      "outputs": [
        {
          "data": {
            "text/plain": [
              "60"
            ]
          },
          "execution_count": 27,
          "metadata": {},
          "output_type": "execute_result"
        }
      ],
      "source": [
        "res = driver.page_source.encode('utf-8')\n",
        "soup = BeautifulSoup(res, \"html.parser\")\n",
        "numTwits = soup.find_all(attrs={\"dir\":\"auto\"})[19].text.split()[0].replace(\",\",\"\") #remover las comas de la primera cifra\n",
        "units = {\"K\":1000,\"M\":1000000}\n",
        "result=[]\n",
        "try:\n",
        "    result.append(int(numTwits))\n",
        "except ValueError:\n",
        "    unit=numTwits[-1]\n",
        "    n=int( numTwits[:-1] )\n",
        "    result.append(n * units[unit])\n",
        "\n",
        "result[0]\n"
      ]
    },
    {
      "cell_type": "code",
      "execution_count": 28,
      "metadata": {},
      "outputs": [],
      "source": [
        "# Aunque se obienen el número de twits, no se puede calcular el número de pixeles para hacer scroll down porque es independiente de la resolución de cada pantalla. Método fácils:\n",
        "SCROLL_PAUSE_TIME = .5\n",
        "import time\n",
        "# Get scroll height\n",
        "last_height = driver.execute_script(\"return document.body.scrollHeight\")\n",
        "\n",
        "while True:\n",
        "    # Scroll down to bottom\n",
        "    driver.execute_script(\"window.scrollTo(0, document.body.scrollHeight);\")\n",
        "\n",
        "    # Wait to load page\n",
        "    time.sleep(SCROLL_PAUSE_TIME)\n",
        "\n",
        "    # Calculate new scroll height and compare with last scroll height\n",
        "    new_height = driver.execute_script(\"return document.body.scrollHeight\")\n",
        "    if new_height == last_height:\n",
        "        break\n",
        "    last_height = new_height"
      ]
    },
    {
      "cell_type": "markdown",
      "metadata": {
        "id": "7EKHxtqNDsye"
      },
      "source": [
        "### 2. Crea un código para listar a los seguidores de una cuenta"
      ]
    },
    {
      "cell_type": "code",
      "execution_count": 36,
      "metadata": {},
      "outputs": [
        {
          "name": "stdout",
          "output_type": "stream",
          "text": [
            "https://twitter.com/gabenrih/followers\n"
          ]
        }
      ],
      "source": [
        "nuevaLiga = soup.find_all(attrs={\"dir\":\"auto\"})[27]['href']\n",
        "nuevaLiga = (\"https://twitter.com\"+nuevaLiga)\n",
        "print(nuevaLiga)\n",
        "driver.get(nuevaLiga)"
      ]
    },
    {
      "cell_type": "code",
      "execution_count": 71,
      "metadata": {
        "id": "VyiLKzIyDy4p"
      },
      "outputs": [],
      "source": [
        "nuevaLiga = soup.find_all(attrs={\"dir\":\"auto\"})[27]['href']\n",
        "driver.get(\"https://twitter.com\"+nuevaLiga)\n"
      ]
    },
    {
      "cell_type": "code",
      "execution_count": null,
      "metadata": {},
      "outputs": [],
      "source": [
        "import time\n",
        "time.sleep(1)\n",
        "SCROLL_PAUSE_TIME = 1\n",
        "last_height = driver.execute_script(\"return document.body.scrollHeight\")\n",
        "\n",
        "while True:\n",
        "    # Scroll down to bottom\n",
        "    driver.execute_script(\"window.scrollTo(0, document.body.scrollHeight);\")\n",
        "\n",
        "    # Wait to load page\n",
        "    time.sleep(SCROLL_PAUSE_TIME)\n",
        "\n",
        "    # Calculate new scroll height and compare with last scroll height\n",
        "    new_height = driver.execute_script(\"return document.body.scrollHeight\")\n",
        "    if new_height == last_height:\n",
        "        break\n",
        "    last_height = new_height\n",
        "\n"
      ]
    },
    {
      "cell_type": "code",
      "execution_count": 84,
      "metadata": {},
      "outputs": [
        {
          "data": {
            "text/plain": [
              "'@andreaaguerr'"
            ]
          },
          "execution_count": 84,
          "metadata": {},
          "output_type": "execute_result"
        }
      ],
      "source": [
        "soup.find_all(attrs={\"data-testid\":\"UserCell\"})[0].find_all(attrs={\"dir\":\"ltr\"})[0].text #iterando los seguidores sobre i\n"
      ]
    },
    {
      "cell_type": "code",
      "execution_count": 82,
      "metadata": {},
      "outputs": [],
      "source": [
        "soup = BeautifulSoup(res, \"html.parser\")\n"
      ]
    },
    {
      "cell_type": "code",
      "execution_count": 92,
      "metadata": {},
      "outputs": [
        {
          "data": {
            "text/plain": [
              "[<div class=\"css-901oao r-18jsvk2 r-37j5jr r-a023e6 r-b88u0q r-rjixqe r-hrzydr r-bcqeeo r-qvutc0\" dir=\"ltr\"><span class=\"css-901oao css-16my406 r-poiln3 r-bcqeeo r-qvutc0\">Ingresan a Jaime Rodríguez 'El Bronco' al penal de Apodaca</span></div>,\n",
              " <div class=\"css-901oao r-18jsvk2 r-37j5jr r-a023e6 r-b88u0q r-rjixqe r-bcqeeo r-vmopo1 r-qvutc0\" dir=\"ltr\"><span class=\"r-18u37iz\"><span class=\"css-901oao css-16my406 r-poiln3 r-bcqeeo r-qvutc0\" dir=\"ltr\">#LaChampionsEnHBOMAX</span></span></div>,\n",
              " <div class=\"css-901oao r-18jsvk2 r-37j5jr r-a023e6 r-b88u0q r-rjixqe r-bcqeeo r-vmopo1 r-qvutc0\" dir=\"ltr\"><span class=\"css-901oao css-16my406 r-poiln3 r-bcqeeo r-qvutc0\">Reimers</span></div>,\n",
              " <div class=\"css-901oao r-1awozwy r-14j79pv r-6koalj r-37j5jr r-a023e6 r-16dba41 r-1h0z5md r-rjixqe r-bcqeeo r-o7ynqc r-clp7b1 r-3s2u2q r-qvutc0\" dir=\"ltr\"><div class=\"css-1dbjc4n r-xoduu5\"><div class=\"css-1dbjc4n r-1niwhzg r-sdzlij r-1p0dtai r-xoduu5 r-1d2f490 r-xf4iuw r-1ny4l3l r-u8s1d r-zchlnj r-ipm5af r-o7ynqc r-6416eg\"></div><svg aria-hidden=\"true\" class=\"r-4qtqp9 r-yyyyoo r-1xvli5t r-dnmrzs r-bnwqim r-1plcrui r-lrvibr r-1hdv0qi\" viewbox=\"0 0 24 24\"><g><circle cx=\"5\" cy=\"12\" r=\"2\"></circle><circle cx=\"12\" cy=\"12\" r=\"2\"></circle><circle cx=\"19\" cy=\"12\" r=\"2\"></circle></g></svg></div></div>,\n",
              " <div class=\"css-901oao r-18jsvk2 r-37j5jr r-a023e6 r-b88u0q r-rjixqe r-bcqeeo r-vmopo1 r-qvutc0\" dir=\"ltr\"><span class=\"css-901oao css-16my406 r-poiln3 r-bcqeeo r-qvutc0\">Samuel</span></div>,\n",
              " <div class=\"css-901oao r-1awozwy r-14j79pv r-6koalj r-37j5jr r-a023e6 r-16dba41 r-1h0z5md r-rjixqe r-bcqeeo r-o7ynqc r-clp7b1 r-3s2u2q r-qvutc0\" dir=\"ltr\"><div class=\"css-1dbjc4n r-xoduu5\"><div class=\"css-1dbjc4n r-1niwhzg r-sdzlij r-1p0dtai r-xoduu5 r-1d2f490 r-xf4iuw r-1ny4l3l r-u8s1d r-zchlnj r-ipm5af r-o7ynqc r-6416eg\"></div><svg aria-hidden=\"true\" class=\"r-4qtqp9 r-yyyyoo r-1xvli5t r-dnmrzs r-bnwqim r-1plcrui r-lrvibr r-1hdv0qi\" viewbox=\"0 0 24 24\"><g><circle cx=\"5\" cy=\"12\" r=\"2\"></circle><circle cx=\"12\" cy=\"12\" r=\"2\"></circle><circle cx=\"19\" cy=\"12\" r=\"2\"></circle></g></svg></div></div>,\n",
              " <div class=\"css-901oao r-18jsvk2 r-37j5jr r-a023e6 r-b88u0q r-rjixqe r-hrzydr r-bcqeeo r-qvutc0\" dir=\"ltr\"><span class=\"css-901oao css-16my406 r-poiln3 r-bcqeeo r-qvutc0\">How to verify information involving the war in Ukraine, according to fact-checkers and experts</span></div>]"
            ]
          },
          "execution_count": 92,
          "metadata": {},
          "output_type": "execute_result"
        }
      ],
      "source": [
        "soup.find_all(\"section\",attrs={\"aria-labelledby\":\"accessible-list-0\"})[0].find_all(\"div\",attrs={\"dir\":\"ltr\"})"
      ]
    },
    {
      "cell_type": "code",
      "execution_count": null,
      "metadata": {},
      "outputs": [],
      "source": []
    },
    {
      "cell_type": "code",
      "execution_count": null,
      "metadata": {},
      "outputs": [],
      "source": []
    }
  ],
  "metadata": {
    "colab": {
      "authorship_tag": "ABX9TyOgc39OtUAWlyXAuBwY7Ure",
      "include_colab_link": true,
      "name": "TareaWebScrapping.ipynb",
      "provenance": []
    },
    "kernelspec": {
      "display_name": "Python 3",
      "name": "python3"
    },
    "language_info": {
      "codemirror_mode": {
        "name": "ipython",
        "version": 3
      },
      "file_extension": ".py",
      "mimetype": "text/x-python",
      "name": "python",
      "nbconvert_exporter": "python",
      "pygments_lexer": "ipython3",
      "version": "3.8.8"
    }
  },
  "nbformat": 4,
  "nbformat_minor": 0
}
