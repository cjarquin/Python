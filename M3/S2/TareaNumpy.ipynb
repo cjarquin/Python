{
  "nbformat": 4,
  "nbformat_minor": 0,
  "metadata": {
    "colab": {
      "name": "TareaNumpy.ipynb",
      "provenance": [],
      "authorship_tag": "ABX9TyM9FXJOC2kRMt4DbskqiGnF",
      "include_colab_link": true
    },
    "kernelspec": {
      "name": "python3",
      "display_name": "Python 3"
    },
    "language_info": {
      "name": "python"
    }
  },
  "cells": [
    {
      "cell_type": "markdown",
      "metadata": {
        "id": "view-in-github",
        "colab_type": "text"
      },
      "source": [
        "<a href=\"https://colab.research.google.com/github/pikey-msc/Python/blob/main/M3/S2/TareaNumpy.ipynb\" target=\"_parent\"><img src=\"https://colab.research.google.com/assets/colab-badge.svg\" alt=\"Open In Colab\"/></a>"
      ]
    },
    {
      "cell_type": "markdown",
      "source": [
        "## Factorización Cholesky\n",
        "Obtén la matriz Cholesky de la matriz de var-cov que proviene de una simulación de una matriz de 10,000 filas con 5 columnas, donde las primeras dos son normales con $\\mu$=100, $\\sigma^2$=20, la tercera, una poisson con $\\lambda$=50, la cuarta, una Binomial(100,0.15), y la quinta una Pareto con $a=50$."
      ],
      "metadata": {
        "id": "LoPbfhCW6zL8"
      }
    },
    {
      "cell_type": "code",
      "source": [
        ""
      ],
      "metadata": {
        "id": "pE9sREOk-pcj"
      },
      "execution_count": null,
      "outputs": []
    },
    {
      "cell_type": "markdown",
      "source": [
        "##Eigenvectores y eigenvalores\n",
        "\n",
        "Simular una matriz de 10,000 filas por 50 columnas de una distribución normal $\\mu=100$, $\\sigma^2=20$. Obtener matriz de correlación y obtener sus eigenvalores y eigenvectores"
      ],
      "metadata": {
        "id": "WlqLl6038k_W"
      }
    },
    {
      "cell_type": "code",
      "source": [
        ""
      ],
      "metadata": {
        "id": "rXOUNedh8icW"
      },
      "execution_count": null,
      "outputs": []
    }
  ]
}