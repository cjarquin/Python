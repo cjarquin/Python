{
  "nbformat": 4,
  "nbformat_minor": 0,
  "metadata": {
    "colab": {
      "name": "Tarea M4-5.ipynb",
      "provenance": [],
      "authorship_tag": "ABX9TyPdX01i7B6gZrUceFsZOKOG",
      "include_colab_link": true
    },
    "kernelspec": {
      "name": "python3",
      "display_name": "Python 3"
    },
    "language_info": {
      "name": "python"
    }
  },
  "cells": [
    {
      "cell_type": "markdown",
      "metadata": {
        "id": "view-in-github",
        "colab_type": "text"
      },
      "source": [
        "<a href=\"https://colab.research.google.com/github/pikey-msc/Python/blob/main/M3/S5/Tarea_M4_5.ipynb\" target=\"_parent\"><img src=\"https://colab.research.google.com/assets/colab-badge.svg\" alt=\"Open In Colab\"/></a>"
      ]
    },
    {
      "cell_type": "markdown",
      "source": [
        "## Riesgo de mercado ( Simulación Montecarlo [Cholesky])\n",
        "\n",
        "1. Construir ${\\Delta X}_{n\\times m}$ que es la matriz de diferencias basados en el operador $T_j$ (\t\tdonde $T_1(x)=\\ln(x)$ ó $T_2(x)=x-1$), es decir $${\\Delta X}_\\tau=\\Big[ T_j(\\frac{x_{t,1}}{x_{t+\\tau,1}}), T_j(\\frac{x_{t,2}}{x_{t+\\tau,2}}),\\ldots, T_j(\\frac{x_{t,m}}{x_{t+\\tau,m}})\\Big]\\quad t=0,1,\\ldots, n-1.$$\n",
        "2. Calcular la matriz de correlación de ${\\Delta X}_\\tau$, i.e. $\\Omega=Corr({\\Delta X}_\\tau)$. \\\\\n",
        "3. Factorizar $\\Omega=AA^\\top$. \\\\\n",
        "4. Analizar la distribución individual de las variaciones de los factores de riesgo ${\\Delta X}_{\\tau,k}$ ($k=1,\\ldots,m$) para ajustar a una función de distribución paramétrica conocida ó utilizar la función empírica tal cual.\n",
        "5. Calcular matriz $S$ de $N\\times m$ valores con $$S_{i\\cdot}=\\Big[F^{-1}_{{\\Delta X}_{\\tau,1}}(\\alpha_{i 1}),\\ldots,F^{-1}_{{\\Delta X}_{\\tau,m}}(\\alpha_{i m})\\Big]$$ donde $\\alpha_{i\\cdot}\\sim U(0,1)$ con $N\\times m$ valores a.i.i.d. simulados, y $F^{-1}_{{\\Delta X}_{\\tau,k}}$ es la inversa de la distribución empírica o paramétrica (seleccionada en el paso anterior) de las variaciones del factor de riesgo $k$, i.e. de ${\\Delta X}_{\\tau,k}$ ($k=1,\\ldots,m$).\n",
        "6. Calcular matriz $\\Delta X_{s_\\tau}$ como $\\Delta X_{s_\\tau}=S\\cdot A^\\top$. \n",
        "7. Construir ${X}_{s_{N\\times m}}$ que es la matriz de factores de riesgo simulada basada en el vector de precios actual $X_{00}$\n",
        "$$X_{s_{i\\cdot}}=\\Big[x_{0,1}T^{-1}_j(\\Delta x_{s_{i1}}), \\ldots, x_{0,m}T^{-1}_j(\\Delta x_{s_{im}})\\Big]\\quad (i=1,\\ldots,N\\quad j=1\\, \\textrm{ó}\\, 2),$$\n",
        "8. Construcción de la matriz de reevaluación del portafolio basada en los escenarios simulados $Y_{N\\times r}$ de todos los instrumentos financieros, es decir $$Y_z=[m_1f_1(X_{s_z}), m_2f_2(X_{s_z}),\\ldots, m_rf_r(X_{s_z})]\\quad (z=1,\\ldots,N).$$\n",
        "9. Construcción de la matriz de pérdidas y ganancias del portafolio basada en los escenarios simulados $\\Delta Y_{N\\times r}$ de todos los instrumentos financieros, es decir $$\\Delta Y_{z\\cdot}=Y_z-Y_{0}=[m_1(f_1(X_{s_{z\\cdot}})-f_1(X_{00})),\\ldots, m_r(f_r(X_{s_{z\\cdot}})-f_r(X_{00}))],$$\n",
        " para $(z=1,\\ldots,N)$. Se puede obtener el vector de pérdidas totales ${\\Delta YT}_{N}$ muy fácilmente, esto es $\\Delta YT=\\sum_{k=1}^r Y_{z\\cdot}$ $(z=1,\\ldots,N)$, incluso se puede hacer lo mismo por tipo de riesgo, ya que para cada tipo de riesgo pueden existir diferentes instrumentos, lo único que se tiene que hacer es sumar los instrumentos de un mismo tipo de riesgo por escenario.\n",
        "10. Obtener las medidas de riesgo deseada de la matriz ${\\Delta Y}_{\\cdot k}$ $(k=1,\\ldots,r)$ y $\\Delta YT$, ejemplo se puede calcular $VaR_\\alpha({\\Delta Y}_{\\cdot k})$, $CVaR_\\alpha({\\Delta Y}_{\\cdot k})$, $CeR_\\alpha({\\Delta Y}_{\\cdot k})$, $\\mu(\\Delta Y_{\\cdot k})$, $\\sigma(\\Delta Y_{\\cdot k})$, etc. para $k=1,\\ldots,r$. \n"
      ],
      "metadata": {
        "id": "GnZHhZXHIwks"
      }
    },
    {
      "cell_type": "code",
      "source": [
        ""
      ],
      "metadata": {
        "id": "LdQc9U4qR1PW"
      },
      "execution_count": null,
      "outputs": []
    },
    {
      "cell_type": "markdown",
      "source": [
        "#2. Frontera eficiente con 3 Criptomonedas"
      ],
      "metadata": {
        "id": "VQ9JNNERR1us"
      }
    },
    {
      "cell_type": "code",
      "source": [
        ""
      ],
      "metadata": {
        "id": "-IotrWm7R8hH"
      },
      "execution_count": null,
      "outputs": []
    }
  ]
}