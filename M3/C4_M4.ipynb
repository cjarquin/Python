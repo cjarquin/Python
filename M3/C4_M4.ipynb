{
  "nbformat": 4,
  "nbformat_minor": 0,
  "metadata": {
    "colab": {
      "name": "C4_M4.ipynb",
      "provenance": [],
      "toc_visible": true,
      "collapsed_sections": [],
      "include_colab_link": true
    },
    "kernelspec": {
      "name": "python3",
      "display_name": "Python 3"
    },
    "language_info": {
      "name": "python"
    }
  },
  "cells": [
    {
      "cell_type": "markdown",
      "metadata": {
        "id": "view-in-github",
        "colab_type": "text"
      },
      "source": [
        "<a href=\"https://colab.research.google.com/github/pikey-msc/Python/blob/main/M3/C4_M4.ipynb\" target=\"_parent\"><img src=\"https://colab.research.google.com/assets/colab-badge.svg\" alt=\"Open In Colab\"/></a>"
      ]
    },
    {
      "cell_type": "code",
      "execution_count": null,
      "metadata": {
        "id": "CoQ9y6i03zMM",
        "colab": {
          "base_uri": "https://localhost:8080/"
        },
        "outputId": "bc6c5b24-6d40-4bc4-ada9-df7849345aaf"
      },
      "outputs": [
        {
          "output_type": "stream",
          "name": "stdout",
          "text": [
            "Cloning into 'Python'...\n",
            "remote: Enumerating objects: 157, done.\u001b[K\n",
            "remote: Counting objects: 100% (157/157), done.\u001b[K\n",
            "remote: Compressing objects: 100% (121/121), done.\u001b[K\n",
            "remote: Total 157 (delta 50), reused 5 (delta 0), pack-reused 0\u001b[K\n",
            "Receiving objects: 100% (157/157), 6.45 MiB | 8.61 MiB/s, done.\n",
            "Resolving deltas: 100% (50/50), done.\n"
          ]
        }
      ],
      "source": [
        "!rm -rf Python\n",
        "!git clone https://github.com/pikey-msc/Python.git"
      ]
    },
    {
      "cell_type": "code",
      "source": [
        "from google.colab import drive\n",
        "drive.mount('/content/drive')"
      ],
      "metadata": {
        "colab": {
          "base_uri": "https://localhost:8080/"
        },
        "id": "fnSer5S1_zKM",
        "outputId": "0f71129b-cec9-4652-f06e-0ce7a1ce552e"
      },
      "execution_count": null,
      "outputs": [
        {
          "output_type": "stream",
          "name": "stdout",
          "text": [
            "Drive already mounted at /content/drive; to attempt to forcibly remount, call drive.mount(\"/content/drive\", force_remount=True).\n"
          ]
        }
      ]
    },
    {
      "cell_type": "code",
      "source": [
        "!pip install pandas_datareader"
      ],
      "metadata": {
        "colab": {
          "base_uri": "https://localhost:8080/"
        },
        "id": "Qfg4Ln6l_zHF",
        "outputId": "3d254ae0-556f-4676-d58f-bae67fac4269"
      },
      "execution_count": null,
      "outputs": [
        {
          "output_type": "stream",
          "name": "stdout",
          "text": [
            "Requirement already satisfied: pandas_datareader in /usr/local/lib/python3.7/dist-packages (0.9.0)\n",
            "Requirement already satisfied: requests>=2.19.0 in /usr/local/lib/python3.7/dist-packages (from pandas_datareader) (2.27.1)\n",
            "Requirement already satisfied: lxml in /usr/local/lib/python3.7/dist-packages (from pandas_datareader) (4.8.0)\n",
            "Requirement already satisfied: pandas>=0.23 in /usr/local/lib/python3.7/dist-packages (from pandas_datareader) (1.3.5)\n",
            "Requirement already satisfied: numpy>=1.17.3 in /usr/local/lib/python3.7/dist-packages (from pandas>=0.23->pandas_datareader) (1.21.5)\n",
            "Requirement already satisfied: pytz>=2017.3 in /usr/local/lib/python3.7/dist-packages (from pandas>=0.23->pandas_datareader) (2018.9)\n",
            "Requirement already satisfied: python-dateutil>=2.7.3 in /usr/local/lib/python3.7/dist-packages (from pandas>=0.23->pandas_datareader) (2.8.2)\n",
            "Requirement already satisfied: six>=1.5 in /usr/local/lib/python3.7/dist-packages (from python-dateutil>=2.7.3->pandas>=0.23->pandas_datareader) (1.15.0)\n",
            "Requirement already satisfied: charset-normalizer~=2.0.0 in /usr/local/lib/python3.7/dist-packages (from requests>=2.19.0->pandas_datareader) (2.0.12)\n",
            "Requirement already satisfied: urllib3<1.27,>=1.21.1 in /usr/local/lib/python3.7/dist-packages (from requests>=2.19.0->pandas_datareader) (1.24.3)\n",
            "Requirement already satisfied: certifi>=2017.4.17 in /usr/local/lib/python3.7/dist-packages (from requests>=2.19.0->pandas_datareader) (2021.10.8)\n",
            "Requirement already satisfied: idna<4,>=2.5 in /usr/local/lib/python3.7/dist-packages (from requests>=2.19.0->pandas_datareader) (2.10)\n"
          ]
        }
      ]
    },
    {
      "cell_type": "code",
      "source": [
        "from pandas_datareader import wb\n",
        "from datetime import datetime"
      ],
      "metadata": {
        "id": "Hf4mq8zv_zEw"
      },
      "execution_count": null,
      "outputs": []
    },
    {
      "cell_type": "markdown",
      "source": [
        "#Análisis de datos financieros"
      ],
      "metadata": {
        "id": "9x86Mb2HRQaD"
      }
    },
    {
      "cell_type": "markdown",
      "source": [
        "#Importación con Datareader"
      ],
      "metadata": {
        "id": "c9A2YW5hRHn3"
      }
    },
    {
      "cell_type": "markdown",
      "source": [
        "## Indicadores\n",
        "\n",
        "Muchas instituciones financieras, mercados de valores y bancos globales proporcionan al público grandes cantidades de datos que almacenan públicamente. La mayoría de estos datos están bien organizados, se actualizan en directo y son accesibles mediante el uso de una interfaz de programación de aplicaciones (API), que ofrece a los lenguajes de programación como Python una forma de descargarlos e importarlos.\n",
        "\n",
        "El módulo pandas-datareader está específicamente diseñado para interactuar con algunas de las APIs de datos financieros más populares del mundo, e importar sus datos en un DataFrame de pandas fácilmente digerible. Se accede a cada API financiera mediante una función diferente expuesta por pandas-datareader. Generalmente, el acceso a cada API requiere un conjunto diferente de argumentos e información que debe proporcionar el programador.\n",
        "\n",
        "Vamos a importar datos de varias de estas API y a jugar con ellos. Para una lista completa de todos los datos a los que puede acceder el pandas-datareader, puedes consultar la documentación oficial."
      ],
      "metadata": {
        "id": "bTMY8SD0LzcY"
      }
    },
    {
      "cell_type": "code",
      "source": [
        "start = datetime(2015, 1, 1)\n",
        "end = datetime(2020, 1, 1)\n",
        "indicator_id = 'NY.GDP.PCAP.KD'"
      ],
      "metadata": {
        "id": "ZB2Azjy6_zCZ"
      },
      "execution_count": null,
      "outputs": []
    },
    {
      "cell_type": "code",
      "source": [
        "gdp_per_capita = wb.download(indicator=indicator_id, start=start, end=end, country=['US', 'CA', 'MX'])"
      ],
      "metadata": {
        "id": "IPrMvlL3_zAL"
      },
      "execution_count": null,
      "outputs": []
    },
    {
      "cell_type": "code",
      "source": [
        "gdp_per_capita"
      ],
      "metadata": {
        "colab": {
          "base_uri": "https://localhost:8080/",
          "height": 645
        },
        "id": "mM7lmYS1_y94",
        "outputId": "8498d3db-5951-4345-862f-f3a84332e5aa"
      },
      "execution_count": null,
      "outputs": [
        {
          "output_type": "execute_result",
          "data": {
            "text/html": [
              "\n",
              "  <div id=\"df-894e80d5-5cf9-417e-934a-d0c0f16e5702\">\n",
              "    <div class=\"colab-df-container\">\n",
              "      <div>\n",
              "<style scoped>\n",
              "    .dataframe tbody tr th:only-of-type {\n",
              "        vertical-align: middle;\n",
              "    }\n",
              "\n",
              "    .dataframe tbody tr th {\n",
              "        vertical-align: top;\n",
              "    }\n",
              "\n",
              "    .dataframe thead th {\n",
              "        text-align: right;\n",
              "    }\n",
              "</style>\n",
              "<table border=\"1\" class=\"dataframe\">\n",
              "  <thead>\n",
              "    <tr style=\"text-align: right;\">\n",
              "      <th></th>\n",
              "      <th></th>\n",
              "      <th>NY.GDP.PCAP.KD</th>\n",
              "    </tr>\n",
              "    <tr>\n",
              "      <th>country</th>\n",
              "      <th>year</th>\n",
              "      <th></th>\n",
              "    </tr>\n",
              "  </thead>\n",
              "  <tbody>\n",
              "    <tr>\n",
              "      <th rowspan=\"6\" valign=\"top\">Canada</th>\n",
              "      <th>2020</th>\n",
              "      <td>42294.234573</td>\n",
              "    </tr>\n",
              "    <tr>\n",
              "      <th>2019</th>\n",
              "      <td>45118.659098</td>\n",
              "    </tr>\n",
              "    <tr>\n",
              "      <th>2018</th>\n",
              "      <td>44917.369814</td>\n",
              "    </tr>\n",
              "    <tr>\n",
              "      <th>2017</th>\n",
              "      <td>44325.416776</td>\n",
              "    </tr>\n",
              "    <tr>\n",
              "      <th>2016</th>\n",
              "      <td>43536.913403</td>\n",
              "    </tr>\n",
              "    <tr>\n",
              "      <th>2015</th>\n",
              "      <td>43596.135537</td>\n",
              "    </tr>\n",
              "    <tr>\n",
              "      <th rowspan=\"6\" valign=\"top\">Mexico</th>\n",
              "      <th>2020</th>\n",
              "      <td>8909.677654</td>\n",
              "    </tr>\n",
              "    <tr>\n",
              "      <th>2019</th>\n",
              "      <td>9820.448553</td>\n",
              "    </tr>\n",
              "    <tr>\n",
              "      <th>2018</th>\n",
              "      <td>9945.776845</td>\n",
              "    </tr>\n",
              "    <tr>\n",
              "      <th>2017</th>\n",
              "      <td>9842.400712</td>\n",
              "    </tr>\n",
              "    <tr>\n",
              "      <th>2016</th>\n",
              "      <td>9751.569083</td>\n",
              "    </tr>\n",
              "    <tr>\n",
              "      <th>2015</th>\n",
              "      <td>9616.645558</td>\n",
              "    </tr>\n",
              "    <tr>\n",
              "      <th rowspan=\"6\" valign=\"top\">United States</th>\n",
              "      <th>2020</th>\n",
              "      <td>58559.674513</td>\n",
              "    </tr>\n",
              "    <tr>\n",
              "      <th>2019</th>\n",
              "      <td>60836.771454</td>\n",
              "    </tr>\n",
              "    <tr>\n",
              "      <th>2018</th>\n",
              "      <td>59821.592274</td>\n",
              "    </tr>\n",
              "    <tr>\n",
              "      <th>2017</th>\n",
              "      <td>58387.775808</td>\n",
              "    </tr>\n",
              "    <tr>\n",
              "      <th>2016</th>\n",
              "      <td>57418.933846</td>\n",
              "    </tr>\n",
              "    <tr>\n",
              "      <th>2015</th>\n",
              "      <td>56863.371496</td>\n",
              "    </tr>\n",
              "  </tbody>\n",
              "</table>\n",
              "</div>\n",
              "      <button class=\"colab-df-convert\" onclick=\"convertToInteractive('df-894e80d5-5cf9-417e-934a-d0c0f16e5702')\"\n",
              "              title=\"Convert this dataframe to an interactive table.\"\n",
              "              style=\"display:none;\">\n",
              "        \n",
              "  <svg xmlns=\"http://www.w3.org/2000/svg\" height=\"24px\"viewBox=\"0 0 24 24\"\n",
              "       width=\"24px\">\n",
              "    <path d=\"M0 0h24v24H0V0z\" fill=\"none\"/>\n",
              "    <path d=\"M18.56 5.44l.94 2.06.94-2.06 2.06-.94-2.06-.94-.94-2.06-.94 2.06-2.06.94zm-11 1L8.5 8.5l.94-2.06 2.06-.94-2.06-.94L8.5 2.5l-.94 2.06-2.06.94zm10 10l.94 2.06.94-2.06 2.06-.94-2.06-.94-.94-2.06-.94 2.06-2.06.94z\"/><path d=\"M17.41 7.96l-1.37-1.37c-.4-.4-.92-.59-1.43-.59-.52 0-1.04.2-1.43.59L10.3 9.45l-7.72 7.72c-.78.78-.78 2.05 0 2.83L4 21.41c.39.39.9.59 1.41.59.51 0 1.02-.2 1.41-.59l7.78-7.78 2.81-2.81c.8-.78.8-2.07 0-2.86zM5.41 20L4 18.59l7.72-7.72 1.47 1.35L5.41 20z\"/>\n",
              "  </svg>\n",
              "      </button>\n",
              "      \n",
              "  <style>\n",
              "    .colab-df-container {\n",
              "      display:flex;\n",
              "      flex-wrap:wrap;\n",
              "      gap: 12px;\n",
              "    }\n",
              "\n",
              "    .colab-df-convert {\n",
              "      background-color: #E8F0FE;\n",
              "      border: none;\n",
              "      border-radius: 50%;\n",
              "      cursor: pointer;\n",
              "      display: none;\n",
              "      fill: #1967D2;\n",
              "      height: 32px;\n",
              "      padding: 0 0 0 0;\n",
              "      width: 32px;\n",
              "    }\n",
              "\n",
              "    .colab-df-convert:hover {\n",
              "      background-color: #E2EBFA;\n",
              "      box-shadow: 0px 1px 2px rgba(60, 64, 67, 0.3), 0px 1px 3px 1px rgba(60, 64, 67, 0.15);\n",
              "      fill: #174EA6;\n",
              "    }\n",
              "\n",
              "    [theme=dark] .colab-df-convert {\n",
              "      background-color: #3B4455;\n",
              "      fill: #D2E3FC;\n",
              "    }\n",
              "\n",
              "    [theme=dark] .colab-df-convert:hover {\n",
              "      background-color: #434B5C;\n",
              "      box-shadow: 0px 1px 3px 1px rgba(0, 0, 0, 0.15);\n",
              "      filter: drop-shadow(0px 1px 2px rgba(0, 0, 0, 0.3));\n",
              "      fill: #FFFFFF;\n",
              "    }\n",
              "  </style>\n",
              "\n",
              "      <script>\n",
              "        const buttonEl =\n",
              "          document.querySelector('#df-894e80d5-5cf9-417e-934a-d0c0f16e5702 button.colab-df-convert');\n",
              "        buttonEl.style.display =\n",
              "          google.colab.kernel.accessAllowed ? 'block' : 'none';\n",
              "\n",
              "        async function convertToInteractive(key) {\n",
              "          const element = document.querySelector('#df-894e80d5-5cf9-417e-934a-d0c0f16e5702');\n",
              "          const dataTable =\n",
              "            await google.colab.kernel.invokeFunction('convertToInteractive',\n",
              "                                                     [key], {});\n",
              "          if (!dataTable) return;\n",
              "\n",
              "          const docLinkHtml = 'Like what you see? Visit the ' +\n",
              "            '<a target=\"_blank\" href=https://colab.research.google.com/notebooks/data_table.ipynb>data table notebook</a>'\n",
              "            + ' to learn more about interactive tables.';\n",
              "          element.innerHTML = '';\n",
              "          dataTable['output_type'] = 'display_data';\n",
              "          await google.colab.output.renderOutput(dataTable, element);\n",
              "          const docLink = document.createElement('div');\n",
              "          docLink.innerHTML = docLinkHtml;\n",
              "          element.appendChild(docLink);\n",
              "        }\n",
              "      </script>\n",
              "    </div>\n",
              "  </div>\n",
              "  "
            ],
            "text/plain": [
              "                    NY.GDP.PCAP.KD\n",
              "country       year                \n",
              "Canada        2020    42294.234573\n",
              "              2019    45118.659098\n",
              "              2018    44917.369814\n",
              "              2017    44325.416776\n",
              "              2016    43536.913403\n",
              "              2015    43596.135537\n",
              "Mexico        2020     8909.677654\n",
              "              2019     9820.448553\n",
              "              2018     9945.776845\n",
              "              2017     9842.400712\n",
              "              2016     9751.569083\n",
              "              2015     9616.645558\n",
              "United States 2020    58559.674513\n",
              "              2019    60836.771454\n",
              "              2018    59821.592274\n",
              "              2017    58387.775808\n",
              "              2016    57418.933846\n",
              "              2015    56863.371496"
            ]
          },
          "metadata": {},
          "execution_count": 7
        }
      ]
    },
    {
      "cell_type": "markdown",
      "source": [
        "El método download tiene diferentes parámetros que podemos pasar para obtener los datos del Banco Mundial. Entre ellos está el indicator_id."
      ],
      "metadata": {
        "id": "PnXuvxqcMe8C"
      }
    },
    {
      "cell_type": "markdown",
      "source": [
        "## Símbolos\n",
        "\n",
        "El mercado de valores NASDAQ identifica cada una de sus acciones con un símbolo único:\n",
        "\n",
        "*   Apple - APPL\n",
        "*   Google - GOOGL\n",
        "*   Tesla - TSLA\n",
        "\n",
        "También proporciona una útil API para acceder a los símbolos que se negocian actualmente en ella. Pandas-datareader proporciona varias funciones para importar datos de la API de NASDAQ a través de su submódulo nasdaq_trader."
      ],
      "metadata": {
        "id": "6BDl28O7MtSy"
      }
    },
    {
      "cell_type": "code",
      "source": [
        "from pandas_datareader.nasdaq_trader import get_nasdaq_symbols"
      ],
      "metadata": {
        "id": "IsbgWj1v_y7l"
      },
      "execution_count": null,
      "outputs": []
    },
    {
      "cell_type": "markdown",
      "source": [
        "Para importar la lista de símbolos bursátiles, queremos utilizar la función get_nasdaq_symbols de nasdaq_trader.\n"
      ],
      "metadata": {
        "id": "cMfDPVSNNIWt"
      }
    },
    {
      "cell_type": "code",
      "source": [
        "symbols = get_nasdaq_symbols()"
      ],
      "metadata": {
        "id": "PvCwb3Qw_y5I"
      },
      "execution_count": null,
      "outputs": []
    },
    {
      "cell_type": "markdown",
      "source": [
        "Cuando se llame, irá a la API de NASDAQ, e importará la lista de símbolos que se están negociando actualmente. La ventaja de usar pandas-datareader es que toda la lógica para interactuar con la API de NASDAQ o cualquier otra API está encapsulada en submódulos y funciones fáciles de usar como las anteriores."
      ],
      "metadata": {
        "id": "gy0RkMXNNMiu"
      }
    },
    {
      "cell_type": "code",
      "source": [
        "symbols"
      ],
      "metadata": {
        "colab": {
          "base_uri": "https://localhost:8080/",
          "height": 901
        },
        "id": "caqqR681_y2p",
        "outputId": "12e1e0cf-ec2c-4590-9413-ba4579b685f9"
      },
      "execution_count": null,
      "outputs": [
        {
          "output_type": "execute_result",
          "data": {
            "text/html": [
              "\n",
              "  <div id=\"df-d8412296-1e6d-4d5c-9c42-038648650f96\">\n",
              "    <div class=\"colab-df-container\">\n",
              "      <div>\n",
              "<style scoped>\n",
              "    .dataframe tbody tr th:only-of-type {\n",
              "        vertical-align: middle;\n",
              "    }\n",
              "\n",
              "    .dataframe tbody tr th {\n",
              "        vertical-align: top;\n",
              "    }\n",
              "\n",
              "    .dataframe thead th {\n",
              "        text-align: right;\n",
              "    }\n",
              "</style>\n",
              "<table border=\"1\" class=\"dataframe\">\n",
              "  <thead>\n",
              "    <tr style=\"text-align: right;\">\n",
              "      <th></th>\n",
              "      <th>Nasdaq Traded</th>\n",
              "      <th>Security Name</th>\n",
              "      <th>Listing Exchange</th>\n",
              "      <th>Market Category</th>\n",
              "      <th>ETF</th>\n",
              "      <th>Round Lot Size</th>\n",
              "      <th>Test Issue</th>\n",
              "      <th>Financial Status</th>\n",
              "      <th>CQS Symbol</th>\n",
              "      <th>NASDAQ Symbol</th>\n",
              "      <th>NextShares</th>\n",
              "    </tr>\n",
              "    <tr>\n",
              "      <th>Symbol</th>\n",
              "      <th></th>\n",
              "      <th></th>\n",
              "      <th></th>\n",
              "      <th></th>\n",
              "      <th></th>\n",
              "      <th></th>\n",
              "      <th></th>\n",
              "      <th></th>\n",
              "      <th></th>\n",
              "      <th></th>\n",
              "      <th></th>\n",
              "    </tr>\n",
              "  </thead>\n",
              "  <tbody>\n",
              "    <tr>\n",
              "      <th>A</th>\n",
              "      <td>True</td>\n",
              "      <td>Agilent Technologies, Inc. Common Stock</td>\n",
              "      <td>N</td>\n",
              "      <td></td>\n",
              "      <td>False</td>\n",
              "      <td>100.0</td>\n",
              "      <td>False</td>\n",
              "      <td>NaN</td>\n",
              "      <td>A</td>\n",
              "      <td>A</td>\n",
              "      <td>False</td>\n",
              "    </tr>\n",
              "    <tr>\n",
              "      <th>AA</th>\n",
              "      <td>True</td>\n",
              "      <td>Alcoa Corporation Common Stock</td>\n",
              "      <td>N</td>\n",
              "      <td></td>\n",
              "      <td>False</td>\n",
              "      <td>100.0</td>\n",
              "      <td>False</td>\n",
              "      <td>NaN</td>\n",
              "      <td>AA</td>\n",
              "      <td>AA</td>\n",
              "      <td>False</td>\n",
              "    </tr>\n",
              "    <tr>\n",
              "      <th>AAA</th>\n",
              "      <td>True</td>\n",
              "      <td>Listed Funds Trust AAF First Priority CLO Bond...</td>\n",
              "      <td>P</td>\n",
              "      <td></td>\n",
              "      <td>True</td>\n",
              "      <td>100.0</td>\n",
              "      <td>False</td>\n",
              "      <td>NaN</td>\n",
              "      <td>AAA</td>\n",
              "      <td>AAA</td>\n",
              "      <td>False</td>\n",
              "    </tr>\n",
              "    <tr>\n",
              "      <th>AAAU</th>\n",
              "      <td>True</td>\n",
              "      <td>Goldman Sachs Physical Gold ETF Shares</td>\n",
              "      <td>Z</td>\n",
              "      <td></td>\n",
              "      <td>True</td>\n",
              "      <td>100.0</td>\n",
              "      <td>False</td>\n",
              "      <td>NaN</td>\n",
              "      <td>AAAU</td>\n",
              "      <td>AAAU</td>\n",
              "      <td>False</td>\n",
              "    </tr>\n",
              "    <tr>\n",
              "      <th>AAC</th>\n",
              "      <td>True</td>\n",
              "      <td>Ares Acquisition Corporation Class A Ordinary ...</td>\n",
              "      <td>N</td>\n",
              "      <td></td>\n",
              "      <td>False</td>\n",
              "      <td>100.0</td>\n",
              "      <td>False</td>\n",
              "      <td>NaN</td>\n",
              "      <td>AAC</td>\n",
              "      <td>AAC</td>\n",
              "      <td>False</td>\n",
              "    </tr>\n",
              "    <tr>\n",
              "      <th>...</th>\n",
              "      <td>...</td>\n",
              "      <td>...</td>\n",
              "      <td>...</td>\n",
              "      <td>...</td>\n",
              "      <td>...</td>\n",
              "      <td>...</td>\n",
              "      <td>...</td>\n",
              "      <td>...</td>\n",
              "      <td>...</td>\n",
              "      <td>...</td>\n",
              "      <td>...</td>\n",
              "    </tr>\n",
              "    <tr>\n",
              "      <th>ZXZZT</th>\n",
              "      <td>True</td>\n",
              "      <td>NASDAQ TEST STOCK</td>\n",
              "      <td>Q</td>\n",
              "      <td>G</td>\n",
              "      <td>False</td>\n",
              "      <td>100.0</td>\n",
              "      <td>True</td>\n",
              "      <td>N</td>\n",
              "      <td>NaN</td>\n",
              "      <td>ZXZZT</td>\n",
              "      <td>False</td>\n",
              "    </tr>\n",
              "    <tr>\n",
              "      <th>ZY</th>\n",
              "      <td>True</td>\n",
              "      <td>Zymergen Inc. - Common Stock</td>\n",
              "      <td>Q</td>\n",
              "      <td>Q</td>\n",
              "      <td>False</td>\n",
              "      <td>100.0</td>\n",
              "      <td>False</td>\n",
              "      <td>N</td>\n",
              "      <td>NaN</td>\n",
              "      <td>ZY</td>\n",
              "      <td>False</td>\n",
              "    </tr>\n",
              "    <tr>\n",
              "      <th>ZYME</th>\n",
              "      <td>True</td>\n",
              "      <td>Zymeworks Inc. Common Shares</td>\n",
              "      <td>N</td>\n",
              "      <td></td>\n",
              "      <td>False</td>\n",
              "      <td>100.0</td>\n",
              "      <td>False</td>\n",
              "      <td>NaN</td>\n",
              "      <td>ZYME</td>\n",
              "      <td>ZYME</td>\n",
              "      <td>False</td>\n",
              "    </tr>\n",
              "    <tr>\n",
              "      <th>ZYNE</th>\n",
              "      <td>True</td>\n",
              "      <td>Zynerba Pharmaceuticals, Inc. - Common Stock</td>\n",
              "      <td>Q</td>\n",
              "      <td>G</td>\n",
              "      <td>False</td>\n",
              "      <td>100.0</td>\n",
              "      <td>False</td>\n",
              "      <td>N</td>\n",
              "      <td>NaN</td>\n",
              "      <td>ZYNE</td>\n",
              "      <td>False</td>\n",
              "    </tr>\n",
              "    <tr>\n",
              "      <th>ZYXI</th>\n",
              "      <td>True</td>\n",
              "      <td>Zynex, Inc. - Common Stock</td>\n",
              "      <td>Q</td>\n",
              "      <td>Q</td>\n",
              "      <td>False</td>\n",
              "      <td>100.0</td>\n",
              "      <td>False</td>\n",
              "      <td>N</td>\n",
              "      <td>NaN</td>\n",
              "      <td>ZYXI</td>\n",
              "      <td>False</td>\n",
              "    </tr>\n",
              "  </tbody>\n",
              "</table>\n",
              "<p>12039 rows × 11 columns</p>\n",
              "</div>\n",
              "      <button class=\"colab-df-convert\" onclick=\"convertToInteractive('df-d8412296-1e6d-4d5c-9c42-038648650f96')\"\n",
              "              title=\"Convert this dataframe to an interactive table.\"\n",
              "              style=\"display:none;\">\n",
              "        \n",
              "  <svg xmlns=\"http://www.w3.org/2000/svg\" height=\"24px\"viewBox=\"0 0 24 24\"\n",
              "       width=\"24px\">\n",
              "    <path d=\"M0 0h24v24H0V0z\" fill=\"none\"/>\n",
              "    <path d=\"M18.56 5.44l.94 2.06.94-2.06 2.06-.94-2.06-.94-.94-2.06-.94 2.06-2.06.94zm-11 1L8.5 8.5l.94-2.06 2.06-.94-2.06-.94L8.5 2.5l-.94 2.06-2.06.94zm10 10l.94 2.06.94-2.06 2.06-.94-2.06-.94-.94-2.06-.94 2.06-2.06.94z\"/><path d=\"M17.41 7.96l-1.37-1.37c-.4-.4-.92-.59-1.43-.59-.52 0-1.04.2-1.43.59L10.3 9.45l-7.72 7.72c-.78.78-.78 2.05 0 2.83L4 21.41c.39.39.9.59 1.41.59.51 0 1.02-.2 1.41-.59l7.78-7.78 2.81-2.81c.8-.78.8-2.07 0-2.86zM5.41 20L4 18.59l7.72-7.72 1.47 1.35L5.41 20z\"/>\n",
              "  </svg>\n",
              "      </button>\n",
              "      \n",
              "  <style>\n",
              "    .colab-df-container {\n",
              "      display:flex;\n",
              "      flex-wrap:wrap;\n",
              "      gap: 12px;\n",
              "    }\n",
              "\n",
              "    .colab-df-convert {\n",
              "      background-color: #E8F0FE;\n",
              "      border: none;\n",
              "      border-radius: 50%;\n",
              "      cursor: pointer;\n",
              "      display: none;\n",
              "      fill: #1967D2;\n",
              "      height: 32px;\n",
              "      padding: 0 0 0 0;\n",
              "      width: 32px;\n",
              "    }\n",
              "\n",
              "    .colab-df-convert:hover {\n",
              "      background-color: #E2EBFA;\n",
              "      box-shadow: 0px 1px 2px rgba(60, 64, 67, 0.3), 0px 1px 3px 1px rgba(60, 64, 67, 0.15);\n",
              "      fill: #174EA6;\n",
              "    }\n",
              "\n",
              "    [theme=dark] .colab-df-convert {\n",
              "      background-color: #3B4455;\n",
              "      fill: #D2E3FC;\n",
              "    }\n",
              "\n",
              "    [theme=dark] .colab-df-convert:hover {\n",
              "      background-color: #434B5C;\n",
              "      box-shadow: 0px 1px 3px 1px rgba(0, 0, 0, 0.15);\n",
              "      filter: drop-shadow(0px 1px 2px rgba(0, 0, 0, 0.3));\n",
              "      fill: #FFFFFF;\n",
              "    }\n",
              "  </style>\n",
              "\n",
              "      <script>\n",
              "        const buttonEl =\n",
              "          document.querySelector('#df-d8412296-1e6d-4d5c-9c42-038648650f96 button.colab-df-convert');\n",
              "        buttonEl.style.display =\n",
              "          google.colab.kernel.accessAllowed ? 'block' : 'none';\n",
              "\n",
              "        async function convertToInteractive(key) {\n",
              "          const element = document.querySelector('#df-d8412296-1e6d-4d5c-9c42-038648650f96');\n",
              "          const dataTable =\n",
              "            await google.colab.kernel.invokeFunction('convertToInteractive',\n",
              "                                                     [key], {});\n",
              "          if (!dataTable) return;\n",
              "\n",
              "          const docLinkHtml = 'Like what you see? Visit the ' +\n",
              "            '<a target=\"_blank\" href=https://colab.research.google.com/notebooks/data_table.ipynb>data table notebook</a>'\n",
              "            + ' to learn more about interactive tables.';\n",
              "          element.innerHTML = '';\n",
              "          dataTable['output_type'] = 'display_data';\n",
              "          await google.colab.output.renderOutput(dataTable, element);\n",
              "          const docLink = document.createElement('div');\n",
              "          docLink.innerHTML = docLinkHtml;\n",
              "          element.appendChild(docLink);\n",
              "        }\n",
              "      </script>\n",
              "    </div>\n",
              "  </div>\n",
              "  "
            ],
            "text/plain": [
              "        Nasdaq Traded                                      Security Name  \\\n",
              "Symbol                                                                     \n",
              "A                True            Agilent Technologies, Inc. Common Stock   \n",
              "AA               True                    Alcoa Corporation Common Stock    \n",
              "AAA              True  Listed Funds Trust AAF First Priority CLO Bond...   \n",
              "AAAU             True             Goldman Sachs Physical Gold ETF Shares   \n",
              "AAC              True  Ares Acquisition Corporation Class A Ordinary ...   \n",
              "...               ...                                                ...   \n",
              "ZXZZT            True                                  NASDAQ TEST STOCK   \n",
              "ZY               True                       Zymergen Inc. - Common Stock   \n",
              "ZYME             True                       Zymeworks Inc. Common Shares   \n",
              "ZYNE             True       Zynerba Pharmaceuticals, Inc. - Common Stock   \n",
              "ZYXI             True                         Zynex, Inc. - Common Stock   \n",
              "\n",
              "       Listing Exchange Market Category    ETF  Round Lot Size  Test Issue  \\\n",
              "Symbol                                                                       \n",
              "A                     N                  False           100.0       False   \n",
              "AA                    N                  False           100.0       False   \n",
              "AAA                   P                   True           100.0       False   \n",
              "AAAU                  Z                   True           100.0       False   \n",
              "AAC                   N                  False           100.0       False   \n",
              "...                 ...             ...    ...             ...         ...   \n",
              "ZXZZT                 Q               G  False           100.0        True   \n",
              "ZY                    Q               Q  False           100.0       False   \n",
              "ZYME                  N                  False           100.0       False   \n",
              "ZYNE                  Q               G  False           100.0       False   \n",
              "ZYXI                  Q               Q  False           100.0       False   \n",
              "\n",
              "       Financial Status CQS Symbol NASDAQ Symbol  NextShares  \n",
              "Symbol                                                        \n",
              "A                   NaN          A             A       False  \n",
              "AA                  NaN         AA            AA       False  \n",
              "AAA                 NaN        AAA           AAA       False  \n",
              "AAAU                NaN       AAAU          AAAU       False  \n",
              "AAC                 NaN        AAC           AAC       False  \n",
              "...                 ...        ...           ...         ...  \n",
              "ZXZZT                 N        NaN         ZXZZT       False  \n",
              "ZY                    N        NaN            ZY       False  \n",
              "ZYME                NaN       ZYME          ZYME       False  \n",
              "ZYNE                  N        NaN          ZYNE       False  \n",
              "ZYXI                  N        NaN          ZYXI       False  \n",
              "\n",
              "[12039 rows x 11 columns]"
            ]
          },
          "metadata": {},
          "execution_count": 10
        }
      ]
    },
    {
      "cell_type": "markdown",
      "source": [
        "Tenemos un total de 12,033 acciones diferentes que cotizan en el Nasdaq, y en cuyas columnas tenemos diferente información económica y financiera sobre esa acción. Pero, ¿qué ocurre si queremos acceder a un solo símbolo/acción?"
      ],
      "metadata": {
        "id": "sRPFo5wbNS2r"
      }
    },
    {
      "cell_type": "code",
      "source": [
        "symbols.loc['IBM']"
      ],
      "metadata": {
        "colab": {
          "base_uri": "https://localhost:8080/"
        },
        "id": "Gw8StRP1NWr_",
        "outputId": "66e188d2-bd2f-45c9-f050-0bf8c35f6891"
      },
      "execution_count": null,
      "outputs": [
        {
          "output_type": "execute_result",
          "data": {
            "text/plain": [
              "Nasdaq Traded                                                    True\n",
              "Security Name       International Business Machines Corporation Co...\n",
              "Listing Exchange                                                    N\n",
              "Market Category                                                      \n",
              "ETF                                                             False\n",
              "Round Lot Size                                                  100.0\n",
              "Test Issue                                                      False\n",
              "Financial Status                                                  NaN\n",
              "CQS Symbol                                                        IBM\n",
              "NASDAQ Symbol                                                     IBM\n",
              "NextShares                                                      False\n",
              "Name: IBM, dtype: object"
            ]
          },
          "metadata": {},
          "execution_count": 11
        }
      ]
    },
    {
      "cell_type": "markdown",
      "source": [
        "## Importación con y finance"
      ],
      "metadata": {
        "id": "0vliRk7XNzzp"
      }
    },
    {
      "cell_type": "markdown",
      "source": [
        "El análisis técnico en finanzas es el tipo de análisis que se realiza mediante estadísticas y gráficos sobre acciones (o índices en nuestro caso). Vamos a ver cómo hacer algo muy sencillo con 'Plotly' una librería de Python para hacer gráficos. En este caso accederemos a las cotizaciones diarias de Microsoft."
      ],
      "metadata": {
        "id": "Hpjm25gZN5cW"
      }
    },
    {
      "cell_type": "code",
      "source": [
        "import plotly.graph_objects as go"
      ],
      "metadata": {
        "id": "QRnxdmZCNXjc"
      },
      "execution_count": null,
      "outputs": []
    },
    {
      "cell_type": "code",
      "source": [
        "!pip install yfinance\n",
        "import yfinance as yf\n",
        "\n",
        "start = '2020-01-01'\n",
        "\n",
        "symbol = 'GOOGL'\n",
        "stock_data = yf.Ticker(symbol)\n",
        "stock_data = stock_data.history(start=start)#, end=end) "
      ],
      "metadata": {
        "colab": {
          "base_uri": "https://localhost:8080/"
        },
        "id": "0X6JUiqBPEgy",
        "outputId": "66aace32-8222-47e4-91db-a9913947b70f"
      },
      "execution_count": null,
      "outputs": [
        {
          "output_type": "stream",
          "name": "stdout",
          "text": [
            "Requirement already satisfied: yfinance in /usr/local/lib/python3.7/dist-packages (0.1.70)\n",
            "Requirement already satisfied: multitasking>=0.0.7 in /usr/local/lib/python3.7/dist-packages (from yfinance) (0.0.10)\n",
            "Requirement already satisfied: pandas>=0.24.0 in /usr/local/lib/python3.7/dist-packages (from yfinance) (1.3.5)\n",
            "Requirement already satisfied: numpy>=1.15 in /usr/local/lib/python3.7/dist-packages (from yfinance) (1.21.5)\n",
            "Requirement already satisfied: requests>=2.26 in /usr/local/lib/python3.7/dist-packages (from yfinance) (2.27.1)\n",
            "Requirement already satisfied: lxml>=4.5.1 in /usr/local/lib/python3.7/dist-packages (from yfinance) (4.8.0)\n",
            "Requirement already satisfied: pytz>=2017.3 in /usr/local/lib/python3.7/dist-packages (from pandas>=0.24.0->yfinance) (2018.9)\n",
            "Requirement already satisfied: python-dateutil>=2.7.3 in /usr/local/lib/python3.7/dist-packages (from pandas>=0.24.0->yfinance) (2.8.2)\n",
            "Requirement already satisfied: six>=1.5 in /usr/local/lib/python3.7/dist-packages (from python-dateutil>=2.7.3->pandas>=0.24.0->yfinance) (1.15.0)\n",
            "Requirement already satisfied: charset-normalizer~=2.0.0 in /usr/local/lib/python3.7/dist-packages (from requests>=2.26->yfinance) (2.0.12)\n",
            "Requirement already satisfied: idna<4,>=2.5 in /usr/local/lib/python3.7/dist-packages (from requests>=2.26->yfinance) (2.10)\n",
            "Requirement already satisfied: certifi>=2017.4.17 in /usr/local/lib/python3.7/dist-packages (from requests>=2.26->yfinance) (2021.10.8)\n",
            "Requirement already satisfied: urllib3<1.27,>=1.21.1 in /usr/local/lib/python3.7/dist-packages (from requests>=2.26->yfinance) (1.24.3)\n"
          ]
        }
      ]
    },
    {
      "cell_type": "code",
      "source": [
        "stock_data"
      ],
      "metadata": {
        "colab": {
          "base_uri": "https://localhost:8080/",
          "height": 710
        },
        "id": "jMSkGfg9RWbi",
        "outputId": "d3d66c70-d423-42ca-bd87-070a66226f5f"
      },
      "execution_count": null,
      "outputs": [
        {
          "output_type": "execute_result",
          "data": {
            "text/html": [
              "\n",
              "  <div id=\"df-19dcc7c0-12ca-4c84-a5ef-1481d4ef166a\">\n",
              "    <div class=\"colab-df-container\">\n",
              "      <div>\n",
              "<style scoped>\n",
              "    .dataframe tbody tr th:only-of-type {\n",
              "        vertical-align: middle;\n",
              "    }\n",
              "\n",
              "    .dataframe tbody tr th {\n",
              "        vertical-align: top;\n",
              "    }\n",
              "\n",
              "    .dataframe thead th {\n",
              "        text-align: right;\n",
              "    }\n",
              "</style>\n",
              "<table border=\"1\" class=\"dataframe\">\n",
              "  <thead>\n",
              "    <tr style=\"text-align: right;\">\n",
              "      <th></th>\n",
              "      <th>Open</th>\n",
              "      <th>High</th>\n",
              "      <th>Low</th>\n",
              "      <th>Close</th>\n",
              "      <th>Volume</th>\n",
              "      <th>Dividends</th>\n",
              "      <th>Stock Splits</th>\n",
              "    </tr>\n",
              "    <tr>\n",
              "      <th>Date</th>\n",
              "      <th></th>\n",
              "      <th></th>\n",
              "      <th></th>\n",
              "      <th></th>\n",
              "      <th></th>\n",
              "      <th></th>\n",
              "      <th></th>\n",
              "    </tr>\n",
              "  </thead>\n",
              "  <tbody>\n",
              "    <tr>\n",
              "      <th>2020-01-02</th>\n",
              "      <td>1348.410034</td>\n",
              "      <td>1368.680054</td>\n",
              "      <td>1346.489990</td>\n",
              "      <td>1368.680054</td>\n",
              "      <td>1363900</td>\n",
              "      <td>0</td>\n",
              "      <td>0</td>\n",
              "    </tr>\n",
              "    <tr>\n",
              "      <th>2020-01-03</th>\n",
              "      <td>1348.000000</td>\n",
              "      <td>1373.750000</td>\n",
              "      <td>1347.319946</td>\n",
              "      <td>1361.520020</td>\n",
              "      <td>1170400</td>\n",
              "      <td>0</td>\n",
              "      <td>0</td>\n",
              "    </tr>\n",
              "    <tr>\n",
              "      <th>2020-01-06</th>\n",
              "      <td>1351.630005</td>\n",
              "      <td>1398.319946</td>\n",
              "      <td>1351.000000</td>\n",
              "      <td>1397.810059</td>\n",
              "      <td>2338400</td>\n",
              "      <td>0</td>\n",
              "      <td>0</td>\n",
              "    </tr>\n",
              "    <tr>\n",
              "      <th>2020-01-07</th>\n",
              "      <td>1400.459961</td>\n",
              "      <td>1403.500000</td>\n",
              "      <td>1391.560059</td>\n",
              "      <td>1395.109985</td>\n",
              "      <td>1716500</td>\n",
              "      <td>0</td>\n",
              "      <td>0</td>\n",
              "    </tr>\n",
              "    <tr>\n",
              "      <th>2020-01-08</th>\n",
              "      <td>1394.819946</td>\n",
              "      <td>1411.849976</td>\n",
              "      <td>1392.630005</td>\n",
              "      <td>1405.040039</td>\n",
              "      <td>1765700</td>\n",
              "      <td>0</td>\n",
              "      <td>0</td>\n",
              "    </tr>\n",
              "    <tr>\n",
              "      <th>...</th>\n",
              "      <td>...</td>\n",
              "      <td>...</td>\n",
              "      <td>...</td>\n",
              "      <td>...</td>\n",
              "      <td>...</td>\n",
              "      <td>...</td>\n",
              "      <td>...</td>\n",
              "    </tr>\n",
              "    <tr>\n",
              "      <th>2022-02-25</th>\n",
              "      <td>2671.040039</td>\n",
              "      <td>2705.429932</td>\n",
              "      <td>2635.030029</td>\n",
              "      <td>2689.189941</td>\n",
              "      <td>1820300</td>\n",
              "      <td>0</td>\n",
              "      <td>0</td>\n",
              "    </tr>\n",
              "    <tr>\n",
              "      <th>2022-02-28</th>\n",
              "      <td>2661.000000</td>\n",
              "      <td>2715.030029</td>\n",
              "      <td>2651.850098</td>\n",
              "      <td>2701.139893</td>\n",
              "      <td>1939400</td>\n",
              "      <td>0</td>\n",
              "      <td>0</td>\n",
              "    </tr>\n",
              "    <tr>\n",
              "      <th>2022-03-01</th>\n",
              "      <td>2697.570068</td>\n",
              "      <td>2725.110107</td>\n",
              "      <td>2664.370117</td>\n",
              "      <td>2681.229980</td>\n",
              "      <td>1324800</td>\n",
              "      <td>0</td>\n",
              "      <td>0</td>\n",
              "    </tr>\n",
              "    <tr>\n",
              "      <th>2022-03-02</th>\n",
              "      <td>2692.560059</td>\n",
              "      <td>2705.250000</td>\n",
              "      <td>2661.429932</td>\n",
              "      <td>2691.429932</td>\n",
              "      <td>1174600</td>\n",
              "      <td>0</td>\n",
              "      <td>0</td>\n",
              "    </tr>\n",
              "    <tr>\n",
              "      <th>2022-03-03</th>\n",
              "      <td>2720.199951</td>\n",
              "      <td>2728.789795</td>\n",
              "      <td>2674.010010</td>\n",
              "      <td>2691.295410</td>\n",
              "      <td>776242</td>\n",
              "      <td>0</td>\n",
              "      <td>0</td>\n",
              "    </tr>\n",
              "  </tbody>\n",
              "</table>\n",
              "<p>547 rows × 7 columns</p>\n",
              "</div>\n",
              "      <button class=\"colab-df-convert\" onclick=\"convertToInteractive('df-19dcc7c0-12ca-4c84-a5ef-1481d4ef166a')\"\n",
              "              title=\"Convert this dataframe to an interactive table.\"\n",
              "              style=\"display:none;\">\n",
              "        \n",
              "  <svg xmlns=\"http://www.w3.org/2000/svg\" height=\"24px\"viewBox=\"0 0 24 24\"\n",
              "       width=\"24px\">\n",
              "    <path d=\"M0 0h24v24H0V0z\" fill=\"none\"/>\n",
              "    <path d=\"M18.56 5.44l.94 2.06.94-2.06 2.06-.94-2.06-.94-.94-2.06-.94 2.06-2.06.94zm-11 1L8.5 8.5l.94-2.06 2.06-.94-2.06-.94L8.5 2.5l-.94 2.06-2.06.94zm10 10l.94 2.06.94-2.06 2.06-.94-2.06-.94-.94-2.06-.94 2.06-2.06.94z\"/><path d=\"M17.41 7.96l-1.37-1.37c-.4-.4-.92-.59-1.43-.59-.52 0-1.04.2-1.43.59L10.3 9.45l-7.72 7.72c-.78.78-.78 2.05 0 2.83L4 21.41c.39.39.9.59 1.41.59.51 0 1.02-.2 1.41-.59l7.78-7.78 2.81-2.81c.8-.78.8-2.07 0-2.86zM5.41 20L4 18.59l7.72-7.72 1.47 1.35L5.41 20z\"/>\n",
              "  </svg>\n",
              "      </button>\n",
              "      \n",
              "  <style>\n",
              "    .colab-df-container {\n",
              "      display:flex;\n",
              "      flex-wrap:wrap;\n",
              "      gap: 12px;\n",
              "    }\n",
              "\n",
              "    .colab-df-convert {\n",
              "      background-color: #E8F0FE;\n",
              "      border: none;\n",
              "      border-radius: 50%;\n",
              "      cursor: pointer;\n",
              "      display: none;\n",
              "      fill: #1967D2;\n",
              "      height: 32px;\n",
              "      padding: 0 0 0 0;\n",
              "      width: 32px;\n",
              "    }\n",
              "\n",
              "    .colab-df-convert:hover {\n",
              "      background-color: #E2EBFA;\n",
              "      box-shadow: 0px 1px 2px rgba(60, 64, 67, 0.3), 0px 1px 3px 1px rgba(60, 64, 67, 0.15);\n",
              "      fill: #174EA6;\n",
              "    }\n",
              "\n",
              "    [theme=dark] .colab-df-convert {\n",
              "      background-color: #3B4455;\n",
              "      fill: #D2E3FC;\n",
              "    }\n",
              "\n",
              "    [theme=dark] .colab-df-convert:hover {\n",
              "      background-color: #434B5C;\n",
              "      box-shadow: 0px 1px 3px 1px rgba(0, 0, 0, 0.15);\n",
              "      filter: drop-shadow(0px 1px 2px rgba(0, 0, 0, 0.3));\n",
              "      fill: #FFFFFF;\n",
              "    }\n",
              "  </style>\n",
              "\n",
              "      <script>\n",
              "        const buttonEl =\n",
              "          document.querySelector('#df-19dcc7c0-12ca-4c84-a5ef-1481d4ef166a button.colab-df-convert');\n",
              "        buttonEl.style.display =\n",
              "          google.colab.kernel.accessAllowed ? 'block' : 'none';\n",
              "\n",
              "        async function convertToInteractive(key) {\n",
              "          const element = document.querySelector('#df-19dcc7c0-12ca-4c84-a5ef-1481d4ef166a');\n",
              "          const dataTable =\n",
              "            await google.colab.kernel.invokeFunction('convertToInteractive',\n",
              "                                                     [key], {});\n",
              "          if (!dataTable) return;\n",
              "\n",
              "          const docLinkHtml = 'Like what you see? Visit the ' +\n",
              "            '<a target=\"_blank\" href=https://colab.research.google.com/notebooks/data_table.ipynb>data table notebook</a>'\n",
              "            + ' to learn more about interactive tables.';\n",
              "          element.innerHTML = '';\n",
              "          dataTable['output_type'] = 'display_data';\n",
              "          await google.colab.output.renderOutput(dataTable, element);\n",
              "          const docLink = document.createElement('div');\n",
              "          docLink.innerHTML = docLinkHtml;\n",
              "          element.appendChild(docLink);\n",
              "        }\n",
              "      </script>\n",
              "    </div>\n",
              "  </div>\n",
              "  "
            ],
            "text/plain": [
              "                   Open         High          Low        Close   Volume  \\\n",
              "Date                                                                      \n",
              "2020-01-02  1348.410034  1368.680054  1346.489990  1368.680054  1363900   \n",
              "2020-01-03  1348.000000  1373.750000  1347.319946  1361.520020  1170400   \n",
              "2020-01-06  1351.630005  1398.319946  1351.000000  1397.810059  2338400   \n",
              "2020-01-07  1400.459961  1403.500000  1391.560059  1395.109985  1716500   \n",
              "2020-01-08  1394.819946  1411.849976  1392.630005  1405.040039  1765700   \n",
              "...                 ...          ...          ...          ...      ...   \n",
              "2022-02-25  2671.040039  2705.429932  2635.030029  2689.189941  1820300   \n",
              "2022-02-28  2661.000000  2715.030029  2651.850098  2701.139893  1939400   \n",
              "2022-03-01  2697.570068  2725.110107  2664.370117  2681.229980  1324800   \n",
              "2022-03-02  2692.560059  2705.250000  2661.429932  2691.429932  1174600   \n",
              "2022-03-03  2720.199951  2728.789795  2674.010010  2691.295410   776242   \n",
              "\n",
              "            Dividends  Stock Splits  \n",
              "Date                                 \n",
              "2020-01-02          0             0  \n",
              "2020-01-03          0             0  \n",
              "2020-01-06          0             0  \n",
              "2020-01-07          0             0  \n",
              "2020-01-08          0             0  \n",
              "...               ...           ...  \n",
              "2022-02-25          0             0  \n",
              "2022-02-28          0             0  \n",
              "2022-03-01          0             0  \n",
              "2022-03-02          0             0  \n",
              "2022-03-03          0             0  \n",
              "\n",
              "[547 rows x 7 columns]"
            ]
          },
          "metadata": {},
          "execution_count": 14
        }
      ]
    },
    {
      "cell_type": "markdown",
      "source": [
        "Hemos accedido a los datos de GOOGL. Lo hemos hecho importando con Yahoo Finance para importar los datos desde una API. Ahora vamos a graficar el resultado para hacer un Análisis Técnico."
      ],
      "metadata": {
        "id": "faWWglUbOYXP"
      }
    },
    {
      "cell_type": "code",
      "source": [
        "graph = {\n",
        "    'x': stock_data.index,\n",
        "    'open': stock_data.Open,\n",
        "    'close': stock_data.Close,\n",
        "    'high': stock_data.High,\n",
        "    'low': stock_data.Low,\n",
        "    'type': 'candlestick',\n",
        "    'name': 'GOOGL',\n",
        "    'showlegend': True\n",
        "}\n",
        "\n",
        "layout = go.Figure(\n",
        "    data = [graph],\n",
        "    layout_title=\"GOOGLE Stock\"\n",
        ")\n",
        "\n",
        "layout"
      ],
      "metadata": {
        "colab": {
          "base_uri": "https://localhost:8080/",
          "height": 542
        },
        "id": "ihGLa0BQNXbo",
        "outputId": "5afa8350-6956-45e3-ac14-9c8a1acbb3a0"
      },
      "execution_count": null,
      "outputs": [
        {
          "output_type": "display_data",
          "data": {
            "text/html": [
              "<html>\n",
              "<head><meta charset=\"utf-8\" /></head>\n",
              "<body>\n",
              "    <div>            <script src=\"https://cdnjs.cloudflare.com/ajax/libs/mathjax/2.7.5/MathJax.js?config=TeX-AMS-MML_SVG\"></script><script type=\"text/javascript\">if (window.MathJax) {MathJax.Hub.Config({SVG: {font: \"STIX-Web\"}});}</script>                <script type=\"text/javascript\">window.PlotlyConfig = {MathJaxConfig: 'local'};</script>\n",
              "        <script src=\"https://cdn.plot.ly/plotly-2.8.3.min.js\"></script>                <div id=\"0eeec1d7-490c-462a-9a2d-e679d4b22ce5\" class=\"plotly-graph-div\" style=\"height:525px; width:100%;\"></div>            <script type=\"text/javascript\">                                    window.PLOTLYENV=window.PLOTLYENV || {};                                    if (document.getElementById(\"0eeec1d7-490c-462a-9a2d-e679d4b22ce5\")) {                    Plotly.newPlot(                        \"0eeec1d7-490c-462a-9a2d-e679d4b22ce5\",                        [{\"close\":[1368.6800537109375,1361.52001953125,1397.81005859375,1395.1099853515625,1405.0400390625,1419.7900390625,1428.9599609375,1440.030029296875,1430.5899658203125,1439.199951171875,1450.1600341796875,1479.52001953125,1482.25,1483.8699951171875,1484.68994140625,1466.1700439453125,1431.72998046875,1450.5,1456.699951171875,1454.25,1432.780029296875,1482.5999755859375,1445.4100341796875,1446.050048828125,1475.969970703125,1479.1099853515625,1508.6600341796875,1510.06005859375,1518.6300048828125,1513.3900146484375,1518.72998046875,1519.43994140625,1524.8699951171875,1516.989990234375,1483.4599609375,1419.8599853515625,1386.3199462890625,1390.469970703125,1314.949951171875,1339.25,1386.3199462890625,1337.719970703125,1381.5999755859375,1314.760009765625,1295.739990234375,1215.7900390625,1275.1700439453125,1210.9000244140625,1111.550048828125,1214.27001953125,1073.0,1118.06005859375,1091.18994140625,1111.6700439453125,1068.2099609375,1054.1300048828125,1130.010009765625,1101.6199951171875,1162.9200439453125,1110.260009765625,1146.31005859375,1161.949951171875,1102.0999755859375,1117.030029296875,1092.699951171875,1183.18994140625,1182.56005859375,1207.0,1206.5699462890625,1210.4100341796875,1265.22998046875,1257.300048828125,1257.4300537109375,1279.0,1261.1500244140625,1212.1600341796875,1258.4100341796875,1271.1700439453125,1276.5999755859375,1270.8599853515625,1232.5899658203125,1342.1800537109375,1346.699951171875,1317.3199462890625,1322.9000244140625,1349.02001953125,1345.4300537109375,1369.280029296875,1384.3399658203125,1403.5899658203125,1375.1800537109375,1348.3299560546875,1356.8599853515625,1373.06005859375,1385.1800537109375,1374.4000244140625,1409.1600341796875,1406.75,1413.239990234375,1421.3699951171875,1420.280029296875,1418.239990234375,1433.52001953125,1434.8699951171875,1442.31005859375,1439.25,1414.300048828125,1440.02001953125,1448.0400390625,1452.0799560546875,1464.699951171875,1401.9000244140625,1412.9200439453125,1420.739990234375,1446.469970703125,1452.5400390625,1434.1199951171875,1424.6400146484375,1450.6600341796875,1463.97998046875,1432.699951171875,1441.0999755859375,1362.5400390625,1397.1700439453125,1418.050048828125,1442.0,1469.9300537109375,1499.6500244140625,1489.9200439453125,1503.5999755859375,1518.6600341796875,1539.010009765625,1512.22998046875,1520.8599853515625,1516.8800048828125,1514.9200439453125,1516.8499755859375,1563.8399658203125,1555.9200439453125,1564.8499755859375,1516.75,1508.2099609375,1529.4300537109375,1503.6500244140625,1523.510009765625,1538.3699951171875,1487.949951171875,1482.760009765625,1473.300048828125,1479.0899658203125,1504.949951171875,1498.3699951171875,1496.8199462890625,1480.5400390625,1507.239990234375,1516.6500244140625,1504.6300048828125,1516.239990234375,1555.780029296875,1544.6099853515625,1576.25,1575.5699462890625,1585.1500244140625,1605.8499755859375,1644.1300048828125,1628.52001953125,1639.4300537109375,1629.530029296875,1655.0799560546875,1717.3900146484375,1629.510009765625,1581.2099609375,1523.5999755859375,1547.22998046875,1526.050048828125,1515.760009765625,1508.8299560546875,1535.1199951171875,1512.0899658203125,1487.0400390625,1451.0899658203125,1430.1400146484375,1459.8199462890625,1409.3900146484375,1422.8599853515625,1439.06005859375,1458.6600341796875,1466.02001953125,1465.5999755859375,1487.9000244140625,1455.5999755859375,1482.8299560546875,1451.02001953125,1459.1400146484375,1483.4300537109375,1510.449951171875,1564.5899658203125,1567.0699462890625,1563.43994140625,1555.469970703125,1567.699951171875,1529.949951171875,1551.0799560546875,1585.989990234375,1606.6600341796875,1632.97998046875,1584.2900390625,1598.8800048828125,1510.800048828125,1556.8800048828125,1616.1099853515625,1624.3199462890625,1645.6600341796875,1745.8499755859375,1762.5,1759.72998046875,1761.4200439453125,1737.719970703125,1747.22998046875,1742.8199462890625,1772.260009765625,1774.030029296875,1761.6600341796875,1740.6400146484375,1758.5699462890625,1736.3800048828125,1727.56005859375,1763.9000244140625,1764.1300048828125,1787.02001953125,1754.4000244140625,1795.3599853515625,1824.969970703125,1821.8399658203125,1823.760009765625,1817.030029296875,1811.3299560546875,1777.8599853515625,1767.6500244140625,1774.800048828125,1752.260009765625,1761.0799560546875,1757.18994140625,1740.510009765625,1726.219970703125,1734.56005859375,1720.219970703125,1728.22998046875,1734.1600341796875,1773.9599609375,1757.760009765625,1736.25,1752.6400146484375,1726.1300048828125,1740.050048828125,1722.8800048828125,1774.3399658203125,1797.8299560546875,1756.2900390625,1737.4300537109375,1747.25,1730.9200439453125,1727.6199951171875,1784.469970703125,1880.0699462890625,1884.1500244140625,1892.56005859375,1894.280029296875,1907.949951171875,1818.93994140625,1853.199951171875,1827.3599853515625,1893.0699462890625,1919.1199951171875,2058.8798828125,2053.6298828125,2088.830078125,2084.52001953125,2075.389892578125,2086.47998046875,2088.75,2095.030029296875,2110.699951171875,2118.6201171875,2105.81005859375,2088.81005859375,2054.260009765625,2060.1201171875,2083.81005859375,2015.949951171875,2021.9100341796875,2069.659912109375,2064.47998046875,2011.4100341796875,2033.9300537109375,2097.070068359375,2007.5,2040.3599853515625,2036.18994140625,2100.5400390625,2050.0,2054.43994140625,2083.889892578125,2082.219970703125,2021.3399658203125,2026.9599609375,2030.68994140625,2041.3299560546875,2032.530029296875,2032.4599609375,2024.72998046875,2045.7900390625,2046.469970703125,2062.52001953125,2129.780029296875,2218.9599609375,2209.260009765625,2239.030029296875,2250.429931640625,2270.669921875,2244.6201171875,2254.429931640625,2241.909912109375,2285.25,2282.75,2289.760009765625,2279.010009765625,2278.35009765625,2252.52001953125,2299.929931640625,2309.929931640625,2290.97998046875,2359.0400390625,2392.760009765625,2353.5,2343.080078125,2306.830078125,2314.77001953125,2337.35009765625,2351.929931640625,2291.75,2270.06005859375,2200.25,2229.0400390625,2278.3798828125,2288.919921875,2262.469970703125,2271.5,2306.949951171875,2294.1298828125,2361.0400390625,2362.8701171875,2380.31005859375,2362.679931640625,2356.85009765625,2381.179931640625,2370.590087890625,2347.580078125,2393.570068359375,2402.300048828125,2398.43994140625,2407.93994140625,2435.1298828125,2430.199951171875,2448.909912109375,2428.389892578125,2415.449951171875,2434.8701171875,2402.219970703125,2436.25,2446.610107421875,2442.5400390625,2450.0,2450.169921875,2450.719970703125,2445.449951171875,2441.7900390625,2448.889892578125,2505.14990234375,2523.800048828125,2529.47998046875,2500.8798828125,2510.3701171875,2539.510009765625,2546.830078125,2564.739990234375,2540.10009765625,2539.39990234375,2491.56005859375,2524.18994140625,2550.97998046875,2568.429931640625,2660.300048828125,2680.699951171875,2638.0,2721.8798828125,2715.550048828125,2694.530029296875,2697.090087890625,2712.60009765625,2702.510009765625,2725.030029296875,2714.77001953125,2738.260009765625,2736.139892578125,2725.580078125,2743.8798828125,2754.550048828125,2766.18994140625,2733.22998046875,2708.97998046875,2713.60009765625,2748.590087890625,2800.830078125,2825.22998046875,2841.580078125,2828.81005859375,2880.080078125,2891.81005859375,2893.949951171875,2904.31005859375,2865.739990234375,2874.7900390625,2885.610107421875,2873.820068359375,2870.820068359375,2817.52001953125,2846.64990234375,2850.889892578125,2888.590087890625,2872.199951171875,2816.0,2774.389892578125,2780.659912109375,2805.669921875,2824.320068359375,2844.300048828125,2821.43994140625,2716.60009765625,2687.070068359375,2673.52001953125,2730.860107421875,2673.18994140625,2720.4599609375,2751.300048828125,2784.5,2795.7099609375,2778.280029296875,2728.97998046875,2751.639892578125,2823.02001953125,2827.360107421875,2855.56005859375,2864.739990234375,2835.3798828125,2837.719970703125,2751.330078125,2748.93994140625,2786.169921875,2924.35009765625,2916.97998046875,2960.919921875,2869.93994140625,2908.64990234375,2931.9599609375,2965.35009765625,2977.0400390625,2980.6201171875,2978.3701171875,2917.8701171875,2915.330078125,2973.56005859375,2969.0400390625,2957.52001953125,2960.93994140625,2996.77001953125,2978.530029296875,2926.0400390625,2915.639892578125,2922.39990234375,2843.659912109375,2910.610107421875,2837.949951171875,2821.030029296875,2859.320068359375,2840.030029296875,2863.10009765625,2945.389892578125,2963.72998046875,2952.77001953125,2960.030029296875,2916.530029296875,2878.139892578125,2928.820068359375,2888.89990234375,2834.5,2832.139892578125,2869.449951171875,2928.300048828125,2938.330078125,2958.1298828125,2933.739990234375,2933.10009765625,2924.010009765625,2897.0400390625,2899.830078125,2887.989990234375,2755.5,2754.949951171875,2740.340087890625,2773.389892578125,2794.719970703125,2828.610107421875,2771.739990234375,2789.610107421875,2719.9599609375,2702.330078125,2666.14990234375,2607.030029296875,2616.080078125,2538.699951171875,2584.659912109375,2580.10009765625,2667.02001953125,2706.070068359375,2752.8798828125,2960.0,2861.800048828125,2865.860107421875,2784.02001953125,2787.97998046875,2831.840087890625,2772.39990234375,2685.64990234375,2710.52001953125,2732.169921875,2754.760009765625,2650.780029296875,2608.06005859375,2596.27001953125,2551.760009765625,2653.820068359375,2689.18994140625,2701.139892578125,2681.22998046875,2691.429931640625,2691.29541015625],\"high\":[1368.6800537109375,1373.75,1398.3199462890625,1403.5,1411.8499755859375,1428.6800537109375,1434.93994140625,1441.47998046875,1442.6300048828125,1440.780029296875,1450.699951171875,1480.550048828125,1489.8800048828125,1500.5799560546875,1493.5,1494.199951171875,1436.5799560546875,1454.800048828125,1464.1400146484375,1455.25,1469.6700439453125,1486.300048828125,1467.3399658203125,1464.5799560546875,1481.56005859375,1485.25,1508.8800048828125,1529.8800048828125,1520.300048828125,1525.949951171875,1520.050048828125,1530.56005859375,1530.739990234375,1527.0699462890625,1510.949951171875,1436.3800048828125,1436.8499755859375,1413.6700439453125,1369.4000244140625,1342.449951171875,1387.469970703125,1408.18994140625,1382.780029296875,1353.6300048828125,1302.75,1252.72998046875,1275.8499755859375,1256.9300537109375,1188.75,1214.4000244140625,1145.469970703125,1126.0,1104.989990234375,1152.6099853515625,1138.47998046875,1066.9100341796875,1133.3299560546875,1146.1700439453125,1171.47998046875,1151.050048828125,1151.0,1173.4000244140625,1129.4200439453125,1122.77001953125,1118.7900390625,1190.75,1220.780029296875,1214.9000244140625,1221.989990234375,1214.52001953125,1275.75,1275.1099853515625,1273.3599853515625,1290.0,1276.8199462890625,1250.0,1279.8800048828125,1288.1500244140625,1277.7099609375,1294.0999755859375,1284.760009765625,1360.1500244140625,1350.0,1351.4300537109375,1324.469970703125,1371.010009765625,1368.68994140625,1376.0,1396.6400146484375,1415.530029296875,1414.3299560546875,1385.3299560546875,1357.3699951171875,1374.5799560546875,1392.760009765625,1392.489990234375,1412.030029296875,1416.4599609375,1417.0,1445.1099853515625,1425.3499755859375,1444.4599609375,1436.72998046875,1441.5799560546875,1443.0,1449.010009765625,1441.3199462890625,1446.300048828125,1449.0,1467.800048828125,1472.77001953125,1451.5999755859375,1434.510009765625,1425.0,1457.1700439453125,1462.199951171875,1452.969970703125,1444.5,1450.949951171875,1475.199951171875,1475.7900390625,1442.3199462890625,1437.02001953125,1398.0,1424.0,1448.47998046875,1488.52001953125,1510.0,1521.3199462890625,1511.1700439453125,1529.1400146484375,1541.3399658203125,1576.3599853515625,1522.800048828125,1536.3299560546875,1515.9100341796875,1523.4300537109375,1569.010009765625,1587.050048828125,1566.97998046875,1570.3499755859375,1515.4300537109375,1537.56005859375,1526.010009765625,1533.3299560546875,1540.8900146484375,1505.02001953125,1497.72998046875,1493.1099853515625,1490.0,1506.27001953125,1520.0899658203125,1507.1500244140625,1510.43994140625,1511.6700439453125,1536.969970703125,1519.7900390625,1523.780029296875,1557.3699951171875,1568.8599853515625,1580.1700439453125,1591.8800048828125,1608.780029296875,1608.8800048828125,1652.7900390625,1647.989990234375,1641.3499755859375,1644.5,1659.219970703125,1726.0999755859375,1700.0,1634.989990234375,1555.550048828125,1558.719970703125,1573.6600341796875,1538.699951171875,1557.0,1550.989990234375,1554.3699951171875,1498.6600341796875,1495.199951171875,1440.06005859375,1463.969970703125,1453.0799560546875,1437.989990234375,1445.93994140625,1472.989990234375,1472.0,1486.199951171875,1495.0699462890625,1479.030029296875,1484.699951171875,1484.52001953125,1468.969970703125,1488.030029296875,1511.8499755859375,1588.4200439453125,1585.1600341796875,1583.8499755859375,1571.4000244140625,1577.7099609375,1583.9300537109375,1573.8399658203125,1615.1400146484375,1613.4200439453125,1634.1199951171875,1629.5799560546875,1602.0,1553.81005859375,1588.739990234375,1681.3199462890625,1658.239990234375,1659.0,1770.030029296875,1791.8199462890625,1768.5,1816.8900146484375,1759.3800048828125,1762.9000244140625,1764.97998046875,1777.1300048828125,1794.3399658203125,1777.1400146484375,1765.0,1763.489990234375,1768.3599853515625,1745.989990234375,1766.47998046875,1770.3800048828125,1797.010009765625,1780.3399658203125,1821.719970703125,1832.739990234375,1843.8299560546875,1829.5,1829.2900390625,1815.969970703125,1828.3699951171875,1774.989990234375,1777.31005859375,1789.800048828125,1764.0,1769.1099853515625,1766.7099609375,1748.3599853515625,1737.0,1732.6099853515625,1744.1099853515625,1742.4100341796875,1787.0,1788.469970703125,1767.760009765625,1757.5,1762.489990234375,1746.8299560546875,1743.969970703125,1777.8199462890625,1799.3599853515625,1784.3800048828125,1767.9000244140625,1756.3900146484375,1767.550048828125,1747.6199951171875,1803.8399658203125,1899.719970703125,1932.0799560546875,1904.3900146484375,1921.8199462890625,1915.75,1880.469970703125,1887.989990234375,1847.5400390625,1915.5400390625,1949.3699951171875,2106.6201171875,2069.300048828125,2095.93994140625,2115.0,2098.510009765625,2098.8798828125,2094.0,2099.5,2145.139892578125,2122.43994140625,2121.989990234375,2118.580078125,2080.330078125,2072.5,2088.320068359375,2083.0,2056.52001953125,2076.22998046875,2094.739990234375,2075.989990234375,2074.590087890625,2106.199951171875,2113.739990234375,2063.919921875,2061.39990234375,2111.27001953125,2077.610107421875,2054.989990234375,2113.679931640625,2099.0,2068.75,2037.0400390625,2048.340087890625,2064.110107421875,2067.60009765625,2045.6400146484375,2039.3900146484375,2049.2099609375,2062.669921875,2086.260009765625,2135.75,2228.989990234375,2228.0,2244.5,2271.7900390625,2273.969970703125,2256.889892578125,2263.469970703125,2267.429931640625,2296.0,2294.239990234375,2304.090087890625,2299.0,2280.0,2288.8798828125,2306.1201171875,2324.530029296875,2318.449951171875,2431.3798828125,2404.159912109375,2381.85009765625,2381.550048828125,2324.989990234375,2335.0,2337.35009765625,2371.25,2331.0,2280.280029296875,2247.97998046875,2239.43994140625,2284.719970703125,2289.780029296875,2307.679931640625,2274.989990234375,2312.0,2318.889892578125,2365.550048828125,2384.0,2388.989990234375,2389.050048828125,2376.070068359375,2385.7099609375,2393.639892578125,2357.02001953125,2399.030029296875,2404.510009765625,2419.52001953125,2412.8798828125,2436.0,2441.719970703125,2448.919921875,2455.510009765625,2437.719970703125,2450.449951171875,2432.06005859375,2440.0,2448.0,2461.909912109375,2461.110107421875,2452.659912109375,2455.699951171875,2460.419921875,2445.139892578125,2451.739990234375,2508.080078125,2528.56005859375,2545.679931640625,2511.909912109375,2514.68994140625,2541.389892578125,2561.14990234375,2586.530029296875,2574.0,2556.22998046875,2524.10009765625,2540.860107421875,2551.919921875,2569.659912109375,2667.97998046875,2684.739990234375,2687.97998046875,2765.93994140625,2733.219970703125,2706.090087890625,2706.72998046875,2714.639892578125,2712.989990234375,2727.0,2729.449951171875,2743.679931640625,2755.449951171875,2753.64990234375,2746.0,2757.1298828125,2767.25,2765.31005859375,2742.090087890625,2727.050048828125,2751.080078125,2817.489990234375,2841.60009765625,2843.7900390625,2848.35009765625,2890.25,2919.409912109375,2903.429931640625,2925.080078125,2910.389892578125,2883.10009765625,2891.300048828125,2888.0,2886.2099609375,2894.3701171875,2859.0,2867.260009765625,2889.010009765625,2886.0,2869.0,2780.0,2800.22998046875,2817.739990234375,2833.929931640625,2846.610107421875,2838.77001953125,2781.929931640625,2743.02001953125,2710.85009765625,2738.2099609375,2719.2099609375,2744.489990234375,2755.0,2800.840087890625,2806.6201171875,2814.239990234375,2790.139892578125,2760.0,2826.75,2834.360107421875,2855.919921875,2873.25,2870.919921875,2843.1201171875,2811.659912109375,2760.0,2801.659912109375,2973.0,2943.159912109375,2964.840087890625,2960.919921875,2932.179931640625,2933.3798828125,2994.669921875,3006.550048828125,3012.300048828125,2996.68994140625,2961.39990234375,2950.7099609375,2977.0,2990.989990234375,2975.25,2971.18994140625,3011.610107421875,3019.330078125,2996.590087890625,2933.199951171875,2924.989990234375,2891.14990234375,2925.949951171875,2920.0,2919.010009765625,2877.2900390625,2888.0,2877.050048828125,2950.6201171875,2967.860107421875,2982.0,2979.550048828125,2959.39990234375,2889.60009765625,2934.419921875,2953.5400390625,2876.68994140625,2835.489990234375,2877.3798828125,2930.0,2964.8701171875,2966.8798828125,2965.97998046875,2948.340087890625,2946.0,2933.969970703125,2917.02001953125,2929.699951171875,2889.989990234375,2798.800048828125,2768.969970703125,2776.389892578125,2804.320068359375,2852.159912109375,2857.0,2814.840087890625,2742.6298828125,2759.18994140625,2752.52001953125,2697.31005859375,2624.06005859375,2587.97998046875,2660.0,2653.050048828125,2667.1298828125,2709.4599609375,2755.860107421875,3030.929931640625,2993.5,2897.5,2885.0,2800.0,2850.489990234375,2829.68994140625,2783.1298828125,2726.0,2762.169921875,2761.719970703125,2742.27001953125,2681.39990234375,2643.610107421875,2641.02001953125,2660.0,2705.429931640625,2715.030029296875,2725.110107421875,2705.25,2728.789794921875],\"low\":[1346.489990234375,1347.3199462890625,1351.0,1391.56005859375,1392.6300048828125,1410.2099609375,1419.5999755859375,1425.3699951171875,1427.77001953125,1431.6600341796875,1440.0,1456.550048828125,1470.2099609375,1482.6600341796875,1480.3199462890625,1463.1800537109375,1419.5,1430.3599853515625,1445.3900146484375,1435.0,1427.06005859375,1456.6099853515625,1422.030029296875,1429.6800537109375,1450.47998046875,1465.4100341796875,1475.199951171875,1505.449951171875,1508.6700439453125,1504.0,1505.550048828125,1511.010009765625,1520.97998046875,1504.260009765625,1478.489990234375,1406.7900390625,1380.4200439453125,1376.550048828125,1314.239990234375,1268.2099609375,1325.199951171875,1329.239990234375,1337.0,1301.6400146484375,1257.2099609375,1198.0400390625,1214.510009765625,1191.1400146484375,1108.469970703125,1112.2900390625,1067.0799560546875,1049.0999755859375,1037.0,1055.550048828125,1062.0999755859375,1008.8699951171875,1086.4300537109375,1083.010009765625,1092.030029296875,1104.0,1098.489990234375,1136.719970703125,1093.489990234375,1093.1300048828125,1075.0799560546875,1125.0,1177.25,1183.949951171875,1192.4200439453125,1182.3299560546875,1228.5400390625,1234.0,1238.199951171875,1266.0,1256.43994140625,1205.0,1237.199951171875,1260.530029296875,1244.0,1265.06005859375,1230.3800048828125,1326.72998046875,1321.5,1309.6600341796875,1296.010009765625,1335.030029296875,1345.1300048828125,1352.5400390625,1372.010009765625,1375.5,1374.510009765625,1328.010009765625,1323.300048828125,1339.0,1354.199951171875,1373.760009765625,1387.4200439453125,1394.3900146484375,1395.949951171875,1419.4000244140625,1394.5999755859375,1399.0799560546875,1415.97998046875,1422.280029296875,1421.6099853515625,1431.6199951171875,1406.010009765625,1407.6199951171875,1424.47998046875,1442.3599853515625,1454.3599853515625,1398.4100341796875,1385.800048828125,1387.199951171875,1428.989990234375,1435.1300048828125,1426.239990234375,1419.0,1419.18994140625,1445.0,1430.0,1419.5400390625,1355.0,1351.6500244140625,1386.9300537109375,1414.1800537109375,1451.0699462890625,1476.97998046875,1489.699951171875,1492.300048828125,1495.5899658203125,1500.719970703125,1506.56005859375,1485.9300537109375,1497.8299560546875,1488.27001953125,1498.0999755859375,1502.699951171875,1552.6199951171875,1543.22998046875,1508.5899658203125,1487.5899658203125,1512.3299560546875,1500.52001953125,1503.010009765625,1495.1700439453125,1454.0,1471.719970703125,1464.030029296875,1471.219970703125,1471.9000244140625,1486.27001953125,1477.489990234375,1478.18994140625,1485.0,1508.2099609375,1499.0,1505.0,1521.6700439453125,1540.0,1534.4599609375,1562.31005859375,1575.0400390625,1577.8800048828125,1600.97998046875,1618.81005859375,1625.6099853515625,1625.3299560546875,1629.530029296875,1660.18994140625,1607.7099609375,1537.969970703125,1516.5,1525.1700439453125,1520.0,1493.02001953125,1505.1099853515625,1522.0999755859375,1511.5899658203125,1462.4599609375,1431.6199951171875,1402.6800537109375,1429.5,1402.6800537109375,1402.1500244140625,1407.6800537109375,1446.280029296875,1454.0,1455.760009765625,1476.800048828125,1447.3499755859375,1460.0899658203125,1445.010009765625,1433.22998046875,1465.449951171875,1487.0,1529.300048828125,1558.6300048828125,1545.9000244140625,1541.1300048828125,1557.6600341796875,1522.9200439453125,1520.5,1567.1400146484375,1577.47998046875,1611.9100341796875,1567.780029296875,1576.989990234375,1508.47998046875,1516.550048828125,1601.5699462890625,1614.239990234375,1612.1099853515625,1703.0,1741.030029296875,1736.6800537109375,1757.550048828125,1716.1199951171875,1743.06005859375,1737.969970703125,1735.97998046875,1761.3299560546875,1759.489990234375,1738.5699462890625,1730.02001953125,1735.0,1710.1800537109375,1720.72998046875,1748.3599853515625,1764.5400390625,1747.8399658203125,1763.030029296875,1785.1700439453125,1817.0,1813.5899658203125,1803.0400390625,1791.280029296875,1762.0,1733.530029296875,1752.739990234375,1749.1300048828125,1741.6700439453125,1749.06005859375,1731.1500244140625,1715.0,1694.0,1705.780029296875,1721.199951171875,1724.3499755859375,1741.8199462890625,1755.1099853515625,1728.0,1736.0899658203125,1707.1400146484375,1716.9000244140625,1696.0999755859375,1726.760009765625,1761.219970703125,1752.1400146484375,1716.3800048828125,1727.3199462890625,1726.0699462890625,1711.7099609375,1732.8299560546875,1819.510009765625,1879.4100341796875,1876.5,1859.1600341796875,1876.1300048828125,1797.280029296875,1831.0,1801.56005859375,1844.5899658203125,1906.3699951171875,2013.550048828125,2035.0999755859375,2050.0,2063.35009765625,2070.0,2052.239990234375,2068.860107421875,2073.570068359375,2091.75,2088.35009765625,2093.330078125,2083.429931640625,2048.0,1990.22998046875,2027.530029296875,2006.489990234375,2001.010009765625,2034.4200439453125,2056.669921875,1994.0,2005.4300537109375,2027.780029296875,2005.18994140625,2035.5999755859375,2019.3299560546875,2056.449951171875,2032.4200439453125,2027.7900390625,2059.2900390625,2044.1199951171875,2019.1800537109375,2002.9300537109375,2014.0,2028.0,2029.0,1996.0899658203125,2003.8499755859375,2005.449951171875,2036.1500244140625,2047.0,2091.429931640625,2145.2099609375,2201.7900390625,2213.10009765625,2243.010009765625,2237.260009765625,2227.820068359375,2243.050048828125,2236.02001953125,2251.169921875,2270.919921875,2270.179931640625,2257.1201171875,2244.820068359375,2240.320068359375,2261.25,2297.320068359375,2286.159912109375,2353.219970703125,2373.85009765625,2346.56005859375,2335.5,2256.679931640625,2308.280029296875,2293.0400390625,2346.159912109375,2284.5400390625,2233.919921875,2193.6201171875,2206.719970703125,2250.0,2255.510009765625,2262.18994140625,2225.43994140625,2283.52001953125,2289.300048828125,2311.9599609375,2355.0,2366.4599609375,2356.260009765625,2352.85009765625,2354.280029296875,2352.360107421875,2329.52001953125,2362.409912109375,2381.0,2394.780029296875,2396.89990234375,2403.780029296875,2418.9599609375,2418.0,2421.1201171875,2389.39990234375,2410.0,2400.300048828125,2397.969970703125,2421.280029296875,2436.68994140625,2446.0,2431.300048828125,2428.110107421875,2433.820068359375,2427.090087890625,2430.6298828125,2461.18994140625,2491.64990234375,2523.06005859375,2480.43994140625,2491.030029296875,2512.219970703125,2533.489990234375,2558.2900390625,2530.60009765625,2523.070068359375,2470.10009765625,2487.010009765625,2520.469970703125,2549.97998046875,2596.010009765625,2646.030029296875,2602.080078125,2705.550048828125,2710.860107421875,2685.10009765625,2675.8798828125,2666.389892578125,2689.739990234375,2696.919921875,2704.199951171875,2706.7900390625,2727.2900390625,2725.429931640625,2708.510009765625,2740.659912109375,2705.97998046875,2721.639892578125,2706.429931640625,2685.0,2705.0,2752.14990234375,2806.77001953125,2827.52001953125,2827.139892578125,2829.93994140625,2883.260009765625,2885.6201171875,2897.669921875,2863.699951171875,2848.010009765625,2872.3798828125,2860.0,2863.550048828125,2814.760009765625,2825.0,2835.0,2826.949951171875,2848.030029296875,2809.39990234375,2726.43994140625,2765.56005859375,2771.030029296875,2808.030029296875,2804.820068359375,2801.35009765625,2707.199951171875,2677.300048828125,2671.1201171875,2681.4599609375,2621.0,2680.820068359375,2691.0,2773.02001953125,2784.35009765625,2777.179931640625,2715.199951171875,2730.3798828125,2776.5,2815.10009765625,2821.389892578125,2852.0,2827.530029296875,2810.0,2721.1201171875,2708.47998046875,2766.090087890625,2788.10009765625,2892.5400390625,2892.989990234375,2864.510009765625,2886.7099609375,2891.820068359375,2926.159912109375,2963.93994140625,2968.610107421875,2944.89990234375,2890.75,2912.010009765625,2908.219970703125,2951.5,2946.25,2944.800048828125,2957.68994140625,2977.97998046875,2922.949951171875,2882.300048828125,2887.4599609375,2836.85009765625,2877.8701171875,2832.030029296875,2818.239990234375,2804.2900390625,2806.02001953125,2803.0,2904.550048828125,2928.1201171875,2942.300048828125,2934.080078125,2910.35009765625,2824.300048828125,2833.56005859375,2872.139892578125,2826.0,2786.419921875,2810.050048828125,2861.35009765625,2929.0400390625,2943.389892578125,2921.090087890625,2912.949951171875,2919.889892578125,2897.0400390625,2874.260009765625,2874.330078125,2753.760009765625,2731.169921875,2715.330078125,2663.2900390625,2733.85009765625,2813.889892578125,2768.179931640625,2739.969970703125,2708.77001953125,2700.31005859375,2659.2900390625,2601.72998046875,2490.0,2530.010009765625,2542.840087890625,2578.64990234375,2569.699951171875,2644.18994140625,2687.3701171875,2910.449951171875,2853.31005859375,2810.300048828125,2778.0,2740.280029296875,2803.739990234375,2759.139892578125,2668.0,2665.1298828125,2716.429931640625,2698.47998046875,2649.570068359375,2603.929931640625,2564.469970703125,2550.550048828125,2499.070068359375,2635.030029296875,2651.85009765625,2664.3701171875,2661.429931640625,2674.010009765625],\"name\":\"GOOGL\",\"open\":[1348.4100341796875,1348.0,1351.6300048828125,1400.4599609375,1394.8199462890625,1421.9300537109375,1429.469970703125,1435.25,1440.0,1433.02001953125,1445.449951171875,1462.5400390625,1479.0,1489.72998046875,1487.550048828125,1492.8199462890625,1431.5400390625,1441.739990234375,1458.4599609375,1438.0999755859375,1467.8599853515625,1461.6500244140625,1454.489990234375,1463.6099853515625,1451.97998046875,1467.3900146484375,1477.22998046875,1513.27001953125,1515.8599853515625,1510.0,1514.530029296875,1514.3399658203125,1527.199951171875,1519.010009765625,1504.5799560546875,1423.050048828125,1431.0,1394.97998046875,1359.1400146484375,1274.31005859375,1351.3900146484375,1397.6800537109375,1358.9599609375,1345.550048828125,1269.949951171875,1204.9599609375,1254.3900146484375,1248.27001953125,1122.6199951171875,1174.989990234375,1089.6099853515625,1090.6400146484375,1059.93994140625,1088.219970703125,1130.9000244140625,1056.3699951171875,1103.97998046875,1124.5799560546875,1114.719970703125,1127.469970703125,1132.6400146484375,1148.72998046875,1124.0,1100.0,1114.7099609375,1133.0,1217.010009765625,1203.0999755859375,1218.1800537109375,1201.5,1239.969970703125,1246.510009765625,1267.1400146484375,1281.699951171875,1269.8900146484375,1242.7099609375,1241.1099853515625,1265.739990234375,1255.0,1292.0,1283.199951171875,1345.0,1331.3599853515625,1324.0899658203125,1308.1300048828125,1337.5,1358.0,1361.31005859375,1381.8199462890625,1376.7900390625,1408.219970703125,1376.1600341796875,1333.52001953125,1348.260009765625,1361.5799560546875,1385.47998046875,1389.1600341796875,1410.989990234375,1403.9000244140625,1441.9599609375,1420.0,1400.0,1420.4300537109375,1425.699951171875,1435.0,1442.699951171875,1436.780029296875,1415.6400146484375,1426.280029296875,1445.239990234375,1461.510009765625,1441.030029296875,1425.8599853515625,1389.489990234375,1449.0,1452.93994140625,1449.8499755859375,1440.0,1425.010009765625,1452.0,1463.280029296875,1431.219970703125,1432.6300048828125,1360.3399658203125,1396.8800048828125,1419.1700439453125,1451.8399658203125,1488.1500244140625,1496.1300048828125,1500.800048828125,1509.9300537109375,1513.25,1549.93994140625,1492.7900390625,1523.22998046875,1501.5,1516.9100341796875,1515.0,1585.030029296875,1555.7099609375,1565.9300537109375,1499.18994140625,1513.260009765625,1525.0,1505.0,1497.969970703125,1497.050048828125,1491.0,1486.7099609375,1476.8199462890625,1476.1500244140625,1509.0400390625,1490.800048828125,1494.0,1487.1199951171875,1508.2099609375,1513.6099853515625,1515.969970703125,1526.1199951171875,1552.489990234375,1539.969970703125,1571.800048828125,1592.469970703125,1580.0999755859375,1606.300048828125,1646.6099853515625,1629.469970703125,1643.5699462890625,1632.1600341796875,1668.010009765625,1699.52001953125,1609.0,1525.0,1548.9000244140625,1550.1800537109375,1528.1500244140625,1531.6500244140625,1527.8900146484375,1542.47998046875,1485.81005859375,1488.300048828125,1431.6199951171875,1450.3199462890625,1452.0899658203125,1402.6800537109375,1425.050048828125,1471.989990234375,1463.9100341796875,1460.93994140625,1483.6600341796875,1459.6300048828125,1462.6500244140625,1475.5,1459.31005859375,1465.449951171875,1492.8599853515625,1538.0,1577.010009765625,1574.5999755859375,1544.5,1561.8299560546875,1575.9300537109375,1523.1099853515625,1569.8499755859375,1585.0,1615.050048828125,1615.0,1588.9300537109375,1550.010009765625,1517.02001953125,1667.43994140625,1623.5400390625,1630.760009765625,1705.5799560546875,1770.449951171875,1751.3399658203125,1795.97998046875,1729.77001953125,1748.4000244140625,1742.0,1748.0,1764.1400146484375,1767.8599853515625,1756.6400146484375,1733.22998046875,1762.0,1740.219970703125,1727.5,1767.81005859375,1764.5400390625,1775.6500244140625,1766.6600341796875,1795.3599853515625,1820.5400390625,1820.219970703125,1815.550048828125,1808.52001953125,1810.3599853515625,1762.5999755859375,1760.0,1770.719970703125,1759.8599853515625,1769.1099853515625,1763.9300537109375,1746.1700439453125,1709.1300048828125,1729.3299560546875,1723.9300537109375,1729.0,1744.9100341796875,1787.22998046875,1765.0,1737.27001953125,1760.0,1725.0899658203125,1700.260009765625,1726.760009765625,1777.1600341796875,1777.02001953125,1745.3599853515625,1727.3199462890625,1748.8699951171875,1729.02001953125,1743.0,1826.3699951171875,1893.6500244140625,1891.4599609375,1912.739990234375,1885.989990234375,1874.9100341796875,1831.0,1834.02001953125,1844.5899658203125,1913.1300048828125,2065.610107421875,2060.6201171875,2059.56005859375,2100.0,2074.800048828125,2083.139892578125,2091.0,2079.77001953125,2091.75,2093.97998046875,2105.0,2107.7900390625,2053.60009765625,2013.989990234375,2030.0400390625,2055.929931640625,2029.949951171875,2048.0,2064.840087890625,2051.949951171875,2014.8699951171875,2061.14990234375,2084.06005859375,2049.75,2061.39990234375,2058.219970703125,2076.409912109375,2044.97998046875,2065.989990234375,2068.469970703125,2048.179931640625,2029.72998046875,2027.6300048828125,2039.949951171875,2051.760009765625,2029.050048828125,2031.7900390625,2022.1600341796875,2052.97998046875,2054.39990234375,2092.25,2147.14990234375,2210.919921875,2213.10009765625,2264.0,2245.43994140625,2254.1201171875,2250.989990234375,2267.429931640625,2261.949951171875,2289.239990234375,2270.179931640625,2297.489990234375,2272.050048828125,2275.39990234375,2267.0,2304.52001953125,2317.6298828125,2392.5,2389.22998046875,2368.02001953125,2364.909912109375,2313.550048828125,2328.6298828125,2306.330078125,2363.889892578125,2328.139892578125,2243.070068359375,2226.18994140625,2226.1201171875,2258.5400390625,2263.570068359375,2302.35009765625,2228.429931640625,2291.0,2317.409912109375,2314.889892578125,2372.0,2366.52001953125,2389.050048828125,2374.419921875,2374.43994140625,2389.14990234375,2345.72998046875,2369.27001953125,2389.43994140625,2412.010009765625,2411.429931640625,2406.919921875,2440.0,2432.260009765625,2449.0,2431.43994140625,2413.949951171875,2427.340087890625,2410.010009765625,2435.0,2441.8701171875,2454.0,2440.0,2453.570068359375,2453.409912109375,2439.889892578125,2434.5,2463.0,2512.969970703125,2543.239990234375,2480.52001953125,2500.5,2523.56005859375,2540.77001953125,2559.159912109375,2572.97998046875,2553.260009765625,2521.7900390625,2510.550048828125,2522.669921875,2556.8798828125,2608.610107421875,2666.570068359375,2685.010009765625,2726.239990234375,2723.0,2700.699951171875,2702.340087890625,2702.699951171875,2706.989990234375,2713.610107421875,2720.840087890625,2718.85009765625,2746.840087890625,2743.6298828125,2719.510009765625,2745.0,2750.5,2755.0,2730.0,2688.7099609375,2720.0,2759.389892578125,2812.22998046875,2832.5,2835.0,2833.050048828125,2888.0,2902.93994140625,2900.0,2904.320068359375,2861.610107421875,2876.68994140625,2882.0,2876.81005859375,2884.25,2838.989990234375,2859.909912109375,2855.429931640625,2879.010009765625,2860.610107421875,2763.22998046875,2794.989990234375,2786.080078125,2819.75,2810.77001953125,2816.090087890625,2773.10009765625,2739.60009765625,2685.22998046875,2688.949951171875,2719.2099609375,2680.820068359375,2695.0,2777.840087890625,2791.5400390625,2785.840087890625,2789.60009765625,2748.050048828125,2789.47998046875,2832.2900390625,2821.530029296875,2867.75,2866.760009765625,2835.3798828125,2783.0,2751.0,2785.27001953125,2788.10009765625,2942.68994140625,2901.56005859375,2960.919921875,2891.590087890625,2918.010009765625,2942.489990234375,2983.389892578125,2996.5,2984.659912109375,2950.0,2929.7900390625,2932.31005859375,2978.010009765625,2962.989990234375,2960.550048828125,2964.830078125,2999.510009765625,2986.64990234375,2923.06005859375,2909.469970703125,2886.969970703125,2880.0,2900.169921875,2880.0,2825.0,2873.6201171875,2860.81005859375,2911.929931640625,2951.929931640625,2951.820068359375,2974.0,2955.6298828125,2879.360107421875,2868.179931640625,2943.409912109375,2850.0,2800.0,2841.070068359375,2861.35009765625,2930.0,2945.1201171875,2964.719970703125,2932.889892578125,2933.8798828125,2921.0,2901.10009765625,2907.919921875,2888.39990234375,2739.969970703125,2762.909912109375,2701.56005859375,2760.139892578125,2823.0,2830.800048828125,2741.580078125,2723.5,2730.469970703125,2725.0,2651.8701171875,2519.56005859375,2574.800048828125,2622.3798828125,2626.080078125,2593.179931640625,2683.239990234375,2751.889892578125,3025.0,2914.110107421875,2868.889892578125,2885.0,2780.530029296875,2819.27001953125,2794.070068359375,2772.0,2665.1298828125,2751.409912109375,2732.929931640625,2724.860107421875,2669.340087890625,2596.760009765625,2632.969970703125,2499.070068359375,2671.0400390625,2661.0,2697.570068359375,2692.56005859375,2720.199951171875],\"showlegend\":true,\"x\":[\"2020-01-02T00:00:00\",\"2020-01-03T00:00:00\",\"2020-01-06T00:00:00\",\"2020-01-07T00:00:00\",\"2020-01-08T00:00:00\",\"2020-01-09T00:00:00\",\"2020-01-10T00:00:00\",\"2020-01-13T00:00:00\",\"2020-01-14T00:00:00\",\"2020-01-15T00:00:00\",\"2020-01-16T00:00:00\",\"2020-01-17T00:00:00\",\"2020-01-21T00:00:00\",\"2020-01-22T00:00:00\",\"2020-01-23T00:00:00\",\"2020-01-24T00:00:00\",\"2020-01-27T00:00:00\",\"2020-01-28T00:00:00\",\"2020-01-29T00:00:00\",\"2020-01-30T00:00:00\",\"2020-01-31T00:00:00\",\"2020-02-03T00:00:00\",\"2020-02-04T00:00:00\",\"2020-02-05T00:00:00\",\"2020-02-06T00:00:00\",\"2020-02-07T00:00:00\",\"2020-02-10T00:00:00\",\"2020-02-11T00:00:00\",\"2020-02-12T00:00:00\",\"2020-02-13T00:00:00\",\"2020-02-14T00:00:00\",\"2020-02-18T00:00:00\",\"2020-02-19T00:00:00\",\"2020-02-20T00:00:00\",\"2020-02-21T00:00:00\",\"2020-02-24T00:00:00\",\"2020-02-25T00:00:00\",\"2020-02-26T00:00:00\",\"2020-02-27T00:00:00\",\"2020-02-28T00:00:00\",\"2020-03-02T00:00:00\",\"2020-03-03T00:00:00\",\"2020-03-04T00:00:00\",\"2020-03-05T00:00:00\",\"2020-03-06T00:00:00\",\"2020-03-09T00:00:00\",\"2020-03-10T00:00:00\",\"2020-03-11T00:00:00\",\"2020-03-12T00:00:00\",\"2020-03-13T00:00:00\",\"2020-03-16T00:00:00\",\"2020-03-17T00:00:00\",\"2020-03-18T00:00:00\",\"2020-03-19T00:00:00\",\"2020-03-20T00:00:00\",\"2020-03-23T00:00:00\",\"2020-03-24T00:00:00\",\"2020-03-25T00:00:00\",\"2020-03-26T00:00:00\",\"2020-03-27T00:00:00\",\"2020-03-30T00:00:00\",\"2020-03-31T00:00:00\",\"2020-04-01T00:00:00\",\"2020-04-02T00:00:00\",\"2020-04-03T00:00:00\",\"2020-04-06T00:00:00\",\"2020-04-07T00:00:00\",\"2020-04-08T00:00:00\",\"2020-04-09T00:00:00\",\"2020-04-13T00:00:00\",\"2020-04-14T00:00:00\",\"2020-04-15T00:00:00\",\"2020-04-16T00:00:00\",\"2020-04-17T00:00:00\",\"2020-04-20T00:00:00\",\"2020-04-21T00:00:00\",\"2020-04-22T00:00:00\",\"2020-04-23T00:00:00\",\"2020-04-24T00:00:00\",\"2020-04-27T00:00:00\",\"2020-04-28T00:00:00\",\"2020-04-29T00:00:00\",\"2020-04-30T00:00:00\",\"2020-05-01T00:00:00\",\"2020-05-04T00:00:00\",\"2020-05-05T00:00:00\",\"2020-05-06T00:00:00\",\"2020-05-07T00:00:00\",\"2020-05-08T00:00:00\",\"2020-05-11T00:00:00\",\"2020-05-12T00:00:00\",\"2020-05-13T00:00:00\",\"2020-05-14T00:00:00\",\"2020-05-15T00:00:00\",\"2020-05-18T00:00:00\",\"2020-05-19T00:00:00\",\"2020-05-20T00:00:00\",\"2020-05-21T00:00:00\",\"2020-05-22T00:00:00\",\"2020-05-26T00:00:00\",\"2020-05-27T00:00:00\",\"2020-05-28T00:00:00\",\"2020-05-29T00:00:00\",\"2020-06-01T00:00:00\",\"2020-06-02T00:00:00\",\"2020-06-03T00:00:00\",\"2020-06-04T00:00:00\",\"2020-06-05T00:00:00\",\"2020-06-08T00:00:00\",\"2020-06-09T00:00:00\",\"2020-06-10T00:00:00\",\"2020-06-11T00:00:00\",\"2020-06-12T00:00:00\",\"2020-06-15T00:00:00\",\"2020-06-16T00:00:00\",\"2020-06-17T00:00:00\",\"2020-06-18T00:00:00\",\"2020-06-19T00:00:00\",\"2020-06-22T00:00:00\",\"2020-06-23T00:00:00\",\"2020-06-24T00:00:00\",\"2020-06-25T00:00:00\",\"2020-06-26T00:00:00\",\"2020-06-29T00:00:00\",\"2020-06-30T00:00:00\",\"2020-07-01T00:00:00\",\"2020-07-02T00:00:00\",\"2020-07-06T00:00:00\",\"2020-07-07T00:00:00\",\"2020-07-08T00:00:00\",\"2020-07-09T00:00:00\",\"2020-07-10T00:00:00\",\"2020-07-13T00:00:00\",\"2020-07-14T00:00:00\",\"2020-07-15T00:00:00\",\"2020-07-16T00:00:00\",\"2020-07-17T00:00:00\",\"2020-07-20T00:00:00\",\"2020-07-21T00:00:00\",\"2020-07-22T00:00:00\",\"2020-07-23T00:00:00\",\"2020-07-24T00:00:00\",\"2020-07-27T00:00:00\",\"2020-07-28T00:00:00\",\"2020-07-29T00:00:00\",\"2020-07-30T00:00:00\",\"2020-07-31T00:00:00\",\"2020-08-03T00:00:00\",\"2020-08-04T00:00:00\",\"2020-08-05T00:00:00\",\"2020-08-06T00:00:00\",\"2020-08-07T00:00:00\",\"2020-08-10T00:00:00\",\"2020-08-11T00:00:00\",\"2020-08-12T00:00:00\",\"2020-08-13T00:00:00\",\"2020-08-14T00:00:00\",\"2020-08-17T00:00:00\",\"2020-08-18T00:00:00\",\"2020-08-19T00:00:00\",\"2020-08-20T00:00:00\",\"2020-08-21T00:00:00\",\"2020-08-24T00:00:00\",\"2020-08-25T00:00:00\",\"2020-08-26T00:00:00\",\"2020-08-27T00:00:00\",\"2020-08-28T00:00:00\",\"2020-08-31T00:00:00\",\"2020-09-01T00:00:00\",\"2020-09-02T00:00:00\",\"2020-09-03T00:00:00\",\"2020-09-04T00:00:00\",\"2020-09-08T00:00:00\",\"2020-09-09T00:00:00\",\"2020-09-10T00:00:00\",\"2020-09-11T00:00:00\",\"2020-09-14T00:00:00\",\"2020-09-15T00:00:00\",\"2020-09-16T00:00:00\",\"2020-09-17T00:00:00\",\"2020-09-18T00:00:00\",\"2020-09-21T00:00:00\",\"2020-09-22T00:00:00\",\"2020-09-23T00:00:00\",\"2020-09-24T00:00:00\",\"2020-09-25T00:00:00\",\"2020-09-28T00:00:00\",\"2020-09-29T00:00:00\",\"2020-09-30T00:00:00\",\"2020-10-01T00:00:00\",\"2020-10-02T00:00:00\",\"2020-10-05T00:00:00\",\"2020-10-06T00:00:00\",\"2020-10-07T00:00:00\",\"2020-10-08T00:00:00\",\"2020-10-09T00:00:00\",\"2020-10-12T00:00:00\",\"2020-10-13T00:00:00\",\"2020-10-14T00:00:00\",\"2020-10-15T00:00:00\",\"2020-10-16T00:00:00\",\"2020-10-19T00:00:00\",\"2020-10-20T00:00:00\",\"2020-10-21T00:00:00\",\"2020-10-22T00:00:00\",\"2020-10-23T00:00:00\",\"2020-10-26T00:00:00\",\"2020-10-27T00:00:00\",\"2020-10-28T00:00:00\",\"2020-10-29T00:00:00\",\"2020-10-30T00:00:00\",\"2020-11-02T00:00:00\",\"2020-11-03T00:00:00\",\"2020-11-04T00:00:00\",\"2020-11-05T00:00:00\",\"2020-11-06T00:00:00\",\"2020-11-09T00:00:00\",\"2020-11-10T00:00:00\",\"2020-11-11T00:00:00\",\"2020-11-12T00:00:00\",\"2020-11-13T00:00:00\",\"2020-11-16T00:00:00\",\"2020-11-17T00:00:00\",\"2020-11-18T00:00:00\",\"2020-11-19T00:00:00\",\"2020-11-20T00:00:00\",\"2020-11-23T00:00:00\",\"2020-11-24T00:00:00\",\"2020-11-25T00:00:00\",\"2020-11-27T00:00:00\",\"2020-11-30T00:00:00\",\"2020-12-01T00:00:00\",\"2020-12-02T00:00:00\",\"2020-12-03T00:00:00\",\"2020-12-04T00:00:00\",\"2020-12-07T00:00:00\",\"2020-12-08T00:00:00\",\"2020-12-09T00:00:00\",\"2020-12-10T00:00:00\",\"2020-12-11T00:00:00\",\"2020-12-14T00:00:00\",\"2020-12-15T00:00:00\",\"2020-12-16T00:00:00\",\"2020-12-17T00:00:00\",\"2020-12-18T00:00:00\",\"2020-12-21T00:00:00\",\"2020-12-22T00:00:00\",\"2020-12-23T00:00:00\",\"2020-12-24T00:00:00\",\"2020-12-28T00:00:00\",\"2020-12-29T00:00:00\",\"2020-12-30T00:00:00\",\"2020-12-31T00:00:00\",\"2021-01-04T00:00:00\",\"2021-01-05T00:00:00\",\"2021-01-06T00:00:00\",\"2021-01-07T00:00:00\",\"2021-01-08T00:00:00\",\"2021-01-11T00:00:00\",\"2021-01-12T00:00:00\",\"2021-01-13T00:00:00\",\"2021-01-14T00:00:00\",\"2021-01-15T00:00:00\",\"2021-01-19T00:00:00\",\"2021-01-20T00:00:00\",\"2021-01-21T00:00:00\",\"2021-01-22T00:00:00\",\"2021-01-25T00:00:00\",\"2021-01-26T00:00:00\",\"2021-01-27T00:00:00\",\"2021-01-28T00:00:00\",\"2021-01-29T00:00:00\",\"2021-02-01T00:00:00\",\"2021-02-02T00:00:00\",\"2021-02-03T00:00:00\",\"2021-02-04T00:00:00\",\"2021-02-05T00:00:00\",\"2021-02-08T00:00:00\",\"2021-02-09T00:00:00\",\"2021-02-10T00:00:00\",\"2021-02-11T00:00:00\",\"2021-02-12T00:00:00\",\"2021-02-16T00:00:00\",\"2021-02-17T00:00:00\",\"2021-02-18T00:00:00\",\"2021-02-19T00:00:00\",\"2021-02-22T00:00:00\",\"2021-02-23T00:00:00\",\"2021-02-24T00:00:00\",\"2021-02-25T00:00:00\",\"2021-02-26T00:00:00\",\"2021-03-01T00:00:00\",\"2021-03-02T00:00:00\",\"2021-03-03T00:00:00\",\"2021-03-04T00:00:00\",\"2021-03-05T00:00:00\",\"2021-03-08T00:00:00\",\"2021-03-09T00:00:00\",\"2021-03-10T00:00:00\",\"2021-03-11T00:00:00\",\"2021-03-12T00:00:00\",\"2021-03-15T00:00:00\",\"2021-03-16T00:00:00\",\"2021-03-17T00:00:00\",\"2021-03-18T00:00:00\",\"2021-03-19T00:00:00\",\"2021-03-22T00:00:00\",\"2021-03-23T00:00:00\",\"2021-03-24T00:00:00\",\"2021-03-25T00:00:00\",\"2021-03-26T00:00:00\",\"2021-03-29T00:00:00\",\"2021-03-30T00:00:00\",\"2021-03-31T00:00:00\",\"2021-04-01T00:00:00\",\"2021-04-05T00:00:00\",\"2021-04-06T00:00:00\",\"2021-04-07T00:00:00\",\"2021-04-08T00:00:00\",\"2021-04-09T00:00:00\",\"2021-04-12T00:00:00\",\"2021-04-13T00:00:00\",\"2021-04-14T00:00:00\",\"2021-04-15T00:00:00\",\"2021-04-16T00:00:00\",\"2021-04-19T00:00:00\",\"2021-04-20T00:00:00\",\"2021-04-21T00:00:00\",\"2021-04-22T00:00:00\",\"2021-04-23T00:00:00\",\"2021-04-26T00:00:00\",\"2021-04-27T00:00:00\",\"2021-04-28T00:00:00\",\"2021-04-29T00:00:00\",\"2021-04-30T00:00:00\",\"2021-05-03T00:00:00\",\"2021-05-04T00:00:00\",\"2021-05-05T00:00:00\",\"2021-05-06T00:00:00\",\"2021-05-07T00:00:00\",\"2021-05-10T00:00:00\",\"2021-05-11T00:00:00\",\"2021-05-12T00:00:00\",\"2021-05-13T00:00:00\",\"2021-05-14T00:00:00\",\"2021-05-17T00:00:00\",\"2021-05-18T00:00:00\",\"2021-05-19T00:00:00\",\"2021-05-20T00:00:00\",\"2021-05-21T00:00:00\",\"2021-05-24T00:00:00\",\"2021-05-25T00:00:00\",\"2021-05-26T00:00:00\",\"2021-05-27T00:00:00\",\"2021-05-28T00:00:00\",\"2021-06-01T00:00:00\",\"2021-06-02T00:00:00\",\"2021-06-03T00:00:00\",\"2021-06-04T00:00:00\",\"2021-06-07T00:00:00\",\"2021-06-08T00:00:00\",\"2021-06-09T00:00:00\",\"2021-06-10T00:00:00\",\"2021-06-11T00:00:00\",\"2021-06-14T00:00:00\",\"2021-06-15T00:00:00\",\"2021-06-16T00:00:00\",\"2021-06-17T00:00:00\",\"2021-06-18T00:00:00\",\"2021-06-21T00:00:00\",\"2021-06-22T00:00:00\",\"2021-06-23T00:00:00\",\"2021-06-24T00:00:00\",\"2021-06-25T00:00:00\",\"2021-06-28T00:00:00\",\"2021-06-29T00:00:00\",\"2021-06-30T00:00:00\",\"2021-07-01T00:00:00\",\"2021-07-02T00:00:00\",\"2021-07-06T00:00:00\",\"2021-07-07T00:00:00\",\"2021-07-08T00:00:00\",\"2021-07-09T00:00:00\",\"2021-07-12T00:00:00\",\"2021-07-13T00:00:00\",\"2021-07-14T00:00:00\",\"2021-07-15T00:00:00\",\"2021-07-16T00:00:00\",\"2021-07-19T00:00:00\",\"2021-07-20T00:00:00\",\"2021-07-21T00:00:00\",\"2021-07-22T00:00:00\",\"2021-07-23T00:00:00\",\"2021-07-26T00:00:00\",\"2021-07-27T00:00:00\",\"2021-07-28T00:00:00\",\"2021-07-29T00:00:00\",\"2021-07-30T00:00:00\",\"2021-08-02T00:00:00\",\"2021-08-03T00:00:00\",\"2021-08-04T00:00:00\",\"2021-08-05T00:00:00\",\"2021-08-06T00:00:00\",\"2021-08-09T00:00:00\",\"2021-08-10T00:00:00\",\"2021-08-11T00:00:00\",\"2021-08-12T00:00:00\",\"2021-08-13T00:00:00\",\"2021-08-16T00:00:00\",\"2021-08-17T00:00:00\",\"2021-08-18T00:00:00\",\"2021-08-19T00:00:00\",\"2021-08-20T00:00:00\",\"2021-08-23T00:00:00\",\"2021-08-24T00:00:00\",\"2021-08-25T00:00:00\",\"2021-08-26T00:00:00\",\"2021-08-27T00:00:00\",\"2021-08-30T00:00:00\",\"2021-08-31T00:00:00\",\"2021-09-01T00:00:00\",\"2021-09-02T00:00:00\",\"2021-09-03T00:00:00\",\"2021-09-07T00:00:00\",\"2021-09-08T00:00:00\",\"2021-09-09T00:00:00\",\"2021-09-10T00:00:00\",\"2021-09-13T00:00:00\",\"2021-09-14T00:00:00\",\"2021-09-15T00:00:00\",\"2021-09-16T00:00:00\",\"2021-09-17T00:00:00\",\"2021-09-20T00:00:00\",\"2021-09-21T00:00:00\",\"2021-09-22T00:00:00\",\"2021-09-23T00:00:00\",\"2021-09-24T00:00:00\",\"2021-09-27T00:00:00\",\"2021-09-28T00:00:00\",\"2021-09-29T00:00:00\",\"2021-09-30T00:00:00\",\"2021-10-01T00:00:00\",\"2021-10-04T00:00:00\",\"2021-10-05T00:00:00\",\"2021-10-06T00:00:00\",\"2021-10-07T00:00:00\",\"2021-10-08T00:00:00\",\"2021-10-11T00:00:00\",\"2021-10-12T00:00:00\",\"2021-10-13T00:00:00\",\"2021-10-14T00:00:00\",\"2021-10-15T00:00:00\",\"2021-10-18T00:00:00\",\"2021-10-19T00:00:00\",\"2021-10-20T00:00:00\",\"2021-10-21T00:00:00\",\"2021-10-22T00:00:00\",\"2021-10-25T00:00:00\",\"2021-10-26T00:00:00\",\"2021-10-27T00:00:00\",\"2021-10-28T00:00:00\",\"2021-10-29T00:00:00\",\"2021-11-01T00:00:00\",\"2021-11-02T00:00:00\",\"2021-11-03T00:00:00\",\"2021-11-04T00:00:00\",\"2021-11-05T00:00:00\",\"2021-11-08T00:00:00\",\"2021-11-09T00:00:00\",\"2021-11-10T00:00:00\",\"2021-11-11T00:00:00\",\"2021-11-12T00:00:00\",\"2021-11-15T00:00:00\",\"2021-11-16T00:00:00\",\"2021-11-17T00:00:00\",\"2021-11-18T00:00:00\",\"2021-11-19T00:00:00\",\"2021-11-22T00:00:00\",\"2021-11-23T00:00:00\",\"2021-11-24T00:00:00\",\"2021-11-26T00:00:00\",\"2021-11-29T00:00:00\",\"2021-11-30T00:00:00\",\"2021-12-01T00:00:00\",\"2021-12-02T00:00:00\",\"2021-12-03T00:00:00\",\"2021-12-06T00:00:00\",\"2021-12-07T00:00:00\",\"2021-12-08T00:00:00\",\"2021-12-09T00:00:00\",\"2021-12-10T00:00:00\",\"2021-12-13T00:00:00\",\"2021-12-14T00:00:00\",\"2021-12-15T00:00:00\",\"2021-12-16T00:00:00\",\"2021-12-17T00:00:00\",\"2021-12-20T00:00:00\",\"2021-12-21T00:00:00\",\"2021-12-22T00:00:00\",\"2021-12-23T00:00:00\",\"2021-12-27T00:00:00\",\"2021-12-28T00:00:00\",\"2021-12-29T00:00:00\",\"2021-12-30T00:00:00\",\"2021-12-31T00:00:00\",\"2022-01-03T00:00:00\",\"2022-01-04T00:00:00\",\"2022-01-05T00:00:00\",\"2022-01-06T00:00:00\",\"2022-01-07T00:00:00\",\"2022-01-10T00:00:00\",\"2022-01-11T00:00:00\",\"2022-01-12T00:00:00\",\"2022-01-13T00:00:00\",\"2022-01-14T00:00:00\",\"2022-01-18T00:00:00\",\"2022-01-19T00:00:00\",\"2022-01-20T00:00:00\",\"2022-01-21T00:00:00\",\"2022-01-24T00:00:00\",\"2022-01-25T00:00:00\",\"2022-01-26T00:00:00\",\"2022-01-27T00:00:00\",\"2022-01-28T00:00:00\",\"2022-01-31T00:00:00\",\"2022-02-01T00:00:00\",\"2022-02-02T00:00:00\",\"2022-02-03T00:00:00\",\"2022-02-04T00:00:00\",\"2022-02-07T00:00:00\",\"2022-02-08T00:00:00\",\"2022-02-09T00:00:00\",\"2022-02-10T00:00:00\",\"2022-02-11T00:00:00\",\"2022-02-14T00:00:00\",\"2022-02-15T00:00:00\",\"2022-02-16T00:00:00\",\"2022-02-17T00:00:00\",\"2022-02-18T00:00:00\",\"2022-02-22T00:00:00\",\"2022-02-23T00:00:00\",\"2022-02-24T00:00:00\",\"2022-02-25T00:00:00\",\"2022-02-28T00:00:00\",\"2022-03-01T00:00:00\",\"2022-03-02T00:00:00\",\"2022-03-03T00:00:00\"],\"type\":\"candlestick\"}],                        {\"template\":{\"data\":{\"bar\":[{\"error_x\":{\"color\":\"#2a3f5f\"},\"error_y\":{\"color\":\"#2a3f5f\"},\"marker\":{\"line\":{\"color\":\"#E5ECF6\",\"width\":0.5},\"pattern\":{\"fillmode\":\"overlay\",\"size\":10,\"solidity\":0.2}},\"type\":\"bar\"}],\"barpolar\":[{\"marker\":{\"line\":{\"color\":\"#E5ECF6\",\"width\":0.5},\"pattern\":{\"fillmode\":\"overlay\",\"size\":10,\"solidity\":0.2}},\"type\":\"barpolar\"}],\"carpet\":[{\"aaxis\":{\"endlinecolor\":\"#2a3f5f\",\"gridcolor\":\"white\",\"linecolor\":\"white\",\"minorgridcolor\":\"white\",\"startlinecolor\":\"#2a3f5f\"},\"baxis\":{\"endlinecolor\":\"#2a3f5f\",\"gridcolor\":\"white\",\"linecolor\":\"white\",\"minorgridcolor\":\"white\",\"startlinecolor\":\"#2a3f5f\"},\"type\":\"carpet\"}],\"choropleth\":[{\"colorbar\":{\"outlinewidth\":0,\"ticks\":\"\"},\"type\":\"choropleth\"}],\"contour\":[{\"colorbar\":{\"outlinewidth\":0,\"ticks\":\"\"},\"colorscale\":[[0.0,\"#0d0887\"],[0.1111111111111111,\"#46039f\"],[0.2222222222222222,\"#7201a8\"],[0.3333333333333333,\"#9c179e\"],[0.4444444444444444,\"#bd3786\"],[0.5555555555555556,\"#d8576b\"],[0.6666666666666666,\"#ed7953\"],[0.7777777777777778,\"#fb9f3a\"],[0.8888888888888888,\"#fdca26\"],[1.0,\"#f0f921\"]],\"type\":\"contour\"}],\"contourcarpet\":[{\"colorbar\":{\"outlinewidth\":0,\"ticks\":\"\"},\"type\":\"contourcarpet\"}],\"heatmap\":[{\"colorbar\":{\"outlinewidth\":0,\"ticks\":\"\"},\"colorscale\":[[0.0,\"#0d0887\"],[0.1111111111111111,\"#46039f\"],[0.2222222222222222,\"#7201a8\"],[0.3333333333333333,\"#9c179e\"],[0.4444444444444444,\"#bd3786\"],[0.5555555555555556,\"#d8576b\"],[0.6666666666666666,\"#ed7953\"],[0.7777777777777778,\"#fb9f3a\"],[0.8888888888888888,\"#fdca26\"],[1.0,\"#f0f921\"]],\"type\":\"heatmap\"}],\"heatmapgl\":[{\"colorbar\":{\"outlinewidth\":0,\"ticks\":\"\"},\"colorscale\":[[0.0,\"#0d0887\"],[0.1111111111111111,\"#46039f\"],[0.2222222222222222,\"#7201a8\"],[0.3333333333333333,\"#9c179e\"],[0.4444444444444444,\"#bd3786\"],[0.5555555555555556,\"#d8576b\"],[0.6666666666666666,\"#ed7953\"],[0.7777777777777778,\"#fb9f3a\"],[0.8888888888888888,\"#fdca26\"],[1.0,\"#f0f921\"]],\"type\":\"heatmapgl\"}],\"histogram\":[{\"marker\":{\"pattern\":{\"fillmode\":\"overlay\",\"size\":10,\"solidity\":0.2}},\"type\":\"histogram\"}],\"histogram2d\":[{\"colorbar\":{\"outlinewidth\":0,\"ticks\":\"\"},\"colorscale\":[[0.0,\"#0d0887\"],[0.1111111111111111,\"#46039f\"],[0.2222222222222222,\"#7201a8\"],[0.3333333333333333,\"#9c179e\"],[0.4444444444444444,\"#bd3786\"],[0.5555555555555556,\"#d8576b\"],[0.6666666666666666,\"#ed7953\"],[0.7777777777777778,\"#fb9f3a\"],[0.8888888888888888,\"#fdca26\"],[1.0,\"#f0f921\"]],\"type\":\"histogram2d\"}],\"histogram2dcontour\":[{\"colorbar\":{\"outlinewidth\":0,\"ticks\":\"\"},\"colorscale\":[[0.0,\"#0d0887\"],[0.1111111111111111,\"#46039f\"],[0.2222222222222222,\"#7201a8\"],[0.3333333333333333,\"#9c179e\"],[0.4444444444444444,\"#bd3786\"],[0.5555555555555556,\"#d8576b\"],[0.6666666666666666,\"#ed7953\"],[0.7777777777777778,\"#fb9f3a\"],[0.8888888888888888,\"#fdca26\"],[1.0,\"#f0f921\"]],\"type\":\"histogram2dcontour\"}],\"mesh3d\":[{\"colorbar\":{\"outlinewidth\":0,\"ticks\":\"\"},\"type\":\"mesh3d\"}],\"parcoords\":[{\"line\":{\"colorbar\":{\"outlinewidth\":0,\"ticks\":\"\"}},\"type\":\"parcoords\"}],\"pie\":[{\"automargin\":true,\"type\":\"pie\"}],\"scatter\":[{\"marker\":{\"colorbar\":{\"outlinewidth\":0,\"ticks\":\"\"}},\"type\":\"scatter\"}],\"scatter3d\":[{\"line\":{\"colorbar\":{\"outlinewidth\":0,\"ticks\":\"\"}},\"marker\":{\"colorbar\":{\"outlinewidth\":0,\"ticks\":\"\"}},\"type\":\"scatter3d\"}],\"scattercarpet\":[{\"marker\":{\"colorbar\":{\"outlinewidth\":0,\"ticks\":\"\"}},\"type\":\"scattercarpet\"}],\"scattergeo\":[{\"marker\":{\"colorbar\":{\"outlinewidth\":0,\"ticks\":\"\"}},\"type\":\"scattergeo\"}],\"scattergl\":[{\"marker\":{\"colorbar\":{\"outlinewidth\":0,\"ticks\":\"\"}},\"type\":\"scattergl\"}],\"scattermapbox\":[{\"marker\":{\"colorbar\":{\"outlinewidth\":0,\"ticks\":\"\"}},\"type\":\"scattermapbox\"}],\"scatterpolar\":[{\"marker\":{\"colorbar\":{\"outlinewidth\":0,\"ticks\":\"\"}},\"type\":\"scatterpolar\"}],\"scatterpolargl\":[{\"marker\":{\"colorbar\":{\"outlinewidth\":0,\"ticks\":\"\"}},\"type\":\"scatterpolargl\"}],\"scatterternary\":[{\"marker\":{\"colorbar\":{\"outlinewidth\":0,\"ticks\":\"\"}},\"type\":\"scatterternary\"}],\"surface\":[{\"colorbar\":{\"outlinewidth\":0,\"ticks\":\"\"},\"colorscale\":[[0.0,\"#0d0887\"],[0.1111111111111111,\"#46039f\"],[0.2222222222222222,\"#7201a8\"],[0.3333333333333333,\"#9c179e\"],[0.4444444444444444,\"#bd3786\"],[0.5555555555555556,\"#d8576b\"],[0.6666666666666666,\"#ed7953\"],[0.7777777777777778,\"#fb9f3a\"],[0.8888888888888888,\"#fdca26\"],[1.0,\"#f0f921\"]],\"type\":\"surface\"}],\"table\":[{\"cells\":{\"fill\":{\"color\":\"#EBF0F8\"},\"line\":{\"color\":\"white\"}},\"header\":{\"fill\":{\"color\":\"#C8D4E3\"},\"line\":{\"color\":\"white\"}},\"type\":\"table\"}]},\"layout\":{\"annotationdefaults\":{\"arrowcolor\":\"#2a3f5f\",\"arrowhead\":0,\"arrowwidth\":1},\"autotypenumbers\":\"strict\",\"coloraxis\":{\"colorbar\":{\"outlinewidth\":0,\"ticks\":\"\"}},\"colorscale\":{\"diverging\":[[0,\"#8e0152\"],[0.1,\"#c51b7d\"],[0.2,\"#de77ae\"],[0.3,\"#f1b6da\"],[0.4,\"#fde0ef\"],[0.5,\"#f7f7f7\"],[0.6,\"#e6f5d0\"],[0.7,\"#b8e186\"],[0.8,\"#7fbc41\"],[0.9,\"#4d9221\"],[1,\"#276419\"]],\"sequential\":[[0.0,\"#0d0887\"],[0.1111111111111111,\"#46039f\"],[0.2222222222222222,\"#7201a8\"],[0.3333333333333333,\"#9c179e\"],[0.4444444444444444,\"#bd3786\"],[0.5555555555555556,\"#d8576b\"],[0.6666666666666666,\"#ed7953\"],[0.7777777777777778,\"#fb9f3a\"],[0.8888888888888888,\"#fdca26\"],[1.0,\"#f0f921\"]],\"sequentialminus\":[[0.0,\"#0d0887\"],[0.1111111111111111,\"#46039f\"],[0.2222222222222222,\"#7201a8\"],[0.3333333333333333,\"#9c179e\"],[0.4444444444444444,\"#bd3786\"],[0.5555555555555556,\"#d8576b\"],[0.6666666666666666,\"#ed7953\"],[0.7777777777777778,\"#fb9f3a\"],[0.8888888888888888,\"#fdca26\"],[1.0,\"#f0f921\"]]},\"colorway\":[\"#636efa\",\"#EF553B\",\"#00cc96\",\"#ab63fa\",\"#FFA15A\",\"#19d3f3\",\"#FF6692\",\"#B6E880\",\"#FF97FF\",\"#FECB52\"],\"font\":{\"color\":\"#2a3f5f\"},\"geo\":{\"bgcolor\":\"white\",\"lakecolor\":\"white\",\"landcolor\":\"#E5ECF6\",\"showlakes\":true,\"showland\":true,\"subunitcolor\":\"white\"},\"hoverlabel\":{\"align\":\"left\"},\"hovermode\":\"closest\",\"mapbox\":{\"style\":\"light\"},\"paper_bgcolor\":\"white\",\"plot_bgcolor\":\"#E5ECF6\",\"polar\":{\"angularaxis\":{\"gridcolor\":\"white\",\"linecolor\":\"white\",\"ticks\":\"\"},\"bgcolor\":\"#E5ECF6\",\"radialaxis\":{\"gridcolor\":\"white\",\"linecolor\":\"white\",\"ticks\":\"\"}},\"scene\":{\"xaxis\":{\"backgroundcolor\":\"#E5ECF6\",\"gridcolor\":\"white\",\"gridwidth\":2,\"linecolor\":\"white\",\"showbackground\":true,\"ticks\":\"\",\"zerolinecolor\":\"white\"},\"yaxis\":{\"backgroundcolor\":\"#E5ECF6\",\"gridcolor\":\"white\",\"gridwidth\":2,\"linecolor\":\"white\",\"showbackground\":true,\"ticks\":\"\",\"zerolinecolor\":\"white\"},\"zaxis\":{\"backgroundcolor\":\"#E5ECF6\",\"gridcolor\":\"white\",\"gridwidth\":2,\"linecolor\":\"white\",\"showbackground\":true,\"ticks\":\"\",\"zerolinecolor\":\"white\"}},\"shapedefaults\":{\"line\":{\"color\":\"#2a3f5f\"}},\"ternary\":{\"aaxis\":{\"gridcolor\":\"white\",\"linecolor\":\"white\",\"ticks\":\"\"},\"baxis\":{\"gridcolor\":\"white\",\"linecolor\":\"white\",\"ticks\":\"\"},\"bgcolor\":\"#E5ECF6\",\"caxis\":{\"gridcolor\":\"white\",\"linecolor\":\"white\",\"ticks\":\"\"}},\"title\":{\"x\":0.05},\"xaxis\":{\"automargin\":true,\"gridcolor\":\"white\",\"linecolor\":\"white\",\"ticks\":\"\",\"title\":{\"standoff\":15},\"zerolinecolor\":\"white\",\"zerolinewidth\":2},\"yaxis\":{\"automargin\":true,\"gridcolor\":\"white\",\"linecolor\":\"white\",\"ticks\":\"\",\"title\":{\"standoff\":15},\"zerolinecolor\":\"white\",\"zerolinewidth\":2}}},\"title\":{\"text\":\"GOOGLE Stock\"}},                        {\"responsive\": true}                    ).then(function(){\n",
              "                            \n",
              "var gd = document.getElementById('0eeec1d7-490c-462a-9a2d-e679d4b22ce5');\n",
              "var x = new MutationObserver(function (mutations, observer) {{\n",
              "        var display = window.getComputedStyle(gd).display;\n",
              "        if (!display || display === 'none') {{\n",
              "            console.log([gd, 'removed!']);\n",
              "            Plotly.purge(gd);\n",
              "            observer.disconnect();\n",
              "        }}\n",
              "}});\n",
              "\n",
              "// Listen for the removal of the full notebook cells\n",
              "var notebookContainer = gd.closest('#notebook-container');\n",
              "if (notebookContainer) {{\n",
              "    x.observe(notebookContainer, {childList: true});\n",
              "}}\n",
              "\n",
              "// Listen for the clearing of the current output cell\n",
              "var outputEl = gd.closest('.output');\n",
              "if (outputEl) {{\n",
              "    x.observe(outputEl, {childList: true});\n",
              "}}\n",
              "\n",
              "                        })                };                            </script>        </div>\n",
              "</body>\n",
              "</html>"
            ]
          },
          "metadata": {}
        }
      ]
    },
    {
      "cell_type": "markdown",
      "source": [
        "Hoy es 03 de Marzo de 2022, por lo que el último dato del gráfico es esa fecha, tú puedes hacer lo mismo, colocar el mouse al final del gráfico y ver la última cotización de la acción. Podrías en este caso acceder a tu cartera de inversiones y ejecutar el código diariamente y hacer un análisis técnico sobre esas entradas."
      ],
      "metadata": {
        "id": "07voPYKtSuYV"
      }
    },
    {
      "cell_type": "markdown",
      "source": [
        "## Filtrado de datos por fecha"
      ],
      "metadata": {
        "id": "RCdcpGAIS3Xb"
      }
    },
    {
      "cell_type": "code",
      "source": [
        "import pandas_datareader.data as web\n",
        "\n",
        "start = '2020-01-01'\n",
        "end = '2022-01-01'\n",
        "\n",
        "sap_data = web.DataReader('SP500', 'fred', start, end)\n",
        "\n",
        "sap_data"
      ],
      "metadata": {
        "colab": {
          "base_uri": "https://localhost:8080/",
          "height": 455
        },
        "id": "dTZvuKXrNXZO",
        "outputId": "d5c781fe-0890-452a-e6a2-41ce6567d0b8"
      },
      "execution_count": null,
      "outputs": [
        {
          "output_type": "execute_result",
          "data": {
            "text/html": [
              "\n",
              "  <div id=\"df-5f163fd0-26b9-4088-b791-956227f660dd\">\n",
              "    <div class=\"colab-df-container\">\n",
              "      <div>\n",
              "<style scoped>\n",
              "    .dataframe tbody tr th:only-of-type {\n",
              "        vertical-align: middle;\n",
              "    }\n",
              "\n",
              "    .dataframe tbody tr th {\n",
              "        vertical-align: top;\n",
              "    }\n",
              "\n",
              "    .dataframe thead th {\n",
              "        text-align: right;\n",
              "    }\n",
              "</style>\n",
              "<table border=\"1\" class=\"dataframe\">\n",
              "  <thead>\n",
              "    <tr style=\"text-align: right;\">\n",
              "      <th></th>\n",
              "      <th>SP500</th>\n",
              "    </tr>\n",
              "    <tr>\n",
              "      <th>DATE</th>\n",
              "      <th></th>\n",
              "    </tr>\n",
              "  </thead>\n",
              "  <tbody>\n",
              "    <tr>\n",
              "      <th>2020-01-01</th>\n",
              "      <td>NaN</td>\n",
              "    </tr>\n",
              "    <tr>\n",
              "      <th>2020-01-02</th>\n",
              "      <td>3257.85</td>\n",
              "    </tr>\n",
              "    <tr>\n",
              "      <th>2020-01-03</th>\n",
              "      <td>3234.85</td>\n",
              "    </tr>\n",
              "    <tr>\n",
              "      <th>2020-01-06</th>\n",
              "      <td>3246.28</td>\n",
              "    </tr>\n",
              "    <tr>\n",
              "      <th>2020-01-07</th>\n",
              "      <td>3237.18</td>\n",
              "    </tr>\n",
              "    <tr>\n",
              "      <th>...</th>\n",
              "      <td>...</td>\n",
              "    </tr>\n",
              "    <tr>\n",
              "      <th>2021-12-27</th>\n",
              "      <td>4791.19</td>\n",
              "    </tr>\n",
              "    <tr>\n",
              "      <th>2021-12-28</th>\n",
              "      <td>4786.35</td>\n",
              "    </tr>\n",
              "    <tr>\n",
              "      <th>2021-12-29</th>\n",
              "      <td>4793.06</td>\n",
              "    </tr>\n",
              "    <tr>\n",
              "      <th>2021-12-30</th>\n",
              "      <td>4778.73</td>\n",
              "    </tr>\n",
              "    <tr>\n",
              "      <th>2021-12-31</th>\n",
              "      <td>4766.18</td>\n",
              "    </tr>\n",
              "  </tbody>\n",
              "</table>\n",
              "<p>523 rows × 1 columns</p>\n",
              "</div>\n",
              "      <button class=\"colab-df-convert\" onclick=\"convertToInteractive('df-5f163fd0-26b9-4088-b791-956227f660dd')\"\n",
              "              title=\"Convert this dataframe to an interactive table.\"\n",
              "              style=\"display:none;\">\n",
              "        \n",
              "  <svg xmlns=\"http://www.w3.org/2000/svg\" height=\"24px\"viewBox=\"0 0 24 24\"\n",
              "       width=\"24px\">\n",
              "    <path d=\"M0 0h24v24H0V0z\" fill=\"none\"/>\n",
              "    <path d=\"M18.56 5.44l.94 2.06.94-2.06 2.06-.94-2.06-.94-.94-2.06-.94 2.06-2.06.94zm-11 1L8.5 8.5l.94-2.06 2.06-.94-2.06-.94L8.5 2.5l-.94 2.06-2.06.94zm10 10l.94 2.06.94-2.06 2.06-.94-2.06-.94-.94-2.06-.94 2.06-2.06.94z\"/><path d=\"M17.41 7.96l-1.37-1.37c-.4-.4-.92-.59-1.43-.59-.52 0-1.04.2-1.43.59L10.3 9.45l-7.72 7.72c-.78.78-.78 2.05 0 2.83L4 21.41c.39.39.9.59 1.41.59.51 0 1.02-.2 1.41-.59l7.78-7.78 2.81-2.81c.8-.78.8-2.07 0-2.86zM5.41 20L4 18.59l7.72-7.72 1.47 1.35L5.41 20z\"/>\n",
              "  </svg>\n",
              "      </button>\n",
              "      \n",
              "  <style>\n",
              "    .colab-df-container {\n",
              "      display:flex;\n",
              "      flex-wrap:wrap;\n",
              "      gap: 12px;\n",
              "    }\n",
              "\n",
              "    .colab-df-convert {\n",
              "      background-color: #E8F0FE;\n",
              "      border: none;\n",
              "      border-radius: 50%;\n",
              "      cursor: pointer;\n",
              "      display: none;\n",
              "      fill: #1967D2;\n",
              "      height: 32px;\n",
              "      padding: 0 0 0 0;\n",
              "      width: 32px;\n",
              "    }\n",
              "\n",
              "    .colab-df-convert:hover {\n",
              "      background-color: #E2EBFA;\n",
              "      box-shadow: 0px 1px 2px rgba(60, 64, 67, 0.3), 0px 1px 3px 1px rgba(60, 64, 67, 0.15);\n",
              "      fill: #174EA6;\n",
              "    }\n",
              "\n",
              "    [theme=dark] .colab-df-convert {\n",
              "      background-color: #3B4455;\n",
              "      fill: #D2E3FC;\n",
              "    }\n",
              "\n",
              "    [theme=dark] .colab-df-convert:hover {\n",
              "      background-color: #434B5C;\n",
              "      box-shadow: 0px 1px 3px 1px rgba(0, 0, 0, 0.15);\n",
              "      filter: drop-shadow(0px 1px 2px rgba(0, 0, 0, 0.3));\n",
              "      fill: #FFFFFF;\n",
              "    }\n",
              "  </style>\n",
              "\n",
              "      <script>\n",
              "        const buttonEl =\n",
              "          document.querySelector('#df-5f163fd0-26b9-4088-b791-956227f660dd button.colab-df-convert');\n",
              "        buttonEl.style.display =\n",
              "          google.colab.kernel.accessAllowed ? 'block' : 'none';\n",
              "\n",
              "        async function convertToInteractive(key) {\n",
              "          const element = document.querySelector('#df-5f163fd0-26b9-4088-b791-956227f660dd');\n",
              "          const dataTable =\n",
              "            await google.colab.kernel.invokeFunction('convertToInteractive',\n",
              "                                                     [key], {});\n",
              "          if (!dataTable) return;\n",
              "\n",
              "          const docLinkHtml = 'Like what you see? Visit the ' +\n",
              "            '<a target=\"_blank\" href=https://colab.research.google.com/notebooks/data_table.ipynb>data table notebook</a>'\n",
              "            + ' to learn more about interactive tables.';\n",
              "          element.innerHTML = '';\n",
              "          dataTable['output_type'] = 'display_data';\n",
              "          await google.colab.output.renderOutput(dataTable, element);\n",
              "          const docLink = document.createElement('div');\n",
              "          docLink.innerHTML = docLinkHtml;\n",
              "          element.appendChild(docLink);\n",
              "        }\n",
              "      </script>\n",
              "    </div>\n",
              "  </div>\n",
              "  "
            ],
            "text/plain": [
              "              SP500\n",
              "DATE               \n",
              "2020-01-01      NaN\n",
              "2020-01-02  3257.85\n",
              "2020-01-03  3234.85\n",
              "2020-01-06  3246.28\n",
              "2020-01-07  3237.18\n",
              "...             ...\n",
              "2021-12-27  4791.19\n",
              "2021-12-28  4786.35\n",
              "2021-12-29  4793.06\n",
              "2021-12-30  4778.73\n",
              "2021-12-31  4766.18\n",
              "\n",
              "[523 rows x 1 columns]"
            ]
          },
          "metadata": {},
          "execution_count": 16
        }
      ]
    },
    {
      "cell_type": "markdown",
      "source": [
        "La función DataReader toma 4 argumentos:\n",
        "\n",
        "* SP500 - Un identificador proporcionado por la API que especifica los datos que queremos recuperar, en este caso datos del SP500\n",
        "* \"fred \" - El nombre de la API a la que queremos acceder\n",
        "* fecha_inicial, fecha_final - El rango de fechas que queremos que tengan los datos\n",
        "\n",
        "Cambiando las fechas de inicio y fin, podemos filtrar fácilmente los datos que recibimos"
      ],
      "metadata": {
        "id": "X07dlxrCULXJ"
      }
    },
    {
      "cell_type": "markdown",
      "source": [
        "#Análisis técnico"
      ],
      "metadata": {
        "id": "KRlf4Itwj7PF"
      }
    },
    {
      "cell_type": "markdown",
      "source": [
        "## Funciones"
      ],
      "metadata": {
        "id": "DqUbdp-YNEpv"
      }
    },
    {
      "cell_type": "markdown",
      "source": [
        "### Shift()\n",
        "\n",
        "Una vez que hemos importado un DataFrame lleno de datos financieros, hay algunas formas muy interesantes de manipularlo. En este ejercicio veremos la operación shift(), una función de DataFrame que mueve todas las filas de una columna hacia arriba o hacia abajo"
      ],
      "metadata": {
        "id": "Gejl81QDV0ki"
      }
    },
    {
      "cell_type": "markdown",
      "source": [
        "Desplaza todas las filas hacia abajo en 1\n",
        "    \n",
        "    dataframe.shift(1)\n",
        "\n",
        "Desplaza todas las filas de la columna nombre hacia arriba 5\n",
        "    \n",
        "    dataframe[name].shift(-5)\n",
        "\n",
        "Desplaza todas las filas de la columna del nombre hacia abajo 3\n",
        "    \n",
        "    dataframe[name].shift(3)\n",
        "\n",
        "Shift es especialmente útil cuando se trata de datos financieros. Por ejemplo, se puede utilizar para ayudar a calcular el porcentaje de crecimiento entre una fila y la siguiente, o para encontrar la diferencia en los precios de las acciones durante una serie de días. Veamos un ejemplo"
      ],
      "metadata": {
        "id": "aK9g8EnaV81D"
      }
    },
    {
      "cell_type": "code",
      "source": [
        "start = '2020-01-01'\n",
        "\n",
        "symbol = 'GOOGL'\n",
        "stock_data = yf.Ticker(symbol)\n",
        "stock_data = stock_data.history(start=start)"
      ],
      "metadata": {
        "id": "0kEE68M6NXWo"
      },
      "execution_count": null,
      "outputs": []
    },
    {
      "cell_type": "code",
      "source": [
        "Google = stock_data[[\"Open\", \"Close\"]]"
      ],
      "metadata": {
        "id": "U2kceS0TkdTr"
      },
      "execution_count": null,
      "outputs": []
    },
    {
      "cell_type": "code",
      "source": [
        "Google[\"Close_1\"]= Google[\"Close\"].shift(1)\n",
        "Google.head()"
      ],
      "metadata": {
        "colab": {
          "base_uri": "https://localhost:8080/",
          "height": 403
        },
        "id": "WqktfAjYXlTx",
        "outputId": "74801127-23dc-4999-9cb7-ec128c7e24c5"
      },
      "execution_count": null,
      "outputs": [
        {
          "output_type": "stream",
          "name": "stderr",
          "text": [
            "/usr/local/lib/python3.7/dist-packages/ipykernel_launcher.py:1: SettingWithCopyWarning:\n",
            "\n",
            "\n",
            "A value is trying to be set on a copy of a slice from a DataFrame.\n",
            "Try using .loc[row_indexer,col_indexer] = value instead\n",
            "\n",
            "See the caveats in the documentation: https://pandas.pydata.org/pandas-docs/stable/user_guide/indexing.html#returning-a-view-versus-a-copy\n",
            "\n"
          ]
        },
        {
          "output_type": "execute_result",
          "data": {
            "text/html": [
              "\n",
              "  <div id=\"df-91179cb3-fd44-4ee6-97e9-623dd9e3a740\">\n",
              "    <div class=\"colab-df-container\">\n",
              "      <div>\n",
              "<style scoped>\n",
              "    .dataframe tbody tr th:only-of-type {\n",
              "        vertical-align: middle;\n",
              "    }\n",
              "\n",
              "    .dataframe tbody tr th {\n",
              "        vertical-align: top;\n",
              "    }\n",
              "\n",
              "    .dataframe thead th {\n",
              "        text-align: right;\n",
              "    }\n",
              "</style>\n",
              "<table border=\"1\" class=\"dataframe\">\n",
              "  <thead>\n",
              "    <tr style=\"text-align: right;\">\n",
              "      <th></th>\n",
              "      <th>Open</th>\n",
              "      <th>Close</th>\n",
              "      <th>Close_1</th>\n",
              "    </tr>\n",
              "    <tr>\n",
              "      <th>Date</th>\n",
              "      <th></th>\n",
              "      <th></th>\n",
              "      <th></th>\n",
              "    </tr>\n",
              "  </thead>\n",
              "  <tbody>\n",
              "    <tr>\n",
              "      <th>2020-01-02</th>\n",
              "      <td>1348.410034</td>\n",
              "      <td>1368.680054</td>\n",
              "      <td>NaN</td>\n",
              "    </tr>\n",
              "    <tr>\n",
              "      <th>2020-01-03</th>\n",
              "      <td>1348.000000</td>\n",
              "      <td>1361.520020</td>\n",
              "      <td>1368.680054</td>\n",
              "    </tr>\n",
              "    <tr>\n",
              "      <th>2020-01-06</th>\n",
              "      <td>1351.630005</td>\n",
              "      <td>1397.810059</td>\n",
              "      <td>1361.520020</td>\n",
              "    </tr>\n",
              "    <tr>\n",
              "      <th>2020-01-07</th>\n",
              "      <td>1400.459961</td>\n",
              "      <td>1395.109985</td>\n",
              "      <td>1397.810059</td>\n",
              "    </tr>\n",
              "    <tr>\n",
              "      <th>2020-01-08</th>\n",
              "      <td>1394.819946</td>\n",
              "      <td>1405.040039</td>\n",
              "      <td>1395.109985</td>\n",
              "    </tr>\n",
              "  </tbody>\n",
              "</table>\n",
              "</div>\n",
              "      <button class=\"colab-df-convert\" onclick=\"convertToInteractive('df-91179cb3-fd44-4ee6-97e9-623dd9e3a740')\"\n",
              "              title=\"Convert this dataframe to an interactive table.\"\n",
              "              style=\"display:none;\">\n",
              "        \n",
              "  <svg xmlns=\"http://www.w3.org/2000/svg\" height=\"24px\"viewBox=\"0 0 24 24\"\n",
              "       width=\"24px\">\n",
              "    <path d=\"M0 0h24v24H0V0z\" fill=\"none\"/>\n",
              "    <path d=\"M18.56 5.44l.94 2.06.94-2.06 2.06-.94-2.06-.94-.94-2.06-.94 2.06-2.06.94zm-11 1L8.5 8.5l.94-2.06 2.06-.94-2.06-.94L8.5 2.5l-.94 2.06-2.06.94zm10 10l.94 2.06.94-2.06 2.06-.94-2.06-.94-.94-2.06-.94 2.06-2.06.94z\"/><path d=\"M17.41 7.96l-1.37-1.37c-.4-.4-.92-.59-1.43-.59-.52 0-1.04.2-1.43.59L10.3 9.45l-7.72 7.72c-.78.78-.78 2.05 0 2.83L4 21.41c.39.39.9.59 1.41.59.51 0 1.02-.2 1.41-.59l7.78-7.78 2.81-2.81c.8-.78.8-2.07 0-2.86zM5.41 20L4 18.59l7.72-7.72 1.47 1.35L5.41 20z\"/>\n",
              "  </svg>\n",
              "      </button>\n",
              "      \n",
              "  <style>\n",
              "    .colab-df-container {\n",
              "      display:flex;\n",
              "      flex-wrap:wrap;\n",
              "      gap: 12px;\n",
              "    }\n",
              "\n",
              "    .colab-df-convert {\n",
              "      background-color: #E8F0FE;\n",
              "      border: none;\n",
              "      border-radius: 50%;\n",
              "      cursor: pointer;\n",
              "      display: none;\n",
              "      fill: #1967D2;\n",
              "      height: 32px;\n",
              "      padding: 0 0 0 0;\n",
              "      width: 32px;\n",
              "    }\n",
              "\n",
              "    .colab-df-convert:hover {\n",
              "      background-color: #E2EBFA;\n",
              "      box-shadow: 0px 1px 2px rgba(60, 64, 67, 0.3), 0px 1px 3px 1px rgba(60, 64, 67, 0.15);\n",
              "      fill: #174EA6;\n",
              "    }\n",
              "\n",
              "    [theme=dark] .colab-df-convert {\n",
              "      background-color: #3B4455;\n",
              "      fill: #D2E3FC;\n",
              "    }\n",
              "\n",
              "    [theme=dark] .colab-df-convert:hover {\n",
              "      background-color: #434B5C;\n",
              "      box-shadow: 0px 1px 3px 1px rgba(0, 0, 0, 0.15);\n",
              "      filter: drop-shadow(0px 1px 2px rgba(0, 0, 0, 0.3));\n",
              "      fill: #FFFFFF;\n",
              "    }\n",
              "  </style>\n",
              "\n",
              "      <script>\n",
              "        const buttonEl =\n",
              "          document.querySelector('#df-91179cb3-fd44-4ee6-97e9-623dd9e3a740 button.colab-df-convert');\n",
              "        buttonEl.style.display =\n",
              "          google.colab.kernel.accessAllowed ? 'block' : 'none';\n",
              "\n",
              "        async function convertToInteractive(key) {\n",
              "          const element = document.querySelector('#df-91179cb3-fd44-4ee6-97e9-623dd9e3a740');\n",
              "          const dataTable =\n",
              "            await google.colab.kernel.invokeFunction('convertToInteractive',\n",
              "                                                     [key], {});\n",
              "          if (!dataTable) return;\n",
              "\n",
              "          const docLinkHtml = 'Like what you see? Visit the ' +\n",
              "            '<a target=\"_blank\" href=https://colab.research.google.com/notebooks/data_table.ipynb>data table notebook</a>'\n",
              "            + ' to learn more about interactive tables.';\n",
              "          element.innerHTML = '';\n",
              "          dataTable['output_type'] = 'display_data';\n",
              "          await google.colab.output.renderOutput(dataTable, element);\n",
              "          const docLink = document.createElement('div');\n",
              "          docLink.innerHTML = docLinkHtml;\n",
              "          element.appendChild(docLink);\n",
              "        }\n",
              "      </script>\n",
              "    </div>\n",
              "  </div>\n",
              "  "
            ],
            "text/plain": [
              "                   Open        Close      Close_1\n",
              "Date                                             \n",
              "2020-01-02  1348.410034  1368.680054          NaN\n",
              "2020-01-03  1348.000000  1361.520020  1368.680054\n",
              "2020-01-06  1351.630005  1397.810059  1361.520020\n",
              "2020-01-07  1400.459961  1395.109985  1397.810059\n",
              "2020-01-08  1394.819946  1405.040039  1395.109985"
            ]
          },
          "metadata": {},
          "execution_count": 19
        }
      ]
    },
    {
      "cell_type": "markdown",
      "source": [
        "Ahora podemos ver las diferencias en esta nueva columna. Una aclaración importante: la primera fila de la columna de crecimiento es ahora NaN porque no tiene nadie con quien hacer el cálculo, es la primera fila del conjunto de datos"
      ],
      "metadata": {
        "id": "iSHKL66eaVWt"
      }
    },
    {
      "cell_type": "markdown",
      "source": [
        "### .Ticker\n",
        "Esta función nos traera la historia completa de la empresa que seleccionemos."
      ],
      "metadata": {
        "id": "BoERsWNb2DSb"
      }
    },
    {
      "cell_type": "code",
      "source": [
        "Apple = yf.Ticker(\"AAPL\") #Información completa"
      ],
      "metadata": {
        "id": "M8hFwQIYNXJl"
      },
      "execution_count": null,
      "outputs": []
    },
    {
      "cell_type": "markdown",
      "source": [
        "### .info\n",
        "\n",
        "Imprime una breve descripción de la empresa en cuestión (tipo de actividades, sectores en los que opera, número de empleados, productos, datos de contacto…etc)."
      ],
      "metadata": {
        "id": "URvGGzzFH-t5"
      }
    },
    {
      "cell_type": "code",
      "source": [
        "Apple.info #Resumen de la empresa"
      ],
      "metadata": {
        "colab": {
          "base_uri": "https://localhost:8080/"
        },
        "id": "YbLpz3keH6DD",
        "outputId": "af2ccd7d-6dd7-4a22-8a4c-b3be96c1a8a7"
      },
      "execution_count": null,
      "outputs": [
        {
          "output_type": "execute_result",
          "data": {
            "text/plain": [
              "{'52WeekChange': 0.38649797,\n",
              " 'SandP52WeekChange': 0.16401088,\n",
              " 'address1': 'One Apple Park Way',\n",
              " 'algorithm': None,\n",
              " 'annualHoldingsTurnover': None,\n",
              " 'annualReportExpenseRatio': None,\n",
              " 'ask': 167.73,\n",
              " 'askSize': 800,\n",
              " 'averageDailyVolume10Day': 88583900,\n",
              " 'averageVolume': 98938256,\n",
              " 'averageVolume10days': 88583900,\n",
              " 'beta': 1.187468,\n",
              " 'beta3Year': None,\n",
              " 'bid': 167.71,\n",
              " 'bidSize': 800,\n",
              " 'bookValue': 4.402,\n",
              " 'category': None,\n",
              " 'circulatingSupply': None,\n",
              " 'city': 'Cupertino',\n",
              " 'companyOfficers': [],\n",
              " 'country': 'United States',\n",
              " 'currency': 'USD',\n",
              " 'currentPrice': 167.06,\n",
              " 'currentRatio': 1.038,\n",
              " 'dateShortInterest': 1644883200,\n",
              " 'dayHigh': 168.91,\n",
              " 'dayLow': 165.9,\n",
              " 'debtToEquity': 170.714,\n",
              " 'dividendRate': 0.88,\n",
              " 'dividendYield': 0.0053,\n",
              " 'earningsGrowth': 0.25,\n",
              " 'earningsQuarterlyGrowth': 0.204,\n",
              " 'ebitda': 128217997312,\n",
              " 'ebitdaMargins': 0.33890998,\n",
              " 'enterpriseToEbitda': 21.659,\n",
              " 'enterpriseToRevenue': 7.34,\n",
              " 'enterpriseValue': 2777051037696,\n",
              " 'exDividendDate': 1643932800,\n",
              " 'exchange': 'NMS',\n",
              " 'exchangeTimezoneName': 'America/New_York',\n",
              " 'exchangeTimezoneShortName': 'EST',\n",
              " 'expireDate': None,\n",
              " 'fiftyDayAverage': 170.8638,\n",
              " 'fiftyTwoWeekHigh': 182.94,\n",
              " 'fiftyTwoWeekLow': 116.21,\n",
              " 'financialCurrency': 'USD',\n",
              " 'fiveYearAverageReturn': None,\n",
              " 'fiveYearAvgDividendYield': 1.13,\n",
              " 'floatShares': 16302795170,\n",
              " 'forwardEps': 6.56,\n",
              " 'forwardPE': 25.466463,\n",
              " 'freeCashflow': 80153247744,\n",
              " 'fromCurrency': None,\n",
              " 'fullTimeEmployees': 100000,\n",
              " 'fundFamily': None,\n",
              " 'fundInceptionDate': None,\n",
              " 'gmtOffSetMilliseconds': '-18000000',\n",
              " 'grossMargins': 0.43019,\n",
              " 'grossProfits': 152836000000,\n",
              " 'heldPercentInsiders': 0.0007,\n",
              " 'heldPercentInstitutions': 0.59516996,\n",
              " 'impliedSharesOutstanding': 0,\n",
              " 'industry': 'Consumer Electronics',\n",
              " 'isEsgPopulated': False,\n",
              " 'lastCapGain': None,\n",
              " 'lastDividendDate': 1643932800,\n",
              " 'lastDividendValue': 0.22,\n",
              " 'lastFiscalYearEnd': 1632528000,\n",
              " 'lastMarket': None,\n",
              " 'lastSplitDate': 1598832000,\n",
              " 'lastSplitFactor': '4:1',\n",
              " 'legalType': None,\n",
              " 'logo_url': 'https://logo.clearbit.com/apple.com',\n",
              " 'longBusinessSummary': 'Apple Inc. designs, manufactures, and markets smartphones, personal computers, tablets, wearables, and accessories worldwide. It also sells various related services. In addition, the company offers iPhone, a line of smartphones; Mac, a line of personal computers; iPad, a line of multi-purpose tablets; AirPods Max, an over-ear wireless headphone; and wearables, home, and accessories comprising AirPods, Apple TV, Apple Watch, Beats products, HomePod, and iPod touch. Further, it provides AppleCare support services; cloud services store services; and operates various platforms, including the App Store that allow customers to discover and download applications and digital content, such as books, music, video, games, and podcasts. Additionally, the company offers various services, such as Apple Arcade, a game subscription service; Apple Music, which offers users a curated listening experience with on-demand radio stations; Apple News+, a subscription news and magazine service; Apple TV+, which offers exclusive original content; Apple Card, a co-branded credit card; and Apple Pay, a cashless payment service, as well as licenses its intellectual property. The company serves consumers, and small and mid-sized businesses; and the education, enterprise, and government markets. It distributes third-party applications for its products through the App Store. The company also sells its products through its retail and online stores, and direct sales force; and third-party cellular network carriers, wholesalers, retailers, and resellers. Apple Inc. was incorporated in 1977 and is headquartered in Cupertino, California.',\n",
              " 'longName': 'Apple Inc.',\n",
              " 'market': 'us_market',\n",
              " 'marketCap': 2726318833664,\n",
              " 'maxAge': 1,\n",
              " 'maxSupply': None,\n",
              " 'messageBoardId': 'finmb_24937',\n",
              " 'morningStarOverallRating': None,\n",
              " 'morningStarRiskRating': None,\n",
              " 'mostRecentQuarter': 1640390400,\n",
              " 'navPrice': None,\n",
              " 'netIncomeToCommon': 100554997760,\n",
              " 'nextFiscalYearEnd': 1695600000,\n",
              " 'numberOfAnalystOpinions': 44,\n",
              " 'open': 168.47,\n",
              " 'openInterest': None,\n",
              " 'operatingCashflow': 112241000448,\n",
              " 'operatingMargins': 0.309,\n",
              " 'payoutRatio': 0.1434,\n",
              " 'pegRatio': 1.82,\n",
              " 'phone': '408 996 1010',\n",
              " 'preMarketPrice': 168.48,\n",
              " 'previousClose': 166.56,\n",
              " 'priceHint': 2,\n",
              " 'priceToBook': 37.95093,\n",
              " 'priceToSalesTrailing12Months': 7.2063255,\n",
              " 'profitMargins': 0.26579002,\n",
              " 'quickRatio': 0.875,\n",
              " 'quoteType': 'EQUITY',\n",
              " 'recommendationKey': 'buy',\n",
              " 'recommendationMean': 1.8,\n",
              " 'regularMarketDayHigh': 168.91,\n",
              " 'regularMarketDayLow': 165.9,\n",
              " 'regularMarketOpen': 168.47,\n",
              " 'regularMarketPreviousClose': 166.56,\n",
              " 'regularMarketPrice': 167.06,\n",
              " 'regularMarketVolume': 53615105,\n",
              " 'returnOnAssets': 0.19875,\n",
              " 'returnOnEquity': 1.45567,\n",
              " 'revenueGrowth': 0.112,\n",
              " 'revenuePerShare': 22.838,\n",
              " 'revenueQuarterlyGrowth': None,\n",
              " 'sector': 'Technology',\n",
              " 'sharesOutstanding': 16319399936,\n",
              " 'sharesPercentSharesOut': 0.0067000003,\n",
              " 'sharesShort': 108944701,\n",
              " 'sharesShortPreviousMonthDate': 1642118400,\n",
              " 'sharesShortPriorMonth': 90492581,\n",
              " 'shortName': 'Apple Inc.',\n",
              " 'shortPercentOfFloat': 0.0067000003,\n",
              " 'shortRatio': 1.08,\n",
              " 'startDate': None,\n",
              " 'state': 'CA',\n",
              " 'strikePrice': None,\n",
              " 'symbol': 'AAPL',\n",
              " 'targetHighPrice': 215,\n",
              " 'targetLowPrice': 160,\n",
              " 'targetMeanPrice': 192.96,\n",
              " 'targetMedianPrice': 197,\n",
              " 'threeYearAverageReturn': None,\n",
              " 'toCurrency': None,\n",
              " 'totalAssets': None,\n",
              " 'totalCash': 63913000960,\n",
              " 'totalCashPerShare': 3.916,\n",
              " 'totalDebt': 122797998080,\n",
              " 'totalRevenue': 378323009536,\n",
              " 'tradeable': False,\n",
              " 'trailingAnnualDividendRate': 0.865,\n",
              " 'trailingAnnualDividendYield': 0.005193324,\n",
              " 'trailingEps': 6.015,\n",
              " 'trailingPE': 27.7739,\n",
              " 'trailingPegRatio': 3.2017,\n",
              " 'twoHundredDayAverage': 152.41255,\n",
              " 'volume': 53615105,\n",
              " 'volume24Hr': None,\n",
              " 'volumeAllCurrencies': None,\n",
              " 'website': 'https://www.apple.com',\n",
              " 'yield': None,\n",
              " 'ytdReturn': None,\n",
              " 'zip': '95014'}"
            ]
          },
          "metadata": {},
          "execution_count": 21
        }
      ]
    },
    {
      "cell_type": "markdown",
      "source": [
        "### .history()\n",
        "\n",
        "Una de las principales informaciones que se suelen consultar a la hora de efectuar análisis económicos es la relativa a la evolución histórica de los principales indicadores (precio de apertura, máximo, mínimo, precio de cierre, dividendos…)."
      ],
      "metadata": {
        "id": "F-6e0rDnM-lE"
      }
    },
    {
      "cell_type": "code",
      "source": [
        "Apple_hist = Apple.history(period = \"max\")\n",
        "Apple_hist"
      ],
      "metadata": {
        "colab": {
          "base_uri": "https://localhost:8080/",
          "height": 710
        },
        "id": "8ieG4nVpKMUw",
        "outputId": "2b93d1f7-61ef-4ccc-9c2e-b214958f139d"
      },
      "execution_count": null,
      "outputs": [
        {
          "output_type": "execute_result",
          "data": {
            "text/html": [
              "\n",
              "  <div id=\"df-a3b73573-92af-46d3-b2cf-5e448dbe710b\">\n",
              "    <div class=\"colab-df-container\">\n",
              "      <div>\n",
              "<style scoped>\n",
              "    .dataframe tbody tr th:only-of-type {\n",
              "        vertical-align: middle;\n",
              "    }\n",
              "\n",
              "    .dataframe tbody tr th {\n",
              "        vertical-align: top;\n",
              "    }\n",
              "\n",
              "    .dataframe thead th {\n",
              "        text-align: right;\n",
              "    }\n",
              "</style>\n",
              "<table border=\"1\" class=\"dataframe\">\n",
              "  <thead>\n",
              "    <tr style=\"text-align: right;\">\n",
              "      <th></th>\n",
              "      <th>Open</th>\n",
              "      <th>High</th>\n",
              "      <th>Low</th>\n",
              "      <th>Close</th>\n",
              "      <th>Volume</th>\n",
              "      <th>Dividends</th>\n",
              "      <th>Stock Splits</th>\n",
              "    </tr>\n",
              "    <tr>\n",
              "      <th>Date</th>\n",
              "      <th></th>\n",
              "      <th></th>\n",
              "      <th></th>\n",
              "      <th></th>\n",
              "      <th></th>\n",
              "      <th></th>\n",
              "      <th></th>\n",
              "    </tr>\n",
              "  </thead>\n",
              "  <tbody>\n",
              "    <tr>\n",
              "      <th>1980-12-12</th>\n",
              "      <td>0.100326</td>\n",
              "      <td>0.100762</td>\n",
              "      <td>0.100326</td>\n",
              "      <td>0.100326</td>\n",
              "      <td>469033600</td>\n",
              "      <td>0.0</td>\n",
              "      <td>0.0</td>\n",
              "    </tr>\n",
              "    <tr>\n",
              "      <th>1980-12-15</th>\n",
              "      <td>0.095528</td>\n",
              "      <td>0.095528</td>\n",
              "      <td>0.095092</td>\n",
              "      <td>0.095092</td>\n",
              "      <td>175884800</td>\n",
              "      <td>0.0</td>\n",
              "      <td>0.0</td>\n",
              "    </tr>\n",
              "    <tr>\n",
              "      <th>1980-12-16</th>\n",
              "      <td>0.088548</td>\n",
              "      <td>0.088548</td>\n",
              "      <td>0.088112</td>\n",
              "      <td>0.088112</td>\n",
              "      <td>105728000</td>\n",
              "      <td>0.0</td>\n",
              "      <td>0.0</td>\n",
              "    </tr>\n",
              "    <tr>\n",
              "      <th>1980-12-17</th>\n",
              "      <td>0.090293</td>\n",
              "      <td>0.090729</td>\n",
              "      <td>0.090293</td>\n",
              "      <td>0.090293</td>\n",
              "      <td>86441600</td>\n",
              "      <td>0.0</td>\n",
              "      <td>0.0</td>\n",
              "    </tr>\n",
              "    <tr>\n",
              "      <th>1980-12-18</th>\n",
              "      <td>0.092911</td>\n",
              "      <td>0.093347</td>\n",
              "      <td>0.092911</td>\n",
              "      <td>0.092911</td>\n",
              "      <td>73449600</td>\n",
              "      <td>0.0</td>\n",
              "      <td>0.0</td>\n",
              "    </tr>\n",
              "    <tr>\n",
              "      <th>...</th>\n",
              "      <td>...</td>\n",
              "      <td>...</td>\n",
              "      <td>...</td>\n",
              "      <td>...</td>\n",
              "      <td>...</td>\n",
              "      <td>...</td>\n",
              "      <td>...</td>\n",
              "    </tr>\n",
              "    <tr>\n",
              "      <th>2022-02-25</th>\n",
              "      <td>163.839996</td>\n",
              "      <td>165.119995</td>\n",
              "      <td>160.869995</td>\n",
              "      <td>164.850006</td>\n",
              "      <td>91974200</td>\n",
              "      <td>0.0</td>\n",
              "      <td>0.0</td>\n",
              "    </tr>\n",
              "    <tr>\n",
              "      <th>2022-02-28</th>\n",
              "      <td>163.059998</td>\n",
              "      <td>165.419998</td>\n",
              "      <td>162.429993</td>\n",
              "      <td>165.119995</td>\n",
              "      <td>94869100</td>\n",
              "      <td>0.0</td>\n",
              "      <td>0.0</td>\n",
              "    </tr>\n",
              "    <tr>\n",
              "      <th>2022-03-01</th>\n",
              "      <td>164.699997</td>\n",
              "      <td>166.600006</td>\n",
              "      <td>161.970001</td>\n",
              "      <td>163.199997</td>\n",
              "      <td>83474400</td>\n",
              "      <td>0.0</td>\n",
              "      <td>0.0</td>\n",
              "    </tr>\n",
              "    <tr>\n",
              "      <th>2022-03-02</th>\n",
              "      <td>164.389999</td>\n",
              "      <td>167.360001</td>\n",
              "      <td>162.949997</td>\n",
              "      <td>166.559998</td>\n",
              "      <td>79662400</td>\n",
              "      <td>0.0</td>\n",
              "      <td>0.0</td>\n",
              "    </tr>\n",
              "    <tr>\n",
              "      <th>2022-03-03</th>\n",
              "      <td>168.470001</td>\n",
              "      <td>168.910004</td>\n",
              "      <td>165.899994</td>\n",
              "      <td>167.044998</td>\n",
              "      <td>53618942</td>\n",
              "      <td>0.0</td>\n",
              "      <td>0.0</td>\n",
              "    </tr>\n",
              "  </tbody>\n",
              "</table>\n",
              "<p>10394 rows × 7 columns</p>\n",
              "</div>\n",
              "      <button class=\"colab-df-convert\" onclick=\"convertToInteractive('df-a3b73573-92af-46d3-b2cf-5e448dbe710b')\"\n",
              "              title=\"Convert this dataframe to an interactive table.\"\n",
              "              style=\"display:none;\">\n",
              "        \n",
              "  <svg xmlns=\"http://www.w3.org/2000/svg\" height=\"24px\"viewBox=\"0 0 24 24\"\n",
              "       width=\"24px\">\n",
              "    <path d=\"M0 0h24v24H0V0z\" fill=\"none\"/>\n",
              "    <path d=\"M18.56 5.44l.94 2.06.94-2.06 2.06-.94-2.06-.94-.94-2.06-.94 2.06-2.06.94zm-11 1L8.5 8.5l.94-2.06 2.06-.94-2.06-.94L8.5 2.5l-.94 2.06-2.06.94zm10 10l.94 2.06.94-2.06 2.06-.94-2.06-.94-.94-2.06-.94 2.06-2.06.94z\"/><path d=\"M17.41 7.96l-1.37-1.37c-.4-.4-.92-.59-1.43-.59-.52 0-1.04.2-1.43.59L10.3 9.45l-7.72 7.72c-.78.78-.78 2.05 0 2.83L4 21.41c.39.39.9.59 1.41.59.51 0 1.02-.2 1.41-.59l7.78-7.78 2.81-2.81c.8-.78.8-2.07 0-2.86zM5.41 20L4 18.59l7.72-7.72 1.47 1.35L5.41 20z\"/>\n",
              "  </svg>\n",
              "      </button>\n",
              "      \n",
              "  <style>\n",
              "    .colab-df-container {\n",
              "      display:flex;\n",
              "      flex-wrap:wrap;\n",
              "      gap: 12px;\n",
              "    }\n",
              "\n",
              "    .colab-df-convert {\n",
              "      background-color: #E8F0FE;\n",
              "      border: none;\n",
              "      border-radius: 50%;\n",
              "      cursor: pointer;\n",
              "      display: none;\n",
              "      fill: #1967D2;\n",
              "      height: 32px;\n",
              "      padding: 0 0 0 0;\n",
              "      width: 32px;\n",
              "    }\n",
              "\n",
              "    .colab-df-convert:hover {\n",
              "      background-color: #E2EBFA;\n",
              "      box-shadow: 0px 1px 2px rgba(60, 64, 67, 0.3), 0px 1px 3px 1px rgba(60, 64, 67, 0.15);\n",
              "      fill: #174EA6;\n",
              "    }\n",
              "\n",
              "    [theme=dark] .colab-df-convert {\n",
              "      background-color: #3B4455;\n",
              "      fill: #D2E3FC;\n",
              "    }\n",
              "\n",
              "    [theme=dark] .colab-df-convert:hover {\n",
              "      background-color: #434B5C;\n",
              "      box-shadow: 0px 1px 3px 1px rgba(0, 0, 0, 0.15);\n",
              "      filter: drop-shadow(0px 1px 2px rgba(0, 0, 0, 0.3));\n",
              "      fill: #FFFFFF;\n",
              "    }\n",
              "  </style>\n",
              "\n",
              "      <script>\n",
              "        const buttonEl =\n",
              "          document.querySelector('#df-a3b73573-92af-46d3-b2cf-5e448dbe710b button.colab-df-convert');\n",
              "        buttonEl.style.display =\n",
              "          google.colab.kernel.accessAllowed ? 'block' : 'none';\n",
              "\n",
              "        async function convertToInteractive(key) {\n",
              "          const element = document.querySelector('#df-a3b73573-92af-46d3-b2cf-5e448dbe710b');\n",
              "          const dataTable =\n",
              "            await google.colab.kernel.invokeFunction('convertToInteractive',\n",
              "                                                     [key], {});\n",
              "          if (!dataTable) return;\n",
              "\n",
              "          const docLinkHtml = 'Like what you see? Visit the ' +\n",
              "            '<a target=\"_blank\" href=https://colab.research.google.com/notebooks/data_table.ipynb>data table notebook</a>'\n",
              "            + ' to learn more about interactive tables.';\n",
              "          element.innerHTML = '';\n",
              "          dataTable['output_type'] = 'display_data';\n",
              "          await google.colab.output.renderOutput(dataTable, element);\n",
              "          const docLink = document.createElement('div');\n",
              "          docLink.innerHTML = docLinkHtml;\n",
              "          element.appendChild(docLink);\n",
              "        }\n",
              "      </script>\n",
              "    </div>\n",
              "  </div>\n",
              "  "
            ],
            "text/plain": [
              "                  Open        High         Low       Close     Volume  \\\n",
              "Date                                                                    \n",
              "1980-12-12    0.100326    0.100762    0.100326    0.100326  469033600   \n",
              "1980-12-15    0.095528    0.095528    0.095092    0.095092  175884800   \n",
              "1980-12-16    0.088548    0.088548    0.088112    0.088112  105728000   \n",
              "1980-12-17    0.090293    0.090729    0.090293    0.090293   86441600   \n",
              "1980-12-18    0.092911    0.093347    0.092911    0.092911   73449600   \n",
              "...                ...         ...         ...         ...        ...   \n",
              "2022-02-25  163.839996  165.119995  160.869995  164.850006   91974200   \n",
              "2022-02-28  163.059998  165.419998  162.429993  165.119995   94869100   \n",
              "2022-03-01  164.699997  166.600006  161.970001  163.199997   83474400   \n",
              "2022-03-02  164.389999  167.360001  162.949997  166.559998   79662400   \n",
              "2022-03-03  168.470001  168.910004  165.899994  167.044998   53618942   \n",
              "\n",
              "            Dividends  Stock Splits  \n",
              "Date                                 \n",
              "1980-12-12        0.0           0.0  \n",
              "1980-12-15        0.0           0.0  \n",
              "1980-12-16        0.0           0.0  \n",
              "1980-12-17        0.0           0.0  \n",
              "1980-12-18        0.0           0.0  \n",
              "...               ...           ...  \n",
              "2022-02-25        0.0           0.0  \n",
              "2022-02-28        0.0           0.0  \n",
              "2022-03-01        0.0           0.0  \n",
              "2022-03-02        0.0           0.0  \n",
              "2022-03-03        0.0           0.0  \n",
              "\n",
              "[10394 rows x 7 columns]"
            ]
          },
          "metadata": {},
          "execution_count": 22
        }
      ]
    },
    {
      "cell_type": "markdown",
      "source": [
        "### .actions\n",
        "\n",
        "yfinance también nos ofrece la posibilidad de acceder a otras informaciones tales como dividendos, accionistas, calendarios, vencimiento de opciones…etc."
      ],
      "metadata": {
        "id": "AUsNQmk2UjxZ"
      }
    },
    {
      "cell_type": "markdown",
      "source": [
        "#### Acciones"
      ],
      "metadata": {
        "id": "dWnZo8gyVCyj"
      }
    },
    {
      "cell_type": "code",
      "source": [
        "Apple.actions"
      ],
      "metadata": {
        "colab": {
          "base_uri": "https://localhost:8080/",
          "height": 455
        },
        "id": "weNpFEHeUlnY",
        "outputId": "8b6ccf4d-d80e-4fdb-973e-7376e7cac7e0"
      },
      "execution_count": null,
      "outputs": [
        {
          "output_type": "execute_result",
          "data": {
            "text/html": [
              "\n",
              "  <div id=\"df-a87cc413-76be-4e32-a5e8-ecc96fd06323\">\n",
              "    <div class=\"colab-df-container\">\n",
              "      <div>\n",
              "<style scoped>\n",
              "    .dataframe tbody tr th:only-of-type {\n",
              "        vertical-align: middle;\n",
              "    }\n",
              "\n",
              "    .dataframe tbody tr th {\n",
              "        vertical-align: top;\n",
              "    }\n",
              "\n",
              "    .dataframe thead th {\n",
              "        text-align: right;\n",
              "    }\n",
              "</style>\n",
              "<table border=\"1\" class=\"dataframe\">\n",
              "  <thead>\n",
              "    <tr style=\"text-align: right;\">\n",
              "      <th></th>\n",
              "      <th>Dividends</th>\n",
              "      <th>Stock Splits</th>\n",
              "    </tr>\n",
              "    <tr>\n",
              "      <th>Date</th>\n",
              "      <th></th>\n",
              "      <th></th>\n",
              "    </tr>\n",
              "  </thead>\n",
              "  <tbody>\n",
              "    <tr>\n",
              "      <th>1987-05-11</th>\n",
              "      <td>0.000536</td>\n",
              "      <td>0.0</td>\n",
              "    </tr>\n",
              "    <tr>\n",
              "      <th>1987-06-16</th>\n",
              "      <td>0.000000</td>\n",
              "      <td>2.0</td>\n",
              "    </tr>\n",
              "    <tr>\n",
              "      <th>1987-08-10</th>\n",
              "      <td>0.000536</td>\n",
              "      <td>0.0</td>\n",
              "    </tr>\n",
              "    <tr>\n",
              "      <th>1987-11-17</th>\n",
              "      <td>0.000714</td>\n",
              "      <td>0.0</td>\n",
              "    </tr>\n",
              "    <tr>\n",
              "      <th>1988-02-12</th>\n",
              "      <td>0.000714</td>\n",
              "      <td>0.0</td>\n",
              "    </tr>\n",
              "    <tr>\n",
              "      <th>...</th>\n",
              "      <td>...</td>\n",
              "      <td>...</td>\n",
              "    </tr>\n",
              "    <tr>\n",
              "      <th>2021-02-05</th>\n",
              "      <td>0.205000</td>\n",
              "      <td>0.0</td>\n",
              "    </tr>\n",
              "    <tr>\n",
              "      <th>2021-05-07</th>\n",
              "      <td>0.220000</td>\n",
              "      <td>0.0</td>\n",
              "    </tr>\n",
              "    <tr>\n",
              "      <th>2021-08-06</th>\n",
              "      <td>0.220000</td>\n",
              "      <td>0.0</td>\n",
              "    </tr>\n",
              "    <tr>\n",
              "      <th>2021-11-05</th>\n",
              "      <td>0.220000</td>\n",
              "      <td>0.0</td>\n",
              "    </tr>\n",
              "    <tr>\n",
              "      <th>2022-02-04</th>\n",
              "      <td>0.220000</td>\n",
              "      <td>0.0</td>\n",
              "    </tr>\n",
              "  </tbody>\n",
              "</table>\n",
              "<p>79 rows × 2 columns</p>\n",
              "</div>\n",
              "      <button class=\"colab-df-convert\" onclick=\"convertToInteractive('df-a87cc413-76be-4e32-a5e8-ecc96fd06323')\"\n",
              "              title=\"Convert this dataframe to an interactive table.\"\n",
              "              style=\"display:none;\">\n",
              "        \n",
              "  <svg xmlns=\"http://www.w3.org/2000/svg\" height=\"24px\"viewBox=\"0 0 24 24\"\n",
              "       width=\"24px\">\n",
              "    <path d=\"M0 0h24v24H0V0z\" fill=\"none\"/>\n",
              "    <path d=\"M18.56 5.44l.94 2.06.94-2.06 2.06-.94-2.06-.94-.94-2.06-.94 2.06-2.06.94zm-11 1L8.5 8.5l.94-2.06 2.06-.94-2.06-.94L8.5 2.5l-.94 2.06-2.06.94zm10 10l.94 2.06.94-2.06 2.06-.94-2.06-.94-.94-2.06-.94 2.06-2.06.94z\"/><path d=\"M17.41 7.96l-1.37-1.37c-.4-.4-.92-.59-1.43-.59-.52 0-1.04.2-1.43.59L10.3 9.45l-7.72 7.72c-.78.78-.78 2.05 0 2.83L4 21.41c.39.39.9.59 1.41.59.51 0 1.02-.2 1.41-.59l7.78-7.78 2.81-2.81c.8-.78.8-2.07 0-2.86zM5.41 20L4 18.59l7.72-7.72 1.47 1.35L5.41 20z\"/>\n",
              "  </svg>\n",
              "      </button>\n",
              "      \n",
              "  <style>\n",
              "    .colab-df-container {\n",
              "      display:flex;\n",
              "      flex-wrap:wrap;\n",
              "      gap: 12px;\n",
              "    }\n",
              "\n",
              "    .colab-df-convert {\n",
              "      background-color: #E8F0FE;\n",
              "      border: none;\n",
              "      border-radius: 50%;\n",
              "      cursor: pointer;\n",
              "      display: none;\n",
              "      fill: #1967D2;\n",
              "      height: 32px;\n",
              "      padding: 0 0 0 0;\n",
              "      width: 32px;\n",
              "    }\n",
              "\n",
              "    .colab-df-convert:hover {\n",
              "      background-color: #E2EBFA;\n",
              "      box-shadow: 0px 1px 2px rgba(60, 64, 67, 0.3), 0px 1px 3px 1px rgba(60, 64, 67, 0.15);\n",
              "      fill: #174EA6;\n",
              "    }\n",
              "\n",
              "    [theme=dark] .colab-df-convert {\n",
              "      background-color: #3B4455;\n",
              "      fill: #D2E3FC;\n",
              "    }\n",
              "\n",
              "    [theme=dark] .colab-df-convert:hover {\n",
              "      background-color: #434B5C;\n",
              "      box-shadow: 0px 1px 3px 1px rgba(0, 0, 0, 0.15);\n",
              "      filter: drop-shadow(0px 1px 2px rgba(0, 0, 0, 0.3));\n",
              "      fill: #FFFFFF;\n",
              "    }\n",
              "  </style>\n",
              "\n",
              "      <script>\n",
              "        const buttonEl =\n",
              "          document.querySelector('#df-a87cc413-76be-4e32-a5e8-ecc96fd06323 button.colab-df-convert');\n",
              "        buttonEl.style.display =\n",
              "          google.colab.kernel.accessAllowed ? 'block' : 'none';\n",
              "\n",
              "        async function convertToInteractive(key) {\n",
              "          const element = document.querySelector('#df-a87cc413-76be-4e32-a5e8-ecc96fd06323');\n",
              "          const dataTable =\n",
              "            await google.colab.kernel.invokeFunction('convertToInteractive',\n",
              "                                                     [key], {});\n",
              "          if (!dataTable) return;\n",
              "\n",
              "          const docLinkHtml = 'Like what you see? Visit the ' +\n",
              "            '<a target=\"_blank\" href=https://colab.research.google.com/notebooks/data_table.ipynb>data table notebook</a>'\n",
              "            + ' to learn more about interactive tables.';\n",
              "          element.innerHTML = '';\n",
              "          dataTable['output_type'] = 'display_data';\n",
              "          await google.colab.output.renderOutput(dataTable, element);\n",
              "          const docLink = document.createElement('div');\n",
              "          docLink.innerHTML = docLinkHtml;\n",
              "          element.appendChild(docLink);\n",
              "        }\n",
              "      </script>\n",
              "    </div>\n",
              "  </div>\n",
              "  "
            ],
            "text/plain": [
              "            Dividends  Stock Splits\n",
              "Date                               \n",
              "1987-05-11   0.000536           0.0\n",
              "1987-06-16   0.000000           2.0\n",
              "1987-08-10   0.000536           0.0\n",
              "1987-11-17   0.000714           0.0\n",
              "1988-02-12   0.000714           0.0\n",
              "...               ...           ...\n",
              "2021-02-05   0.205000           0.0\n",
              "2021-05-07   0.220000           0.0\n",
              "2021-08-06   0.220000           0.0\n",
              "2021-11-05   0.220000           0.0\n",
              "2022-02-04   0.220000           0.0\n",
              "\n",
              "[79 rows x 2 columns]"
            ]
          },
          "metadata": {},
          "execution_count": 23
        }
      ]
    },
    {
      "cell_type": "markdown",
      "source": [
        "#### Accionistas principales"
      ],
      "metadata": {
        "id": "r1zoUB-4U_My"
      }
    },
    {
      "cell_type": "code",
      "source": [
        "Apple.major_holders"
      ],
      "metadata": {
        "colab": {
          "base_uri": "https://localhost:8080/",
          "height": 175
        },
        "id": "xf2WrCVdVG25",
        "outputId": "bcf04176-b948-485a-ece0-6ea0acfa039e"
      },
      "execution_count": null,
      "outputs": [
        {
          "output_type": "execute_result",
          "data": {
            "text/html": [
              "\n",
              "  <div id=\"df-bfe93d39-5520-42c3-b635-f1b91efdd0bb\">\n",
              "    <div class=\"colab-df-container\">\n",
              "      <div>\n",
              "<style scoped>\n",
              "    .dataframe tbody tr th:only-of-type {\n",
              "        vertical-align: middle;\n",
              "    }\n",
              "\n",
              "    .dataframe tbody tr th {\n",
              "        vertical-align: top;\n",
              "    }\n",
              "\n",
              "    .dataframe thead th {\n",
              "        text-align: right;\n",
              "    }\n",
              "</style>\n",
              "<table border=\"1\" class=\"dataframe\">\n",
              "  <thead>\n",
              "    <tr style=\"text-align: right;\">\n",
              "      <th></th>\n",
              "      <th>0</th>\n",
              "      <th>1</th>\n",
              "    </tr>\n",
              "  </thead>\n",
              "  <tbody>\n",
              "    <tr>\n",
              "      <th>0</th>\n",
              "      <td>0.07%</td>\n",
              "      <td>% of Shares Held by All Insider</td>\n",
              "    </tr>\n",
              "    <tr>\n",
              "      <th>1</th>\n",
              "      <td>59.52%</td>\n",
              "      <td>% of Shares Held by Institutions</td>\n",
              "    </tr>\n",
              "    <tr>\n",
              "      <th>2</th>\n",
              "      <td>59.56%</td>\n",
              "      <td>% of Float Held by Institutions</td>\n",
              "    </tr>\n",
              "    <tr>\n",
              "      <th>3</th>\n",
              "      <td>5403</td>\n",
              "      <td>Number of Institutions Holding Shares</td>\n",
              "    </tr>\n",
              "  </tbody>\n",
              "</table>\n",
              "</div>\n",
              "      <button class=\"colab-df-convert\" onclick=\"convertToInteractive('df-bfe93d39-5520-42c3-b635-f1b91efdd0bb')\"\n",
              "              title=\"Convert this dataframe to an interactive table.\"\n",
              "              style=\"display:none;\">\n",
              "        \n",
              "  <svg xmlns=\"http://www.w3.org/2000/svg\" height=\"24px\"viewBox=\"0 0 24 24\"\n",
              "       width=\"24px\">\n",
              "    <path d=\"M0 0h24v24H0V0z\" fill=\"none\"/>\n",
              "    <path d=\"M18.56 5.44l.94 2.06.94-2.06 2.06-.94-2.06-.94-.94-2.06-.94 2.06-2.06.94zm-11 1L8.5 8.5l.94-2.06 2.06-.94-2.06-.94L8.5 2.5l-.94 2.06-2.06.94zm10 10l.94 2.06.94-2.06 2.06-.94-2.06-.94-.94-2.06-.94 2.06-2.06.94z\"/><path d=\"M17.41 7.96l-1.37-1.37c-.4-.4-.92-.59-1.43-.59-.52 0-1.04.2-1.43.59L10.3 9.45l-7.72 7.72c-.78.78-.78 2.05 0 2.83L4 21.41c.39.39.9.59 1.41.59.51 0 1.02-.2 1.41-.59l7.78-7.78 2.81-2.81c.8-.78.8-2.07 0-2.86zM5.41 20L4 18.59l7.72-7.72 1.47 1.35L5.41 20z\"/>\n",
              "  </svg>\n",
              "      </button>\n",
              "      \n",
              "  <style>\n",
              "    .colab-df-container {\n",
              "      display:flex;\n",
              "      flex-wrap:wrap;\n",
              "      gap: 12px;\n",
              "    }\n",
              "\n",
              "    .colab-df-convert {\n",
              "      background-color: #E8F0FE;\n",
              "      border: none;\n",
              "      border-radius: 50%;\n",
              "      cursor: pointer;\n",
              "      display: none;\n",
              "      fill: #1967D2;\n",
              "      height: 32px;\n",
              "      padding: 0 0 0 0;\n",
              "      width: 32px;\n",
              "    }\n",
              "\n",
              "    .colab-df-convert:hover {\n",
              "      background-color: #E2EBFA;\n",
              "      box-shadow: 0px 1px 2px rgba(60, 64, 67, 0.3), 0px 1px 3px 1px rgba(60, 64, 67, 0.15);\n",
              "      fill: #174EA6;\n",
              "    }\n",
              "\n",
              "    [theme=dark] .colab-df-convert {\n",
              "      background-color: #3B4455;\n",
              "      fill: #D2E3FC;\n",
              "    }\n",
              "\n",
              "    [theme=dark] .colab-df-convert:hover {\n",
              "      background-color: #434B5C;\n",
              "      box-shadow: 0px 1px 3px 1px rgba(0, 0, 0, 0.15);\n",
              "      filter: drop-shadow(0px 1px 2px rgba(0, 0, 0, 0.3));\n",
              "      fill: #FFFFFF;\n",
              "    }\n",
              "  </style>\n",
              "\n",
              "      <script>\n",
              "        const buttonEl =\n",
              "          document.querySelector('#df-bfe93d39-5520-42c3-b635-f1b91efdd0bb button.colab-df-convert');\n",
              "        buttonEl.style.display =\n",
              "          google.colab.kernel.accessAllowed ? 'block' : 'none';\n",
              "\n",
              "        async function convertToInteractive(key) {\n",
              "          const element = document.querySelector('#df-bfe93d39-5520-42c3-b635-f1b91efdd0bb');\n",
              "          const dataTable =\n",
              "            await google.colab.kernel.invokeFunction('convertToInteractive',\n",
              "                                                     [key], {});\n",
              "          if (!dataTable) return;\n",
              "\n",
              "          const docLinkHtml = 'Like what you see? Visit the ' +\n",
              "            '<a target=\"_blank\" href=https://colab.research.google.com/notebooks/data_table.ipynb>data table notebook</a>'\n",
              "            + ' to learn more about interactive tables.';\n",
              "          element.innerHTML = '';\n",
              "          dataTable['output_type'] = 'display_data';\n",
              "          await google.colab.output.renderOutput(dataTable, element);\n",
              "          const docLink = document.createElement('div');\n",
              "          docLink.innerHTML = docLinkHtml;\n",
              "          element.appendChild(docLink);\n",
              "        }\n",
              "      </script>\n",
              "    </div>\n",
              "  </div>\n",
              "  "
            ],
            "text/plain": [
              "        0                                      1\n",
              "0   0.07%        % of Shares Held by All Insider\n",
              "1  59.52%       % of Shares Held by Institutions\n",
              "2  59.56%        % of Float Held by Institutions\n",
              "3    5403  Number of Institutions Holding Shares"
            ]
          },
          "metadata": {},
          "execution_count": 24
        }
      ]
    },
    {
      "cell_type": "markdown",
      "source": [
        "#### Accionistas institucionales"
      ],
      "metadata": {
        "id": "8-8_DxD2VKxo"
      }
    },
    {
      "cell_type": "code",
      "source": [
        "Apple.institutional_holders"
      ],
      "metadata": {
        "colab": {
          "base_uri": "https://localhost:8080/",
          "height": 442
        },
        "id": "RR469FlzVPsr",
        "outputId": "5023d72a-0084-4ec9-88e9-16c2a08616e8"
      },
      "execution_count": null,
      "outputs": [
        {
          "output_type": "execute_result",
          "data": {
            "text/html": [
              "\n",
              "  <div id=\"df-6a6be2ed-5877-4406-9df9-2ab6afa3d7a0\">\n",
              "    <div class=\"colab-df-container\">\n",
              "      <div>\n",
              "<style scoped>\n",
              "    .dataframe tbody tr th:only-of-type {\n",
              "        vertical-align: middle;\n",
              "    }\n",
              "\n",
              "    .dataframe tbody tr th {\n",
              "        vertical-align: top;\n",
              "    }\n",
              "\n",
              "    .dataframe thead th {\n",
              "        text-align: right;\n",
              "    }\n",
              "</style>\n",
              "<table border=\"1\" class=\"dataframe\">\n",
              "  <thead>\n",
              "    <tr style=\"text-align: right;\">\n",
              "      <th></th>\n",
              "      <th>Holder</th>\n",
              "      <th>Shares</th>\n",
              "      <th>Date Reported</th>\n",
              "      <th>% Out</th>\n",
              "      <th>Value</th>\n",
              "    </tr>\n",
              "  </thead>\n",
              "  <tbody>\n",
              "    <tr>\n",
              "      <th>0</th>\n",
              "      <td>Vanguard Group, Inc. (The)</td>\n",
              "      <td>1261261357</td>\n",
              "      <td>2021-12-30</td>\n",
              "      <td>0.0773</td>\n",
              "      <td>223962179162</td>\n",
              "    </tr>\n",
              "    <tr>\n",
              "      <th>1</th>\n",
              "      <td>Blackrock Inc.</td>\n",
              "      <td>1019810291</td>\n",
              "      <td>2021-12-30</td>\n",
              "      <td>0.0625</td>\n",
              "      <td>181087713372</td>\n",
              "    </tr>\n",
              "    <tr>\n",
              "      <th>2</th>\n",
              "      <td>Berkshire Hathaway, Inc</td>\n",
              "      <td>887135554</td>\n",
              "      <td>2021-12-30</td>\n",
              "      <td>0.0544</td>\n",
              "      <td>157528660323</td>\n",
              "    </tr>\n",
              "    <tr>\n",
              "      <th>3</th>\n",
              "      <td>State Street Corporation</td>\n",
              "      <td>633115246</td>\n",
              "      <td>2021-12-30</td>\n",
              "      <td>0.0388</td>\n",
              "      <td>112422274232</td>\n",
              "    </tr>\n",
              "    <tr>\n",
              "      <th>4</th>\n",
              "      <td>FMR, LLC</td>\n",
              "      <td>352204129</td>\n",
              "      <td>2021-12-30</td>\n",
              "      <td>0.0216</td>\n",
              "      <td>62540887186</td>\n",
              "    </tr>\n",
              "    <tr>\n",
              "      <th>5</th>\n",
              "      <td>Geode Capital Management, LLC</td>\n",
              "      <td>264351901</td>\n",
              "      <td>2021-12-30</td>\n",
              "      <td>0.0162</td>\n",
              "      <td>46940967060</td>\n",
              "    </tr>\n",
              "    <tr>\n",
              "      <th>6</th>\n",
              "      <td>Price (T.Rowe) Associates Inc</td>\n",
              "      <td>223148792</td>\n",
              "      <td>2021-12-30</td>\n",
              "      <td>0.0137</td>\n",
              "      <td>39624530995</td>\n",
              "    </tr>\n",
              "    <tr>\n",
              "      <th>7</th>\n",
              "      <td>Northern Trust Corporation</td>\n",
              "      <td>190876014</td>\n",
              "      <td>2021-12-30</td>\n",
              "      <td>0.0117</td>\n",
              "      <td>33893853805</td>\n",
              "    </tr>\n",
              "    <tr>\n",
              "      <th>8</th>\n",
              "      <td>Bank Of New York Mellon Corporation</td>\n",
              "      <td>144695935</td>\n",
              "      <td>2021-12-30</td>\n",
              "      <td>0.0089</td>\n",
              "      <td>25693657177</td>\n",
              "    </tr>\n",
              "    <tr>\n",
              "      <th>9</th>\n",
              "      <td>Morgan Stanley</td>\n",
              "      <td>132461564</td>\n",
              "      <td>2021-12-30</td>\n",
              "      <td>0.0081</td>\n",
              "      <td>23521199919</td>\n",
              "    </tr>\n",
              "  </tbody>\n",
              "</table>\n",
              "</div>\n",
              "      <button class=\"colab-df-convert\" onclick=\"convertToInteractive('df-6a6be2ed-5877-4406-9df9-2ab6afa3d7a0')\"\n",
              "              title=\"Convert this dataframe to an interactive table.\"\n",
              "              style=\"display:none;\">\n",
              "        \n",
              "  <svg xmlns=\"http://www.w3.org/2000/svg\" height=\"24px\"viewBox=\"0 0 24 24\"\n",
              "       width=\"24px\">\n",
              "    <path d=\"M0 0h24v24H0V0z\" fill=\"none\"/>\n",
              "    <path d=\"M18.56 5.44l.94 2.06.94-2.06 2.06-.94-2.06-.94-.94-2.06-.94 2.06-2.06.94zm-11 1L8.5 8.5l.94-2.06 2.06-.94-2.06-.94L8.5 2.5l-.94 2.06-2.06.94zm10 10l.94 2.06.94-2.06 2.06-.94-2.06-.94-.94-2.06-.94 2.06-2.06.94z\"/><path d=\"M17.41 7.96l-1.37-1.37c-.4-.4-.92-.59-1.43-.59-.52 0-1.04.2-1.43.59L10.3 9.45l-7.72 7.72c-.78.78-.78 2.05 0 2.83L4 21.41c.39.39.9.59 1.41.59.51 0 1.02-.2 1.41-.59l7.78-7.78 2.81-2.81c.8-.78.8-2.07 0-2.86zM5.41 20L4 18.59l7.72-7.72 1.47 1.35L5.41 20z\"/>\n",
              "  </svg>\n",
              "      </button>\n",
              "      \n",
              "  <style>\n",
              "    .colab-df-container {\n",
              "      display:flex;\n",
              "      flex-wrap:wrap;\n",
              "      gap: 12px;\n",
              "    }\n",
              "\n",
              "    .colab-df-convert {\n",
              "      background-color: #E8F0FE;\n",
              "      border: none;\n",
              "      border-radius: 50%;\n",
              "      cursor: pointer;\n",
              "      display: none;\n",
              "      fill: #1967D2;\n",
              "      height: 32px;\n",
              "      padding: 0 0 0 0;\n",
              "      width: 32px;\n",
              "    }\n",
              "\n",
              "    .colab-df-convert:hover {\n",
              "      background-color: #E2EBFA;\n",
              "      box-shadow: 0px 1px 2px rgba(60, 64, 67, 0.3), 0px 1px 3px 1px rgba(60, 64, 67, 0.15);\n",
              "      fill: #174EA6;\n",
              "    }\n",
              "\n",
              "    [theme=dark] .colab-df-convert {\n",
              "      background-color: #3B4455;\n",
              "      fill: #D2E3FC;\n",
              "    }\n",
              "\n",
              "    [theme=dark] .colab-df-convert:hover {\n",
              "      background-color: #434B5C;\n",
              "      box-shadow: 0px 1px 3px 1px rgba(0, 0, 0, 0.15);\n",
              "      filter: drop-shadow(0px 1px 2px rgba(0, 0, 0, 0.3));\n",
              "      fill: #FFFFFF;\n",
              "    }\n",
              "  </style>\n",
              "\n",
              "      <script>\n",
              "        const buttonEl =\n",
              "          document.querySelector('#df-6a6be2ed-5877-4406-9df9-2ab6afa3d7a0 button.colab-df-convert');\n",
              "        buttonEl.style.display =\n",
              "          google.colab.kernel.accessAllowed ? 'block' : 'none';\n",
              "\n",
              "        async function convertToInteractive(key) {\n",
              "          const element = document.querySelector('#df-6a6be2ed-5877-4406-9df9-2ab6afa3d7a0');\n",
              "          const dataTable =\n",
              "            await google.colab.kernel.invokeFunction('convertToInteractive',\n",
              "                                                     [key], {});\n",
              "          if (!dataTable) return;\n",
              "\n",
              "          const docLinkHtml = 'Like what you see? Visit the ' +\n",
              "            '<a target=\"_blank\" href=https://colab.research.google.com/notebooks/data_table.ipynb>data table notebook</a>'\n",
              "            + ' to learn more about interactive tables.';\n",
              "          element.innerHTML = '';\n",
              "          dataTable['output_type'] = 'display_data';\n",
              "          await google.colab.output.renderOutput(dataTable, element);\n",
              "          const docLink = document.createElement('div');\n",
              "          docLink.innerHTML = docLinkHtml;\n",
              "          element.appendChild(docLink);\n",
              "        }\n",
              "      </script>\n",
              "    </div>\n",
              "  </div>\n",
              "  "
            ],
            "text/plain": [
              "                                Holder      Shares Date Reported   % Out  \\\n",
              "0           Vanguard Group, Inc. (The)  1261261357    2021-12-30  0.0773   \n",
              "1                       Blackrock Inc.  1019810291    2021-12-30  0.0625   \n",
              "2              Berkshire Hathaway, Inc   887135554    2021-12-30  0.0544   \n",
              "3             State Street Corporation   633115246    2021-12-30  0.0388   \n",
              "4                             FMR, LLC   352204129    2021-12-30  0.0216   \n",
              "5        Geode Capital Management, LLC   264351901    2021-12-30  0.0162   \n",
              "6        Price (T.Rowe) Associates Inc   223148792    2021-12-30  0.0137   \n",
              "7           Northern Trust Corporation   190876014    2021-12-30  0.0117   \n",
              "8  Bank Of New York Mellon Corporation   144695935    2021-12-30  0.0089   \n",
              "9                       Morgan Stanley   132461564    2021-12-30  0.0081   \n",
              "\n",
              "          Value  \n",
              "0  223962179162  \n",
              "1  181087713372  \n",
              "2  157528660323  \n",
              "3  112422274232  \n",
              "4   62540887186  \n",
              "5   46940967060  \n",
              "6   39624530995  \n",
              "7   33893853805  \n",
              "8   25693657177  \n",
              "9   23521199919  "
            ]
          },
          "metadata": {},
          "execution_count": 25
        }
      ]
    },
    {
      "cell_type": "markdown",
      "source": [
        "####Sustentabilidad"
      ],
      "metadata": {
        "id": "VwJmUuD-VUdz"
      }
    },
    {
      "cell_type": "code",
      "source": [
        "Apple.sustainability"
      ],
      "metadata": {
        "colab": {
          "base_uri": "https://localhost:8080/",
          "height": 927
        },
        "id": "a10w0SLHVS-M",
        "outputId": "92dda6fc-550c-4e17-fadd-a447a72aa73d"
      },
      "execution_count": null,
      "outputs": [
        {
          "output_type": "execute_result",
          "data": {
            "text/html": [
              "\n",
              "  <div id=\"df-a6b061d0-0ece-4741-bf3b-ea8d6b8efffd\">\n",
              "    <div class=\"colab-df-container\">\n",
              "      <div>\n",
              "<style scoped>\n",
              "    .dataframe tbody tr th:only-of-type {\n",
              "        vertical-align: middle;\n",
              "    }\n",
              "\n",
              "    .dataframe tbody tr th {\n",
              "        vertical-align: top;\n",
              "    }\n",
              "\n",
              "    .dataframe thead th {\n",
              "        text-align: right;\n",
              "    }\n",
              "</style>\n",
              "<table border=\"1\" class=\"dataframe\">\n",
              "  <thead>\n",
              "    <tr style=\"text-align: right;\">\n",
              "      <th></th>\n",
              "      <th>Value</th>\n",
              "    </tr>\n",
              "    <tr>\n",
              "      <th>2022-2</th>\n",
              "      <th></th>\n",
              "    </tr>\n",
              "  </thead>\n",
              "  <tbody>\n",
              "    <tr>\n",
              "      <th>palmOil</th>\n",
              "      <td>False</td>\n",
              "    </tr>\n",
              "    <tr>\n",
              "      <th>controversialWeapons</th>\n",
              "      <td>False</td>\n",
              "    </tr>\n",
              "    <tr>\n",
              "      <th>gambling</th>\n",
              "      <td>False</td>\n",
              "    </tr>\n",
              "    <tr>\n",
              "      <th>socialScore</th>\n",
              "      <td>6.86</td>\n",
              "    </tr>\n",
              "    <tr>\n",
              "      <th>nuclear</th>\n",
              "      <td>False</td>\n",
              "    </tr>\n",
              "    <tr>\n",
              "      <th>furLeather</th>\n",
              "      <td>False</td>\n",
              "    </tr>\n",
              "    <tr>\n",
              "      <th>alcoholic</th>\n",
              "      <td>False</td>\n",
              "    </tr>\n",
              "    <tr>\n",
              "      <th>gmo</th>\n",
              "      <td>False</td>\n",
              "    </tr>\n",
              "    <tr>\n",
              "      <th>catholic</th>\n",
              "      <td>False</td>\n",
              "    </tr>\n",
              "    <tr>\n",
              "      <th>socialPercentile</th>\n",
              "      <td>None</td>\n",
              "    </tr>\n",
              "    <tr>\n",
              "      <th>peerCount</th>\n",
              "      <td>55</td>\n",
              "    </tr>\n",
              "    <tr>\n",
              "      <th>governanceScore</th>\n",
              "      <td>8.76</td>\n",
              "    </tr>\n",
              "    <tr>\n",
              "      <th>environmentPercentile</th>\n",
              "      <td>None</td>\n",
              "    </tr>\n",
              "    <tr>\n",
              "      <th>animalTesting</th>\n",
              "      <td>False</td>\n",
              "    </tr>\n",
              "    <tr>\n",
              "      <th>tobacco</th>\n",
              "      <td>False</td>\n",
              "    </tr>\n",
              "    <tr>\n",
              "      <th>totalEsg</th>\n",
              "      <td>16.27</td>\n",
              "    </tr>\n",
              "    <tr>\n",
              "      <th>highestControversy</th>\n",
              "      <td>3</td>\n",
              "    </tr>\n",
              "    <tr>\n",
              "      <th>esgPerformance</th>\n",
              "      <td>UNDER_PERF</td>\n",
              "    </tr>\n",
              "    <tr>\n",
              "      <th>coal</th>\n",
              "      <td>False</td>\n",
              "    </tr>\n",
              "    <tr>\n",
              "      <th>pesticides</th>\n",
              "      <td>False</td>\n",
              "    </tr>\n",
              "    <tr>\n",
              "      <th>adult</th>\n",
              "      <td>False</td>\n",
              "    </tr>\n",
              "    <tr>\n",
              "      <th>percentile</th>\n",
              "      <td>12.87</td>\n",
              "    </tr>\n",
              "    <tr>\n",
              "      <th>peerGroup</th>\n",
              "      <td>Technology Hardware</td>\n",
              "    </tr>\n",
              "    <tr>\n",
              "      <th>smallArms</th>\n",
              "      <td>False</td>\n",
              "    </tr>\n",
              "    <tr>\n",
              "      <th>environmentScore</th>\n",
              "      <td>0.65</td>\n",
              "    </tr>\n",
              "    <tr>\n",
              "      <th>governancePercentile</th>\n",
              "      <td>None</td>\n",
              "    </tr>\n",
              "    <tr>\n",
              "      <th>militaryContract</th>\n",
              "      <td>False</td>\n",
              "    </tr>\n",
              "  </tbody>\n",
              "</table>\n",
              "</div>\n",
              "      <button class=\"colab-df-convert\" onclick=\"convertToInteractive('df-a6b061d0-0ece-4741-bf3b-ea8d6b8efffd')\"\n",
              "              title=\"Convert this dataframe to an interactive table.\"\n",
              "              style=\"display:none;\">\n",
              "        \n",
              "  <svg xmlns=\"http://www.w3.org/2000/svg\" height=\"24px\"viewBox=\"0 0 24 24\"\n",
              "       width=\"24px\">\n",
              "    <path d=\"M0 0h24v24H0V0z\" fill=\"none\"/>\n",
              "    <path d=\"M18.56 5.44l.94 2.06.94-2.06 2.06-.94-2.06-.94-.94-2.06-.94 2.06-2.06.94zm-11 1L8.5 8.5l.94-2.06 2.06-.94-2.06-.94L8.5 2.5l-.94 2.06-2.06.94zm10 10l.94 2.06.94-2.06 2.06-.94-2.06-.94-.94-2.06-.94 2.06-2.06.94z\"/><path d=\"M17.41 7.96l-1.37-1.37c-.4-.4-.92-.59-1.43-.59-.52 0-1.04.2-1.43.59L10.3 9.45l-7.72 7.72c-.78.78-.78 2.05 0 2.83L4 21.41c.39.39.9.59 1.41.59.51 0 1.02-.2 1.41-.59l7.78-7.78 2.81-2.81c.8-.78.8-2.07 0-2.86zM5.41 20L4 18.59l7.72-7.72 1.47 1.35L5.41 20z\"/>\n",
              "  </svg>\n",
              "      </button>\n",
              "      \n",
              "  <style>\n",
              "    .colab-df-container {\n",
              "      display:flex;\n",
              "      flex-wrap:wrap;\n",
              "      gap: 12px;\n",
              "    }\n",
              "\n",
              "    .colab-df-convert {\n",
              "      background-color: #E8F0FE;\n",
              "      border: none;\n",
              "      border-radius: 50%;\n",
              "      cursor: pointer;\n",
              "      display: none;\n",
              "      fill: #1967D2;\n",
              "      height: 32px;\n",
              "      padding: 0 0 0 0;\n",
              "      width: 32px;\n",
              "    }\n",
              "\n",
              "    .colab-df-convert:hover {\n",
              "      background-color: #E2EBFA;\n",
              "      box-shadow: 0px 1px 2px rgba(60, 64, 67, 0.3), 0px 1px 3px 1px rgba(60, 64, 67, 0.15);\n",
              "      fill: #174EA6;\n",
              "    }\n",
              "\n",
              "    [theme=dark] .colab-df-convert {\n",
              "      background-color: #3B4455;\n",
              "      fill: #D2E3FC;\n",
              "    }\n",
              "\n",
              "    [theme=dark] .colab-df-convert:hover {\n",
              "      background-color: #434B5C;\n",
              "      box-shadow: 0px 1px 3px 1px rgba(0, 0, 0, 0.15);\n",
              "      filter: drop-shadow(0px 1px 2px rgba(0, 0, 0, 0.3));\n",
              "      fill: #FFFFFF;\n",
              "    }\n",
              "  </style>\n",
              "\n",
              "      <script>\n",
              "        const buttonEl =\n",
              "          document.querySelector('#df-a6b061d0-0ece-4741-bf3b-ea8d6b8efffd button.colab-df-convert');\n",
              "        buttonEl.style.display =\n",
              "          google.colab.kernel.accessAllowed ? 'block' : 'none';\n",
              "\n",
              "        async function convertToInteractive(key) {\n",
              "          const element = document.querySelector('#df-a6b061d0-0ece-4741-bf3b-ea8d6b8efffd');\n",
              "          const dataTable =\n",
              "            await google.colab.kernel.invokeFunction('convertToInteractive',\n",
              "                                                     [key], {});\n",
              "          if (!dataTable) return;\n",
              "\n",
              "          const docLinkHtml = 'Like what you see? Visit the ' +\n",
              "            '<a target=\"_blank\" href=https://colab.research.google.com/notebooks/data_table.ipynb>data table notebook</a>'\n",
              "            + ' to learn more about interactive tables.';\n",
              "          element.innerHTML = '';\n",
              "          dataTable['output_type'] = 'display_data';\n",
              "          await google.colab.output.renderOutput(dataTable, element);\n",
              "          const docLink = document.createElement('div');\n",
              "          docLink.innerHTML = docLinkHtml;\n",
              "          element.appendChild(docLink);\n",
              "        }\n",
              "      </script>\n",
              "    </div>\n",
              "  </div>\n",
              "  "
            ],
            "text/plain": [
              "                                     Value\n",
              "2022-2                                    \n",
              "palmOil                              False\n",
              "controversialWeapons                 False\n",
              "gambling                             False\n",
              "socialScore                           6.86\n",
              "nuclear                              False\n",
              "furLeather                           False\n",
              "alcoholic                            False\n",
              "gmo                                  False\n",
              "catholic                             False\n",
              "socialPercentile                      None\n",
              "peerCount                               55\n",
              "governanceScore                       8.76\n",
              "environmentPercentile                 None\n",
              "animalTesting                        False\n",
              "tobacco                              False\n",
              "totalEsg                             16.27\n",
              "highestControversy                       3\n",
              "esgPerformance                  UNDER_PERF\n",
              "coal                                 False\n",
              "pesticides                           False\n",
              "adult                                False\n",
              "percentile                           12.87\n",
              "peerGroup              Technology Hardware\n",
              "smallArms                            False\n",
              "environmentScore                      0.65\n",
              "governancePercentile                  None\n",
              "militaryContract                     False"
            ]
          },
          "metadata": {},
          "execution_count": 26
        }
      ]
    },
    {
      "cell_type": "markdown",
      "source": [
        "#### Calendario de eventos"
      ],
      "metadata": {
        "id": "f0mqRl34Vrmn"
      }
    },
    {
      "cell_type": "code",
      "source": [
        "Apple.calendar"
      ],
      "metadata": {
        "colab": {
          "base_uri": "https://localhost:8080/",
          "height": 268
        },
        "id": "31S_3FsRVtef",
        "outputId": "1531fb44-392e-410e-c3d8-8a1bfe07a69d"
      },
      "execution_count": null,
      "outputs": [
        {
          "output_type": "execute_result",
          "data": {
            "text/html": [
              "\n",
              "  <div id=\"df-4fd358f0-d1ad-42a7-9d73-ac2389d2cb53\">\n",
              "    <div class=\"colab-df-container\">\n",
              "      <div>\n",
              "<style scoped>\n",
              "    .dataframe tbody tr th:only-of-type {\n",
              "        vertical-align: middle;\n",
              "    }\n",
              "\n",
              "    .dataframe tbody tr th {\n",
              "        vertical-align: top;\n",
              "    }\n",
              "\n",
              "    .dataframe thead th {\n",
              "        text-align: right;\n",
              "    }\n",
              "</style>\n",
              "<table border=\"1\" class=\"dataframe\">\n",
              "  <thead>\n",
              "    <tr style=\"text-align: right;\">\n",
              "      <th></th>\n",
              "      <th>0</th>\n",
              "      <th>1</th>\n",
              "    </tr>\n",
              "  </thead>\n",
              "  <tbody>\n",
              "    <tr>\n",
              "      <th>Earnings Date</th>\n",
              "      <td>2022-04-26 20:00:00</td>\n",
              "      <td>2022-05-02 20:00:00</td>\n",
              "    </tr>\n",
              "    <tr>\n",
              "      <th>Earnings Average</th>\n",
              "      <td>1.43</td>\n",
              "      <td>1.43</td>\n",
              "    </tr>\n",
              "    <tr>\n",
              "      <th>Earnings Low</th>\n",
              "      <td>1.34</td>\n",
              "      <td>1.34</td>\n",
              "    </tr>\n",
              "    <tr>\n",
              "      <th>Earnings High</th>\n",
              "      <td>1.56</td>\n",
              "      <td>1.56</td>\n",
              "    </tr>\n",
              "    <tr>\n",
              "      <th>Revenue Average</th>\n",
              "      <td>93981100000</td>\n",
              "      <td>93981100000</td>\n",
              "    </tr>\n",
              "    <tr>\n",
              "      <th>Revenue Low</th>\n",
              "      <td>90042000000</td>\n",
              "      <td>90042000000</td>\n",
              "    </tr>\n",
              "    <tr>\n",
              "      <th>Revenue High</th>\n",
              "      <td>100444000000</td>\n",
              "      <td>100444000000</td>\n",
              "    </tr>\n",
              "  </tbody>\n",
              "</table>\n",
              "</div>\n",
              "      <button class=\"colab-df-convert\" onclick=\"convertToInteractive('df-4fd358f0-d1ad-42a7-9d73-ac2389d2cb53')\"\n",
              "              title=\"Convert this dataframe to an interactive table.\"\n",
              "              style=\"display:none;\">\n",
              "        \n",
              "  <svg xmlns=\"http://www.w3.org/2000/svg\" height=\"24px\"viewBox=\"0 0 24 24\"\n",
              "       width=\"24px\">\n",
              "    <path d=\"M0 0h24v24H0V0z\" fill=\"none\"/>\n",
              "    <path d=\"M18.56 5.44l.94 2.06.94-2.06 2.06-.94-2.06-.94-.94-2.06-.94 2.06-2.06.94zm-11 1L8.5 8.5l.94-2.06 2.06-.94-2.06-.94L8.5 2.5l-.94 2.06-2.06.94zm10 10l.94 2.06.94-2.06 2.06-.94-2.06-.94-.94-2.06-.94 2.06-2.06.94z\"/><path d=\"M17.41 7.96l-1.37-1.37c-.4-.4-.92-.59-1.43-.59-.52 0-1.04.2-1.43.59L10.3 9.45l-7.72 7.72c-.78.78-.78 2.05 0 2.83L4 21.41c.39.39.9.59 1.41.59.51 0 1.02-.2 1.41-.59l7.78-7.78 2.81-2.81c.8-.78.8-2.07 0-2.86zM5.41 20L4 18.59l7.72-7.72 1.47 1.35L5.41 20z\"/>\n",
              "  </svg>\n",
              "      </button>\n",
              "      \n",
              "  <style>\n",
              "    .colab-df-container {\n",
              "      display:flex;\n",
              "      flex-wrap:wrap;\n",
              "      gap: 12px;\n",
              "    }\n",
              "\n",
              "    .colab-df-convert {\n",
              "      background-color: #E8F0FE;\n",
              "      border: none;\n",
              "      border-radius: 50%;\n",
              "      cursor: pointer;\n",
              "      display: none;\n",
              "      fill: #1967D2;\n",
              "      height: 32px;\n",
              "      padding: 0 0 0 0;\n",
              "      width: 32px;\n",
              "    }\n",
              "\n",
              "    .colab-df-convert:hover {\n",
              "      background-color: #E2EBFA;\n",
              "      box-shadow: 0px 1px 2px rgba(60, 64, 67, 0.3), 0px 1px 3px 1px rgba(60, 64, 67, 0.15);\n",
              "      fill: #174EA6;\n",
              "    }\n",
              "\n",
              "    [theme=dark] .colab-df-convert {\n",
              "      background-color: #3B4455;\n",
              "      fill: #D2E3FC;\n",
              "    }\n",
              "\n",
              "    [theme=dark] .colab-df-convert:hover {\n",
              "      background-color: #434B5C;\n",
              "      box-shadow: 0px 1px 3px 1px rgba(0, 0, 0, 0.15);\n",
              "      filter: drop-shadow(0px 1px 2px rgba(0, 0, 0, 0.3));\n",
              "      fill: #FFFFFF;\n",
              "    }\n",
              "  </style>\n",
              "\n",
              "      <script>\n",
              "        const buttonEl =\n",
              "          document.querySelector('#df-4fd358f0-d1ad-42a7-9d73-ac2389d2cb53 button.colab-df-convert');\n",
              "        buttonEl.style.display =\n",
              "          google.colab.kernel.accessAllowed ? 'block' : 'none';\n",
              "\n",
              "        async function convertToInteractive(key) {\n",
              "          const element = document.querySelector('#df-4fd358f0-d1ad-42a7-9d73-ac2389d2cb53');\n",
              "          const dataTable =\n",
              "            await google.colab.kernel.invokeFunction('convertToInteractive',\n",
              "                                                     [key], {});\n",
              "          if (!dataTable) return;\n",
              "\n",
              "          const docLinkHtml = 'Like what you see? Visit the ' +\n",
              "            '<a target=\"_blank\" href=https://colab.research.google.com/notebooks/data_table.ipynb>data table notebook</a>'\n",
              "            + ' to learn more about interactive tables.';\n",
              "          element.innerHTML = '';\n",
              "          dataTable['output_type'] = 'display_data';\n",
              "          await google.colab.output.renderOutput(dataTable, element);\n",
              "          const docLink = document.createElement('div');\n",
              "          docLink.innerHTML = docLinkHtml;\n",
              "          element.appendChild(docLink);\n",
              "        }\n",
              "      </script>\n",
              "    </div>\n",
              "  </div>\n",
              "  "
            ],
            "text/plain": [
              "                                    0                    1\n",
              "Earnings Date     2022-04-26 20:00:00  2022-05-02 20:00:00\n",
              "Earnings Average                 1.43                 1.43\n",
              "Earnings Low                     1.34                 1.34\n",
              "Earnings High                    1.56                 1.56\n",
              "Revenue Average           93981100000          93981100000\n",
              "Revenue Low               90042000000          90042000000\n",
              "Revenue High             100444000000         100444000000"
            ]
          },
          "metadata": {},
          "execution_count": 27
        }
      ]
    },
    {
      "cell_type": "markdown",
      "source": [
        "#### Opciones"
      ],
      "metadata": {
        "id": "cZUA1BinVwqv"
      }
    },
    {
      "cell_type": "code",
      "source": [
        "Apple.options"
      ],
      "metadata": {
        "colab": {
          "base_uri": "https://localhost:8080/"
        },
        "id": "9eWmx_qYVyK3",
        "outputId": "55e7dcfb-d2ca-487a-844f-3bd6913a6bfc"
      },
      "execution_count": null,
      "outputs": [
        {
          "output_type": "execute_result",
          "data": {
            "text/plain": [
              "('2022-03-04',\n",
              " '2022-03-11',\n",
              " '2022-03-18',\n",
              " '2022-03-25',\n",
              " '2022-04-01',\n",
              " '2022-04-08',\n",
              " '2022-04-14',\n",
              " '2022-05-20',\n",
              " '2022-06-17',\n",
              " '2022-07-15',\n",
              " '2022-08-19',\n",
              " '2022-09-16',\n",
              " '2022-10-21',\n",
              " '2022-11-18',\n",
              " '2023-01-20',\n",
              " '2023-03-17',\n",
              " '2023-06-16',\n",
              " '2023-09-15',\n",
              " '2024-01-19')"
            ]
          },
          "metadata": {},
          "execution_count": 28
        }
      ]
    },
    {
      "cell_type": "markdown",
      "source": [
        "#### Recomendaciones de analistas"
      ],
      "metadata": {
        "id": "GHCteAZTV1Rd"
      }
    },
    {
      "cell_type": "code",
      "source": [
        "Apple.recommendations"
      ],
      "metadata": {
        "colab": {
          "base_uri": "https://localhost:8080/",
          "height": 455
        },
        "id": "1P7k0_cuV0zi",
        "outputId": "e058451e-00fb-45eb-ea60-383d17a1325c"
      },
      "execution_count": null,
      "outputs": [
        {
          "output_type": "execute_result",
          "data": {
            "text/html": [
              "\n",
              "  <div id=\"df-649fa2e3-4614-4ce2-93f3-980fcb7deb18\">\n",
              "    <div class=\"colab-df-container\">\n",
              "      <div>\n",
              "<style scoped>\n",
              "    .dataframe tbody tr th:only-of-type {\n",
              "        vertical-align: middle;\n",
              "    }\n",
              "\n",
              "    .dataframe tbody tr th {\n",
              "        vertical-align: top;\n",
              "    }\n",
              "\n",
              "    .dataframe thead th {\n",
              "        text-align: right;\n",
              "    }\n",
              "</style>\n",
              "<table border=\"1\" class=\"dataframe\">\n",
              "  <thead>\n",
              "    <tr style=\"text-align: right;\">\n",
              "      <th></th>\n",
              "      <th>Firm</th>\n",
              "      <th>To Grade</th>\n",
              "      <th>From Grade</th>\n",
              "      <th>Action</th>\n",
              "    </tr>\n",
              "    <tr>\n",
              "      <th>Date</th>\n",
              "      <th></th>\n",
              "      <th></th>\n",
              "      <th></th>\n",
              "      <th></th>\n",
              "    </tr>\n",
              "  </thead>\n",
              "  <tbody>\n",
              "    <tr>\n",
              "      <th>2012-02-09 08:17:00</th>\n",
              "      <td>Canaccord Genuity</td>\n",
              "      <td>Buy</td>\n",
              "      <td></td>\n",
              "      <td>main</td>\n",
              "    </tr>\n",
              "    <tr>\n",
              "      <th>2012-03-08 07:33:00</th>\n",
              "      <td>FBN Securities</td>\n",
              "      <td>Outperform</td>\n",
              "      <td></td>\n",
              "      <td>main</td>\n",
              "    </tr>\n",
              "    <tr>\n",
              "      <th>2012-03-13 06:08:00</th>\n",
              "      <td>Jefferies</td>\n",
              "      <td>Buy</td>\n",
              "      <td></td>\n",
              "      <td>main</td>\n",
              "    </tr>\n",
              "    <tr>\n",
              "      <th>2012-03-14 06:13:00</th>\n",
              "      <td>Morgan Stanley</td>\n",
              "      <td>Overweight</td>\n",
              "      <td></td>\n",
              "      <td>main</td>\n",
              "    </tr>\n",
              "    <tr>\n",
              "      <th>2012-03-14 08:21:00</th>\n",
              "      <td>Canaccord Genuity</td>\n",
              "      <td>Buy</td>\n",
              "      <td></td>\n",
              "      <td>main</td>\n",
              "    </tr>\n",
              "    <tr>\n",
              "      <th>...</th>\n",
              "      <td>...</td>\n",
              "      <td>...</td>\n",
              "      <td>...</td>\n",
              "      <td>...</td>\n",
              "    </tr>\n",
              "    <tr>\n",
              "      <th>2022-01-28 13:01:39</th>\n",
              "      <td>Deutsche Bank</td>\n",
              "      <td>Buy</td>\n",
              "      <td></td>\n",
              "      <td>main</td>\n",
              "    </tr>\n",
              "    <tr>\n",
              "      <th>2022-01-28 14:19:01</th>\n",
              "      <td>New Street Research</td>\n",
              "      <td>Neutral</td>\n",
              "      <td>Sell</td>\n",
              "      <td>up</td>\n",
              "    </tr>\n",
              "    <tr>\n",
              "      <th>2022-01-28 15:10:56</th>\n",
              "      <td>Oppenheimer</td>\n",
              "      <td>Outperform</td>\n",
              "      <td></td>\n",
              "      <td>main</td>\n",
              "    </tr>\n",
              "    <tr>\n",
              "      <th>2022-01-31 15:44:19</th>\n",
              "      <td>Credit Suisse</td>\n",
              "      <td>Neutral</td>\n",
              "      <td></td>\n",
              "      <td>main</td>\n",
              "    </tr>\n",
              "    <tr>\n",
              "      <th>2022-02-15 15:31:58</th>\n",
              "      <td>Tigress Financial</td>\n",
              "      <td>Strong Buy</td>\n",
              "      <td></td>\n",
              "      <td>main</td>\n",
              "    </tr>\n",
              "  </tbody>\n",
              "</table>\n",
              "<p>830 rows × 4 columns</p>\n",
              "</div>\n",
              "      <button class=\"colab-df-convert\" onclick=\"convertToInteractive('df-649fa2e3-4614-4ce2-93f3-980fcb7deb18')\"\n",
              "              title=\"Convert this dataframe to an interactive table.\"\n",
              "              style=\"display:none;\">\n",
              "        \n",
              "  <svg xmlns=\"http://www.w3.org/2000/svg\" height=\"24px\"viewBox=\"0 0 24 24\"\n",
              "       width=\"24px\">\n",
              "    <path d=\"M0 0h24v24H0V0z\" fill=\"none\"/>\n",
              "    <path d=\"M18.56 5.44l.94 2.06.94-2.06 2.06-.94-2.06-.94-.94-2.06-.94 2.06-2.06.94zm-11 1L8.5 8.5l.94-2.06 2.06-.94-2.06-.94L8.5 2.5l-.94 2.06-2.06.94zm10 10l.94 2.06.94-2.06 2.06-.94-2.06-.94-.94-2.06-.94 2.06-2.06.94z\"/><path d=\"M17.41 7.96l-1.37-1.37c-.4-.4-.92-.59-1.43-.59-.52 0-1.04.2-1.43.59L10.3 9.45l-7.72 7.72c-.78.78-.78 2.05 0 2.83L4 21.41c.39.39.9.59 1.41.59.51 0 1.02-.2 1.41-.59l7.78-7.78 2.81-2.81c.8-.78.8-2.07 0-2.86zM5.41 20L4 18.59l7.72-7.72 1.47 1.35L5.41 20z\"/>\n",
              "  </svg>\n",
              "      </button>\n",
              "      \n",
              "  <style>\n",
              "    .colab-df-container {\n",
              "      display:flex;\n",
              "      flex-wrap:wrap;\n",
              "      gap: 12px;\n",
              "    }\n",
              "\n",
              "    .colab-df-convert {\n",
              "      background-color: #E8F0FE;\n",
              "      border: none;\n",
              "      border-radius: 50%;\n",
              "      cursor: pointer;\n",
              "      display: none;\n",
              "      fill: #1967D2;\n",
              "      height: 32px;\n",
              "      padding: 0 0 0 0;\n",
              "      width: 32px;\n",
              "    }\n",
              "\n",
              "    .colab-df-convert:hover {\n",
              "      background-color: #E2EBFA;\n",
              "      box-shadow: 0px 1px 2px rgba(60, 64, 67, 0.3), 0px 1px 3px 1px rgba(60, 64, 67, 0.15);\n",
              "      fill: #174EA6;\n",
              "    }\n",
              "\n",
              "    [theme=dark] .colab-df-convert {\n",
              "      background-color: #3B4455;\n",
              "      fill: #D2E3FC;\n",
              "    }\n",
              "\n",
              "    [theme=dark] .colab-df-convert:hover {\n",
              "      background-color: #434B5C;\n",
              "      box-shadow: 0px 1px 3px 1px rgba(0, 0, 0, 0.15);\n",
              "      filter: drop-shadow(0px 1px 2px rgba(0, 0, 0, 0.3));\n",
              "      fill: #FFFFFF;\n",
              "    }\n",
              "  </style>\n",
              "\n",
              "      <script>\n",
              "        const buttonEl =\n",
              "          document.querySelector('#df-649fa2e3-4614-4ce2-93f3-980fcb7deb18 button.colab-df-convert');\n",
              "        buttonEl.style.display =\n",
              "          google.colab.kernel.accessAllowed ? 'block' : 'none';\n",
              "\n",
              "        async function convertToInteractive(key) {\n",
              "          const element = document.querySelector('#df-649fa2e3-4614-4ce2-93f3-980fcb7deb18');\n",
              "          const dataTable =\n",
              "            await google.colab.kernel.invokeFunction('convertToInteractive',\n",
              "                                                     [key], {});\n",
              "          if (!dataTable) return;\n",
              "\n",
              "          const docLinkHtml = 'Like what you see? Visit the ' +\n",
              "            '<a target=\"_blank\" href=https://colab.research.google.com/notebooks/data_table.ipynb>data table notebook</a>'\n",
              "            + ' to learn more about interactive tables.';\n",
              "          element.innerHTML = '';\n",
              "          dataTable['output_type'] = 'display_data';\n",
              "          await google.colab.output.renderOutput(dataTable, element);\n",
              "          const docLink = document.createElement('div');\n",
              "          docLink.innerHTML = docLinkHtml;\n",
              "          element.appendChild(docLink);\n",
              "        }\n",
              "      </script>\n",
              "    </div>\n",
              "  </div>\n",
              "  "
            ],
            "text/plain": [
              "                                    Firm    To Grade From Grade Action\n",
              "Date                                                                  \n",
              "2012-02-09 08:17:00    Canaccord Genuity         Buy              main\n",
              "2012-03-08 07:33:00       FBN Securities  Outperform              main\n",
              "2012-03-13 06:08:00            Jefferies         Buy              main\n",
              "2012-03-14 06:13:00       Morgan Stanley  Overweight              main\n",
              "2012-03-14 08:21:00    Canaccord Genuity         Buy              main\n",
              "...                                  ...         ...        ...    ...\n",
              "2022-01-28 13:01:39        Deutsche Bank         Buy              main\n",
              "2022-01-28 14:19:01  New Street Research     Neutral       Sell     up\n",
              "2022-01-28 15:10:56          Oppenheimer  Outperform              main\n",
              "2022-01-31 15:44:19        Credit Suisse     Neutral              main\n",
              "2022-02-15 15:31:58    Tigress Financial  Strong Buy              main\n",
              "\n",
              "[830 rows x 4 columns]"
            ]
          },
          "metadata": {},
          "execution_count": 29
        }
      ]
    },
    {
      "cell_type": "markdown",
      "source": [
        "### Gráficas\n",
        "\n",
        "para representar la evolución de todas o alguna/s de las variables cuyos valores hemos obtenido. Por ejemplo, vamos a representar la evolución de los valores de cierre de Amazon durante el último trimestre de 2021:"
      ],
      "metadata": {
        "id": "qPuCBHzrOZjn"
      }
    },
    {
      "cell_type": "code",
      "source": [
        "Amazon = yf.Ticker(\"AMZN\") #Información completa\n",
        "Amazon_hist = Amazon.history(start = \"2021-09-01\", end = \"2021-12-30\")"
      ],
      "metadata": {
        "id": "rHWmtGWCNXGi"
      },
      "execution_count": null,
      "outputs": []
    },
    {
      "cell_type": "markdown",
      "source": [
        "Generamos la gráfica con matplotlib"
      ],
      "metadata": {
        "id": "F-_c11aiT0Yw"
      }
    },
    {
      "cell_type": "code",
      "source": [
        "import matplotlib.pyplot as plt\n",
        "\n",
        "plt. plot(Amazon_hist[\"Close\"])\n",
        "plt.xticks(rotation = 90)\n",
        "plt.grid()\n",
        "plt.show()"
      ],
      "metadata": {
        "id": "OysTXoDeNXDb",
        "colab": {
          "base_uri": "https://localhost:8080/",
          "height": 313
        },
        "outputId": "bd68f3b6-904c-40cb-9fc9-e91db8ace555"
      },
      "execution_count": null,
      "outputs": [
        {
          "output_type": "display_data",
          "data": {
            "image/png": "[encoded data removed]",
            "text/plain": [
              "<Figure size 432x288 with 1 Axes>"
            ]
          },
          "metadata": {
            "needs_background": "light"
          }
        }
      ]
    },
    {
      "cell_type": "code",
      "source": [
        "# Creando los datos\n",
        "data = Amazon_hist[\"Close\"]\n",
        " \n",
        "fig = plt.figure(figsize =(10, 7))\n",
        " \n",
        "# Creando el plot\n",
        "plt.boxplot(data)\n",
        " \n",
        "# Mostrando el plot\n",
        "plt.show()"
      ],
      "metadata": {
        "colab": {
          "base_uri": "https://localhost:8080/",
          "height": 428
        },
        "id": "DR8Q37aWn8IJ",
        "outputId": "a728bae4-ce07-4d7c-8c8a-ebb3fe2b1cc2"
      },
      "execution_count": null,
      "outputs": [
        {
          "output_type": "display_data",
          "data": {
            "image/png": "[encoded data removed]",
            "text/plain": [
              "<Figure size 720x504 with 1 Axes>"
            ]
          },
          "metadata": {
            "needs_background": "light"
          }
        }
      ]
    },
    {
      "cell_type": "code",
      "source": [
        "Amazon_hist[\"Close\"].plot(kind='box')"
      ],
      "metadata": {
        "colab": {
          "base_uri": "https://localhost:8080/",
          "height": 284
        },
        "id": "_mrFCer_oyJK",
        "outputId": "b6063e9b-2ba2-4500-a6be-15bdf31de9fb"
      },
      "execution_count": null,
      "outputs": [
        {
          "output_type": "execute_result",
          "data": {
            "text/plain": [
              "<matplotlib.axes._subplots.AxesSubplot at 0x7fb3f5d21990>"
            ]
          },
          "metadata": {},
          "execution_count": 34
        },
        {
          "output_type": "display_data",
          "data": {
            "image/png": "[encoded data removed]",
            "text/plain": [
              "<Figure size 432x288 with 1 Axes>"
            ]
          },
          "metadata": {
            "needs_background": "light"
          }
        }
      ]
    },
    {
      "cell_type": "code",
      "source": [
        "Amazon_hist[\"Close\"].plot(kind='hist')"
      ],
      "metadata": {
        "colab": {
          "base_uri": "https://localhost:8080/",
          "height": 284
        },
        "id": "1ywTtkOr3W2T",
        "outputId": "23fe0d50-221b-4107-9a1f-48b3b2d28cee"
      },
      "execution_count": null,
      "outputs": [
        {
          "output_type": "execute_result",
          "data": {
            "text/plain": [
              "<matplotlib.axes._subplots.AxesSubplot at 0x7fb3f5708c50>"
            ]
          },
          "metadata": {},
          "execution_count": 35
        },
        {
          "output_type": "display_data",
          "data": {
            "image/png": "[encoded data removed]",
            "text/plain": [
              "<Figure size 432x288 with 1 Axes>"
            ]
          },
          "metadata": {
            "needs_background": "light"
          }
        }
      ]
    },
    {
      "cell_type": "markdown",
      "source": [
        "## Estadísticas básicas\n",
        "\n",
        "Dos cálculos útiles que se pueden hacer con los datos financieros son la varianza y la covarianza. Para ilustrar estos conceptos, utilicemos el ejemplo de un DataFrame que mide los precios de las acciones y los bonos a lo largo del tiempo"
      ],
      "metadata": {
        "id": "azs0orXCafP2"
      }
    },
    {
      "cell_type": "markdown",
      "source": [
        "### Varianza\n",
        "\n",
        "La varianza mide la distancia entre un conjunto de números y su media. En finanzas, se utiliza para determinar la volatilidad de las inversiones.\n"
      ],
      "metadata": {
        "id": "BSa_j4O8afcE"
      }
    },
    {
      "cell_type": "code",
      "source": [
        "stock_data[\"Close\"].var()"
      ],
      "metadata": {
        "colab": {
          "base_uri": "https://localhost:8080/"
        },
        "id": "19WgNF2Iazfr",
        "outputId": "c3bad9f5-6451-4525-b1fb-28b5493c6b89"
      },
      "execution_count": null,
      "outputs": [
        {
          "output_type": "execute_result",
          "data": {
            "text/plain": [
              "349655.6219665942"
            ]
          },
          "metadata": {},
          "execution_count": 36
        }
      ]
    },
    {
      "cell_type": "markdown",
      "source": [
        "### Covarianza\n",
        "La covarianza, en un contexto financiero, describe la relación entre los rendimientos de dos inversiones diferentes a lo largo de un periodo de tiempo, y puede utilizarse para ayudar a equilibrar una cartera. Llamar a nuestras columnas de acciones y bonos cov() produce una matriz que define los valores de covarianza entre cada par de columnas en el DataFrame. La covarianza también se conoce como correlación en finanzas."
      ],
      "metadata": {
        "id": "OJ8o9ssek-bQ"
      }
    },
    {
      "cell_type": "code",
      "source": [
        "stock_data[[\"Close\", \"Volume\"]].cov()"
      ],
      "metadata": {
        "colab": {
          "base_uri": "https://localhost:8080/",
          "height": 112
        },
        "id": "eZRs7zgplEHE",
        "outputId": "55631ce0-8b5f-49d9-f258-c7d7c44225de"
      },
      "execution_count": null,
      "outputs": [
        {
          "output_type": "execute_result",
          "data": {
            "text/html": [
              "\n",
              "  <div id=\"df-aba9221f-1f2b-4570-98f8-657fed159b9e\">\n",
              "    <div class=\"colab-df-container\">\n",
              "      <div>\n",
              "<style scoped>\n",
              "    .dataframe tbody tr th:only-of-type {\n",
              "        vertical-align: middle;\n",
              "    }\n",
              "\n",
              "    .dataframe tbody tr th {\n",
              "        vertical-align: top;\n",
              "    }\n",
              "\n",
              "    .dataframe thead th {\n",
              "        text-align: right;\n",
              "    }\n",
              "</style>\n",
              "<table border=\"1\" class=\"dataframe\">\n",
              "  <thead>\n",
              "    <tr style=\"text-align: right;\">\n",
              "      <th></th>\n",
              "      <th>Close</th>\n",
              "      <th>Volume</th>\n",
              "    </tr>\n",
              "  </thead>\n",
              "  <tbody>\n",
              "    <tr>\n",
              "      <th>Close</th>\n",
              "      <td>3.496556e+05</td>\n",
              "      <td>-1.578759e+08</td>\n",
              "    </tr>\n",
              "    <tr>\n",
              "      <th>Volume</th>\n",
              "      <td>-1.578759e+08</td>\n",
              "      <td>6.939855e+11</td>\n",
              "    </tr>\n",
              "  </tbody>\n",
              "</table>\n",
              "</div>\n",
              "      <button class=\"colab-df-convert\" onclick=\"convertToInteractive('df-aba9221f-1f2b-4570-98f8-657fed159b9e')\"\n",
              "              title=\"Convert this dataframe to an interactive table.\"\n",
              "              style=\"display:none;\">\n",
              "        \n",
              "  <svg xmlns=\"http://www.w3.org/2000/svg\" height=\"24px\"viewBox=\"0 0 24 24\"\n",
              "       width=\"24px\">\n",
              "    <path d=\"M0 0h24v24H0V0z\" fill=\"none\"/>\n",
              "    <path d=\"M18.56 5.44l.94 2.06.94-2.06 2.06-.94-2.06-.94-.94-2.06-.94 2.06-2.06.94zm-11 1L8.5 8.5l.94-2.06 2.06-.94-2.06-.94L8.5 2.5l-.94 2.06-2.06.94zm10 10l.94 2.06.94-2.06 2.06-.94-2.06-.94-.94-2.06-.94 2.06-2.06.94z\"/><path d=\"M17.41 7.96l-1.37-1.37c-.4-.4-.92-.59-1.43-.59-.52 0-1.04.2-1.43.59L10.3 9.45l-7.72 7.72c-.78.78-.78 2.05 0 2.83L4 21.41c.39.39.9.59 1.41.59.51 0 1.02-.2 1.41-.59l7.78-7.78 2.81-2.81c.8-.78.8-2.07 0-2.86zM5.41 20L4 18.59l7.72-7.72 1.47 1.35L5.41 20z\"/>\n",
              "  </svg>\n",
              "      </button>\n",
              "      \n",
              "  <style>\n",
              "    .colab-df-container {\n",
              "      display:flex;\n",
              "      flex-wrap:wrap;\n",
              "      gap: 12px;\n",
              "    }\n",
              "\n",
              "    .colab-df-convert {\n",
              "      background-color: #E8F0FE;\n",
              "      border: none;\n",
              "      border-radius: 50%;\n",
              "      cursor: pointer;\n",
              "      display: none;\n",
              "      fill: #1967D2;\n",
              "      height: 32px;\n",
              "      padding: 0 0 0 0;\n",
              "      width: 32px;\n",
              "    }\n",
              "\n",
              "    .colab-df-convert:hover {\n",
              "      background-color: #E2EBFA;\n",
              "      box-shadow: 0px 1px 2px rgba(60, 64, 67, 0.3), 0px 1px 3px 1px rgba(60, 64, 67, 0.15);\n",
              "      fill: #174EA6;\n",
              "    }\n",
              "\n",
              "    [theme=dark] .colab-df-convert {\n",
              "      background-color: #3B4455;\n",
              "      fill: #D2E3FC;\n",
              "    }\n",
              "\n",
              "    [theme=dark] .colab-df-convert:hover {\n",
              "      background-color: #434B5C;\n",
              "      box-shadow: 0px 1px 3px 1px rgba(0, 0, 0, 0.15);\n",
              "      filter: drop-shadow(0px 1px 2px rgba(0, 0, 0, 0.3));\n",
              "      fill: #FFFFFF;\n",
              "    }\n",
              "  </style>\n",
              "\n",
              "      <script>\n",
              "        const buttonEl =\n",
              "          document.querySelector('#df-aba9221f-1f2b-4570-98f8-657fed159b9e button.colab-df-convert');\n",
              "        buttonEl.style.display =\n",
              "          google.colab.kernel.accessAllowed ? 'block' : 'none';\n",
              "\n",
              "        async function convertToInteractive(key) {\n",
              "          const element = document.querySelector('#df-aba9221f-1f2b-4570-98f8-657fed159b9e');\n",
              "          const dataTable =\n",
              "            await google.colab.kernel.invokeFunction('convertToInteractive',\n",
              "                                                     [key], {});\n",
              "          if (!dataTable) return;\n",
              "\n",
              "          const docLinkHtml = 'Like what you see? Visit the ' +\n",
              "            '<a target=\"_blank\" href=https://colab.research.google.com/notebooks/data_table.ipynb>data table notebook</a>'\n",
              "            + ' to learn more about interactive tables.';\n",
              "          element.innerHTML = '';\n",
              "          dataTable['output_type'] = 'display_data';\n",
              "          await google.colab.output.renderOutput(dataTable, element);\n",
              "          const docLink = document.createElement('div');\n",
              "          docLink.innerHTML = docLinkHtml;\n",
              "          element.appendChild(docLink);\n",
              "        }\n",
              "      </script>\n",
              "    </div>\n",
              "  </div>\n",
              "  "
            ],
            "text/plain": [
              "               Close        Volume\n",
              "Close   3.496556e+05 -1.578759e+08\n",
              "Volume -1.578759e+08  6.939855e+11"
            ]
          },
          "metadata": {},
          "execution_count": 37
        }
      ]
    },
    {
      "cell_type": "markdown",
      "source": [
        "Cada valor anterior representa la covarianza entre dos columnas. Cuanto más alto sea el número, más tienden las inversiones a subir y bajar al mismo tiempo. Las columnas superior derecha e inferior izquierda representan la covarianza entre acciones y bonos. Aquí tenemos un número negativo, que indica que el precio de cierre y el volumen tienden a moverse en direcciones diferentes."
      ],
      "metadata": {
        "id": "VBiI84oflZ9l"
      }
    },
    {
      "cell_type": "markdown",
      "source": [
        "### Rentabilidad logarítmica\n",
        "\n",
        "La rentabilidad logarítmica es uno de los tres métodos para calcular la rentabilidad y supone que los rendimientos se componen de forma continua y no a través de subperíodos. Se calcula tomando el logaritmo natural del valor final dividido por el valor inicial.\n",
        "\n",
        "omo ejemplo, digamos que el valor final de una inversión fue de 11 dólares y el valor inicial de 10 dólares. La función diría =LN(11/10) para un resultado de 9,53%.\n",
        "\n",
        "En matemáticas y estadística, se suele distinguir entre datos discretos y continuos. El retorno aritmético es la versión continua más teórica. En el mundo real, sin embargo, la mayoría de la gente piensa en rendimientos divididos en períodos discretos.\n",
        "\n",
        "* Retorno aritmético - Un periodo, no compuesto, discreto.\n",
        "* Retorno geométrico - Multiperiodo, compuesto, discreto.\n",
        "* Retorno logarítmico - Infinitos periodos, compuestos, continuos.\n",
        "\n",
        "Así que el retorno logarítmico es la versión no discreta, continua, lo que significa que si todo el período se dividiera en un número infinito de períodos, ¿cuál sería ese retorno? Como ves, es teórico.\n",
        "\n",
        "Salvo para periodos de tiempo muy cortos (menos de un día), y para aplicaciones teóricas que impliquen el cálculo y la medición precisa de curvas, los rendimientos logarítmicos no se suelen utilizar.\n",
        "\n",
        "Los datos de los precios son útiles, pero en este caso, ya que queremos comparar cada conjunto de datos, sería aún mejor si en lugar de los precios diarios/anuales, tuviéramos información sobre los rendimientos de los precios diarios/anuales."
      ],
      "metadata": {
        "id": "cCxBOLEH1lyx"
      }
    },
    {
      "cell_type": "markdown",
      "source": [
        "Como primer paso, vamos a calcular el retorno logaritmico de los precios de cierre.\n",
        "\n",
        "La ecuación para calcular la rentabilidad logarítmica entre dos precios es la siguiente log_natural(precio actual/precio anterior)\n",
        "\n",
        "En nuestro caso queremos ejecutar esta ecuación para cada día/año de datos de precios en nuestra serie de DataFrame importada (la serie A es una sola columna en un DataFrame)."
      ],
      "metadata": {
        "id": "0Bn3GxMo14eD"
      }
    },
    {
      "cell_type": "code",
      "source": [
        "import numpy as np\n",
        "\n",
        "Google[\"Rent\"] = Google[\"Close\"]/Google[\"Close_1\"]\n",
        "Google"
      ],
      "metadata": {
        "colab": {
          "base_uri": "https://localhost:8080/",
          "height": 621
        },
        "id": "Qqz33Hnz68P-",
        "outputId": "1259cd63-b3d5-45cc-b476-9ea74ab51fb4"
      },
      "execution_count": null,
      "outputs": [
        {
          "output_type": "stream",
          "name": "stderr",
          "text": [
            "/usr/local/lib/python3.7/dist-packages/ipykernel_launcher.py:3: SettingWithCopyWarning:\n",
            "\n",
            "\n",
            "A value is trying to be set on a copy of a slice from a DataFrame.\n",
            "Try using .loc[row_indexer,col_indexer] = value instead\n",
            "\n",
            "See the caveats in the documentation: https://pandas.pydata.org/pandas-docs/stable/user_guide/indexing.html#returning-a-view-versus-a-copy\n",
            "\n"
          ]
        },
        {
          "output_type": "execute_result",
          "data": {
            "text/html": [
              "\n",
              "  <div id=\"df-887d3139-6176-4b9b-97b7-b717d7925298\">\n",
              "    <div class=\"colab-df-container\">\n",
              "      <div>\n",
              "<style scoped>\n",
              "    .dataframe tbody tr th:only-of-type {\n",
              "        vertical-align: middle;\n",
              "    }\n",
              "\n",
              "    .dataframe tbody tr th {\n",
              "        vertical-align: top;\n",
              "    }\n",
              "\n",
              "    .dataframe thead th {\n",
              "        text-align: right;\n",
              "    }\n",
              "</style>\n",
              "<table border=\"1\" class=\"dataframe\">\n",
              "  <thead>\n",
              "    <tr style=\"text-align: right;\">\n",
              "      <th></th>\n",
              "      <th>Open</th>\n",
              "      <th>Close</th>\n",
              "      <th>Close_1</th>\n",
              "      <th>Rent</th>\n",
              "    </tr>\n",
              "    <tr>\n",
              "      <th>Date</th>\n",
              "      <th></th>\n",
              "      <th></th>\n",
              "      <th></th>\n",
              "      <th></th>\n",
              "    </tr>\n",
              "  </thead>\n",
              "  <tbody>\n",
              "    <tr>\n",
              "      <th>2020-01-02</th>\n",
              "      <td>1348.410034</td>\n",
              "      <td>1368.680054</td>\n",
              "      <td>NaN</td>\n",
              "      <td>NaN</td>\n",
              "    </tr>\n",
              "    <tr>\n",
              "      <th>2020-01-03</th>\n",
              "      <td>1348.000000</td>\n",
              "      <td>1361.520020</td>\n",
              "      <td>1368.680054</td>\n",
              "      <td>0.994769</td>\n",
              "    </tr>\n",
              "    <tr>\n",
              "      <th>2020-01-06</th>\n",
              "      <td>1351.630005</td>\n",
              "      <td>1397.810059</td>\n",
              "      <td>1361.520020</td>\n",
              "      <td>1.026654</td>\n",
              "    </tr>\n",
              "    <tr>\n",
              "      <th>2020-01-07</th>\n",
              "      <td>1400.459961</td>\n",
              "      <td>1395.109985</td>\n",
              "      <td>1397.810059</td>\n",
              "      <td>0.998068</td>\n",
              "    </tr>\n",
              "    <tr>\n",
              "      <th>2020-01-08</th>\n",
              "      <td>1394.819946</td>\n",
              "      <td>1405.040039</td>\n",
              "      <td>1395.109985</td>\n",
              "      <td>1.007118</td>\n",
              "    </tr>\n",
              "    <tr>\n",
              "      <th>...</th>\n",
              "      <td>...</td>\n",
              "      <td>...</td>\n",
              "      <td>...</td>\n",
              "      <td>...</td>\n",
              "    </tr>\n",
              "    <tr>\n",
              "      <th>2022-02-25</th>\n",
              "      <td>2671.040039</td>\n",
              "      <td>2689.189941</td>\n",
              "      <td>2653.820068</td>\n",
              "      <td>1.013328</td>\n",
              "    </tr>\n",
              "    <tr>\n",
              "      <th>2022-02-28</th>\n",
              "      <td>2661.000000</td>\n",
              "      <td>2701.139893</td>\n",
              "      <td>2689.189941</td>\n",
              "      <td>1.004444</td>\n",
              "    </tr>\n",
              "    <tr>\n",
              "      <th>2022-03-01</th>\n",
              "      <td>2697.570068</td>\n",
              "      <td>2681.229980</td>\n",
              "      <td>2701.139893</td>\n",
              "      <td>0.992629</td>\n",
              "    </tr>\n",
              "    <tr>\n",
              "      <th>2022-03-02</th>\n",
              "      <td>2692.560059</td>\n",
              "      <td>2691.429932</td>\n",
              "      <td>2681.229980</td>\n",
              "      <td>1.003804</td>\n",
              "    </tr>\n",
              "    <tr>\n",
              "      <th>2022-03-03</th>\n",
              "      <td>2720.199951</td>\n",
              "      <td>2691.295410</td>\n",
              "      <td>2691.429932</td>\n",
              "      <td>0.999950</td>\n",
              "    </tr>\n",
              "  </tbody>\n",
              "</table>\n",
              "<p>547 rows × 4 columns</p>\n",
              "</div>\n",
              "      <button class=\"colab-df-convert\" onclick=\"convertToInteractive('df-887d3139-6176-4b9b-97b7-b717d7925298')\"\n",
              "              title=\"Convert this dataframe to an interactive table.\"\n",
              "              style=\"display:none;\">\n",
              "        \n",
              "  <svg xmlns=\"http://www.w3.org/2000/svg\" height=\"24px\"viewBox=\"0 0 24 24\"\n",
              "       width=\"24px\">\n",
              "    <path d=\"M0 0h24v24H0V0z\" fill=\"none\"/>\n",
              "    <path d=\"M18.56 5.44l.94 2.06.94-2.06 2.06-.94-2.06-.94-.94-2.06-.94 2.06-2.06.94zm-11 1L8.5 8.5l.94-2.06 2.06-.94-2.06-.94L8.5 2.5l-.94 2.06-2.06.94zm10 10l.94 2.06.94-2.06 2.06-.94-2.06-.94-.94-2.06-.94 2.06-2.06.94z\"/><path d=\"M17.41 7.96l-1.37-1.37c-.4-.4-.92-.59-1.43-.59-.52 0-1.04.2-1.43.59L10.3 9.45l-7.72 7.72c-.78.78-.78 2.05 0 2.83L4 21.41c.39.39.9.59 1.41.59.51 0 1.02-.2 1.41-.59l7.78-7.78 2.81-2.81c.8-.78.8-2.07 0-2.86zM5.41 20L4 18.59l7.72-7.72 1.47 1.35L5.41 20z\"/>\n",
              "  </svg>\n",
              "      </button>\n",
              "      \n",
              "  <style>\n",
              "    .colab-df-container {\n",
              "      display:flex;\n",
              "      flex-wrap:wrap;\n",
              "      gap: 12px;\n",
              "    }\n",
              "\n",
              "    .colab-df-convert {\n",
              "      background-color: #E8F0FE;\n",
              "      border: none;\n",
              "      border-radius: 50%;\n",
              "      cursor: pointer;\n",
              "      display: none;\n",
              "      fill: #1967D2;\n",
              "      height: 32px;\n",
              "      padding: 0 0 0 0;\n",
              "      width: 32px;\n",
              "    }\n",
              "\n",
              "    .colab-df-convert:hover {\n",
              "      background-color: #E2EBFA;\n",
              "      box-shadow: 0px 1px 2px rgba(60, 64, 67, 0.3), 0px 1px 3px 1px rgba(60, 64, 67, 0.15);\n",
              "      fill: #174EA6;\n",
              "    }\n",
              "\n",
              "    [theme=dark] .colab-df-convert {\n",
              "      background-color: #3B4455;\n",
              "      fill: #D2E3FC;\n",
              "    }\n",
              "\n",
              "    [theme=dark] .colab-df-convert:hover {\n",
              "      background-color: #434B5C;\n",
              "      box-shadow: 0px 1px 3px 1px rgba(0, 0, 0, 0.15);\n",
              "      filter: drop-shadow(0px 1px 2px rgba(0, 0, 0, 0.3));\n",
              "      fill: #FFFFFF;\n",
              "    }\n",
              "  </style>\n",
              "\n",
              "      <script>\n",
              "        const buttonEl =\n",
              "          document.querySelector('#df-887d3139-6176-4b9b-97b7-b717d7925298 button.colab-df-convert');\n",
              "        buttonEl.style.display =\n",
              "          google.colab.kernel.accessAllowed ? 'block' : 'none';\n",
              "\n",
              "        async function convertToInteractive(key) {\n",
              "          const element = document.querySelector('#df-887d3139-6176-4b9b-97b7-b717d7925298');\n",
              "          const dataTable =\n",
              "            await google.colab.kernel.invokeFunction('convertToInteractive',\n",
              "                                                     [key], {});\n",
              "          if (!dataTable) return;\n",
              "\n",
              "          const docLinkHtml = 'Like what you see? Visit the ' +\n",
              "            '<a target=\"_blank\" href=https://colab.research.google.com/notebooks/data_table.ipynb>data table notebook</a>'\n",
              "            + ' to learn more about interactive tables.';\n",
              "          element.innerHTML = '';\n",
              "          dataTable['output_type'] = 'display_data';\n",
              "          await google.colab.output.renderOutput(dataTable, element);\n",
              "          const docLink = document.createElement('div');\n",
              "          docLink.innerHTML = docLinkHtml;\n",
              "          element.appendChild(docLink);\n",
              "        }\n",
              "      </script>\n",
              "    </div>\n",
              "  </div>\n",
              "  "
            ],
            "text/plain": [
              "                   Open        Close      Close_1      Rent\n",
              "Date                                                       \n",
              "2020-01-02  1348.410034  1368.680054          NaN       NaN\n",
              "2020-01-03  1348.000000  1361.520020  1368.680054  0.994769\n",
              "2020-01-06  1351.630005  1397.810059  1361.520020  1.026654\n",
              "2020-01-07  1400.459961  1395.109985  1397.810059  0.998068\n",
              "2020-01-08  1394.819946  1405.040039  1395.109985  1.007118\n",
              "...                 ...          ...          ...       ...\n",
              "2022-02-25  2671.040039  2689.189941  2653.820068  1.013328\n",
              "2022-02-28  2661.000000  2701.139893  2689.189941  1.004444\n",
              "2022-03-01  2697.570068  2681.229980  2701.139893  0.992629\n",
              "2022-03-02  2692.560059  2691.429932  2681.229980  1.003804\n",
              "2022-03-03  2720.199951  2691.295410  2691.429932  0.999950\n",
              "\n",
              "[547 rows x 4 columns]"
            ]
          },
          "metadata": {},
          "execution_count": 38
        }
      ]
    },
    {
      "cell_type": "markdown",
      "source": [
        "La ecuación para calcular la rentabilidad logarítmica entre dos precios es la siguiente log_natural(precio actual/precio anterior)\n",
        "\n",
        "En nuestro caso queremos ejecutar esta ecuación para cada día/año de datos de precios en nuestra serie de DataFrame importada (la serie A es una sola columna en un DataFrame)."
      ],
      "metadata": {
        "id": "1XC8n5ro1914"
      }
    },
    {
      "cell_type": "code",
      "source": [
        "Google[\"Rent_log\"] = np.log(Google[\"Close\"]/Google[\"Close_1\"])\n",
        "Google"
      ],
      "metadata": {
        "colab": {
          "base_uri": "https://localhost:8080/",
          "height": 621
        },
        "id": "FIThKjiABTcd",
        "outputId": "ff1cd432-e435-412a-8b71-2e44e7313a41"
      },
      "execution_count": null,
      "outputs": [
        {
          "output_type": "stream",
          "name": "stderr",
          "text": [
            "/usr/local/lib/python3.7/dist-packages/ipykernel_launcher.py:1: SettingWithCopyWarning:\n",
            "\n",
            "\n",
            "A value is trying to be set on a copy of a slice from a DataFrame.\n",
            "Try using .loc[row_indexer,col_indexer] = value instead\n",
            "\n",
            "See the caveats in the documentation: https://pandas.pydata.org/pandas-docs/stable/user_guide/indexing.html#returning-a-view-versus-a-copy\n",
            "\n"
          ]
        },
        {
          "output_type": "execute_result",
          "data": {
            "text/html": [
              "\n",
              "  <div id=\"df-3ee096d0-448f-4e71-b2d0-583b040f8a34\">\n",
              "    <div class=\"colab-df-container\">\n",
              "      <div>\n",
              "<style scoped>\n",
              "    .dataframe tbody tr th:only-of-type {\n",
              "        vertical-align: middle;\n",
              "    }\n",
              "\n",
              "    .dataframe tbody tr th {\n",
              "        vertical-align: top;\n",
              "    }\n",
              "\n",
              "    .dataframe thead th {\n",
              "        text-align: right;\n",
              "    }\n",
              "</style>\n",
              "<table border=\"1\" class=\"dataframe\">\n",
              "  <thead>\n",
              "    <tr style=\"text-align: right;\">\n",
              "      <th></th>\n",
              "      <th>Open</th>\n",
              "      <th>Close</th>\n",
              "      <th>Close_1</th>\n",
              "      <th>Rent</th>\n",
              "      <th>Rent_log</th>\n",
              "    </tr>\n",
              "    <tr>\n",
              "      <th>Date</th>\n",
              "      <th></th>\n",
              "      <th></th>\n",
              "      <th></th>\n",
              "      <th></th>\n",
              "      <th></th>\n",
              "    </tr>\n",
              "  </thead>\n",
              "  <tbody>\n",
              "    <tr>\n",
              "      <th>2020-01-02</th>\n",
              "      <td>1348.410034</td>\n",
              "      <td>1368.680054</td>\n",
              "      <td>NaN</td>\n",
              "      <td>NaN</td>\n",
              "      <td>NaN</td>\n",
              "    </tr>\n",
              "    <tr>\n",
              "      <th>2020-01-03</th>\n",
              "      <td>1348.000000</td>\n",
              "      <td>1361.520020</td>\n",
              "      <td>1368.680054</td>\n",
              "      <td>0.994769</td>\n",
              "      <td>-0.005245</td>\n",
              "    </tr>\n",
              "    <tr>\n",
              "      <th>2020-01-06</th>\n",
              "      <td>1351.630005</td>\n",
              "      <td>1397.810059</td>\n",
              "      <td>1361.520020</td>\n",
              "      <td>1.026654</td>\n",
              "      <td>0.026305</td>\n",
              "    </tr>\n",
              "    <tr>\n",
              "      <th>2020-01-07</th>\n",
              "      <td>1400.459961</td>\n",
              "      <td>1395.109985</td>\n",
              "      <td>1397.810059</td>\n",
              "      <td>0.998068</td>\n",
              "      <td>-0.001934</td>\n",
              "    </tr>\n",
              "    <tr>\n",
              "      <th>2020-01-08</th>\n",
              "      <td>1394.819946</td>\n",
              "      <td>1405.040039</td>\n",
              "      <td>1395.109985</td>\n",
              "      <td>1.007118</td>\n",
              "      <td>0.007093</td>\n",
              "    </tr>\n",
              "    <tr>\n",
              "      <th>...</th>\n",
              "      <td>...</td>\n",
              "      <td>...</td>\n",
              "      <td>...</td>\n",
              "      <td>...</td>\n",
              "      <td>...</td>\n",
              "    </tr>\n",
              "    <tr>\n",
              "      <th>2022-02-25</th>\n",
              "      <td>2671.040039</td>\n",
              "      <td>2689.189941</td>\n",
              "      <td>2653.820068</td>\n",
              "      <td>1.013328</td>\n",
              "      <td>0.013240</td>\n",
              "    </tr>\n",
              "    <tr>\n",
              "      <th>2022-02-28</th>\n",
              "      <td>2661.000000</td>\n",
              "      <td>2701.139893</td>\n",
              "      <td>2689.189941</td>\n",
              "      <td>1.004444</td>\n",
              "      <td>0.004434</td>\n",
              "    </tr>\n",
              "    <tr>\n",
              "      <th>2022-03-01</th>\n",
              "      <td>2697.570068</td>\n",
              "      <td>2681.229980</td>\n",
              "      <td>2701.139893</td>\n",
              "      <td>0.992629</td>\n",
              "      <td>-0.007398</td>\n",
              "    </tr>\n",
              "    <tr>\n",
              "      <th>2022-03-02</th>\n",
              "      <td>2692.560059</td>\n",
              "      <td>2691.429932</td>\n",
              "      <td>2681.229980</td>\n",
              "      <td>1.003804</td>\n",
              "      <td>0.003797</td>\n",
              "    </tr>\n",
              "    <tr>\n",
              "      <th>2022-03-03</th>\n",
              "      <td>2720.199951</td>\n",
              "      <td>2691.295410</td>\n",
              "      <td>2691.429932</td>\n",
              "      <td>0.999950</td>\n",
              "      <td>-0.000050</td>\n",
              "    </tr>\n",
              "  </tbody>\n",
              "</table>\n",
              "<p>547 rows × 5 columns</p>\n",
              "</div>\n",
              "      <button class=\"colab-df-convert\" onclick=\"convertToInteractive('df-3ee096d0-448f-4e71-b2d0-583b040f8a34')\"\n",
              "              title=\"Convert this dataframe to an interactive table.\"\n",
              "              style=\"display:none;\">\n",
              "        \n",
              "  <svg xmlns=\"http://www.w3.org/2000/svg\" height=\"24px\"viewBox=\"0 0 24 24\"\n",
              "       width=\"24px\">\n",
              "    <path d=\"M0 0h24v24H0V0z\" fill=\"none\"/>\n",
              "    <path d=\"M18.56 5.44l.94 2.06.94-2.06 2.06-.94-2.06-.94-.94-2.06-.94 2.06-2.06.94zm-11 1L8.5 8.5l.94-2.06 2.06-.94-2.06-.94L8.5 2.5l-.94 2.06-2.06.94zm10 10l.94 2.06.94-2.06 2.06-.94-2.06-.94-.94-2.06-.94 2.06-2.06.94z\"/><path d=\"M17.41 7.96l-1.37-1.37c-.4-.4-.92-.59-1.43-.59-.52 0-1.04.2-1.43.59L10.3 9.45l-7.72 7.72c-.78.78-.78 2.05 0 2.83L4 21.41c.39.39.9.59 1.41.59.51 0 1.02-.2 1.41-.59l7.78-7.78 2.81-2.81c.8-.78.8-2.07 0-2.86zM5.41 20L4 18.59l7.72-7.72 1.47 1.35L5.41 20z\"/>\n",
              "  </svg>\n",
              "      </button>\n",
              "      \n",
              "  <style>\n",
              "    .colab-df-container {\n",
              "      display:flex;\n",
              "      flex-wrap:wrap;\n",
              "      gap: 12px;\n",
              "    }\n",
              "\n",
              "    .colab-df-convert {\n",
              "      background-color: #E8F0FE;\n",
              "      border: none;\n",
              "      border-radius: 50%;\n",
              "      cursor: pointer;\n",
              "      display: none;\n",
              "      fill: #1967D2;\n",
              "      height: 32px;\n",
              "      padding: 0 0 0 0;\n",
              "      width: 32px;\n",
              "    }\n",
              "\n",
              "    .colab-df-convert:hover {\n",
              "      background-color: #E2EBFA;\n",
              "      box-shadow: 0px 1px 2px rgba(60, 64, 67, 0.3), 0px 1px 3px 1px rgba(60, 64, 67, 0.15);\n",
              "      fill: #174EA6;\n",
              "    }\n",
              "\n",
              "    [theme=dark] .colab-df-convert {\n",
              "      background-color: #3B4455;\n",
              "      fill: #D2E3FC;\n",
              "    }\n",
              "\n",
              "    [theme=dark] .colab-df-convert:hover {\n",
              "      background-color: #434B5C;\n",
              "      box-shadow: 0px 1px 3px 1px rgba(0, 0, 0, 0.15);\n",
              "      filter: drop-shadow(0px 1px 2px rgba(0, 0, 0, 0.3));\n",
              "      fill: #FFFFFF;\n",
              "    }\n",
              "  </style>\n",
              "\n",
              "      <script>\n",
              "        const buttonEl =\n",
              "          document.querySelector('#df-3ee096d0-448f-4e71-b2d0-583b040f8a34 button.colab-df-convert');\n",
              "        buttonEl.style.display =\n",
              "          google.colab.kernel.accessAllowed ? 'block' : 'none';\n",
              "\n",
              "        async function convertToInteractive(key) {\n",
              "          const element = document.querySelector('#df-3ee096d0-448f-4e71-b2d0-583b040f8a34');\n",
              "          const dataTable =\n",
              "            await google.colab.kernel.invokeFunction('convertToInteractive',\n",
              "                                                     [key], {});\n",
              "          if (!dataTable) return;\n",
              "\n",
              "          const docLinkHtml = 'Like what you see? Visit the ' +\n",
              "            '<a target=\"_blank\" href=https://colab.research.google.com/notebooks/data_table.ipynb>data table notebook</a>'\n",
              "            + ' to learn more about interactive tables.';\n",
              "          element.innerHTML = '';\n",
              "          dataTable['output_type'] = 'display_data';\n",
              "          await google.colab.output.renderOutput(dataTable, element);\n",
              "          const docLink = document.createElement('div');\n",
              "          docLink.innerHTML = docLinkHtml;\n",
              "          element.appendChild(docLink);\n",
              "        }\n",
              "      </script>\n",
              "    </div>\n",
              "  </div>\n",
              "  "
            ],
            "text/plain": [
              "                   Open        Close      Close_1      Rent  Rent_log\n",
              "Date                                                                 \n",
              "2020-01-02  1348.410034  1368.680054          NaN       NaN       NaN\n",
              "2020-01-03  1348.000000  1361.520020  1368.680054  0.994769 -0.005245\n",
              "2020-01-06  1351.630005  1397.810059  1361.520020  1.026654  0.026305\n",
              "2020-01-07  1400.459961  1395.109985  1397.810059  0.998068 -0.001934\n",
              "2020-01-08  1394.819946  1405.040039  1395.109985  1.007118  0.007093\n",
              "...                 ...          ...          ...       ...       ...\n",
              "2022-02-25  2671.040039  2689.189941  2653.820068  1.013328  0.013240\n",
              "2022-02-28  2661.000000  2701.139893  2689.189941  1.004444  0.004434\n",
              "2022-03-01  2697.570068  2681.229980  2701.139893  0.992629 -0.007398\n",
              "2022-03-02  2692.560059  2691.429932  2681.229980  1.003804  0.003797\n",
              "2022-03-03  2720.199951  2691.295410  2691.429932  0.999950 -0.000050\n",
              "\n",
              "[547 rows x 5 columns]"
            ]
          },
          "metadata": {},
          "execution_count": 39
        }
      ]
    },
    {
      "cell_type": "markdown",
      "source": [
        "### Historicos"
      ],
      "metadata": {
        "id": "vbv3LVmEV87H"
      }
    },
    {
      "cell_type": "code",
      "source": [
        "import pandas as pd\n",
        "\n",
        "Stock = pd.DataFrame()\n",
        "Stock[\"Apple_C\"] = Apple_hist[\"Close\"]\n",
        "Stock[\"Amazon_C\"] = Amazon_hist[\"Close\"]\n",
        "Stock[\"Google_C\"] = Google[\"Close\"]\n",
        "Stock"
      ],
      "metadata": {
        "colab": {
          "base_uri": "https://localhost:8080/",
          "height": 455
        },
        "id": "MgSooH1KV-zY",
        "outputId": "cf26ca49-e634-4087-97c7-21d1a75add08"
      },
      "execution_count": null,
      "outputs": [
        {
          "output_type": "execute_result",
          "data": {
            "text/html": [
              "\n",
              "  <div id=\"df-6527b310-8c29-4b3c-ba54-3d7e8727f3c0\">\n",
              "    <div class=\"colab-df-container\">\n",
              "      <div>\n",
              "<style scoped>\n",
              "    .dataframe tbody tr th:only-of-type {\n",
              "        vertical-align: middle;\n",
              "    }\n",
              "\n",
              "    .dataframe tbody tr th {\n",
              "        vertical-align: top;\n",
              "    }\n",
              "\n",
              "    .dataframe thead th {\n",
              "        text-align: right;\n",
              "    }\n",
              "</style>\n",
              "<table border=\"1\" class=\"dataframe\">\n",
              "  <thead>\n",
              "    <tr style=\"text-align: right;\">\n",
              "      <th></th>\n",
              "      <th>Apple_C</th>\n",
              "      <th>Amazon_C</th>\n",
              "      <th>Google_C</th>\n",
              "    </tr>\n",
              "    <tr>\n",
              "      <th>Date</th>\n",
              "      <th></th>\n",
              "      <th></th>\n",
              "      <th></th>\n",
              "    </tr>\n",
              "  </thead>\n",
              "  <tbody>\n",
              "    <tr>\n",
              "      <th>1980-12-12</th>\n",
              "      <td>0.100326</td>\n",
              "      <td>NaN</td>\n",
              "      <td>NaN</td>\n",
              "    </tr>\n",
              "    <tr>\n",
              "      <th>1980-12-15</th>\n",
              "      <td>0.095092</td>\n",
              "      <td>NaN</td>\n",
              "      <td>NaN</td>\n",
              "    </tr>\n",
              "    <tr>\n",
              "      <th>1980-12-16</th>\n",
              "      <td>0.088112</td>\n",
              "      <td>NaN</td>\n",
              "      <td>NaN</td>\n",
              "    </tr>\n",
              "    <tr>\n",
              "      <th>1980-12-17</th>\n",
              "      <td>0.090293</td>\n",
              "      <td>NaN</td>\n",
              "      <td>NaN</td>\n",
              "    </tr>\n",
              "    <tr>\n",
              "      <th>1980-12-18</th>\n",
              "      <td>0.092911</td>\n",
              "      <td>NaN</td>\n",
              "      <td>NaN</td>\n",
              "    </tr>\n",
              "    <tr>\n",
              "      <th>...</th>\n",
              "      <td>...</td>\n",
              "      <td>...</td>\n",
              "      <td>...</td>\n",
              "    </tr>\n",
              "    <tr>\n",
              "      <th>2022-02-25</th>\n",
              "      <td>164.850006</td>\n",
              "      <td>NaN</td>\n",
              "      <td>2689.189941</td>\n",
              "    </tr>\n",
              "    <tr>\n",
              "      <th>2022-02-28</th>\n",
              "      <td>165.119995</td>\n",
              "      <td>NaN</td>\n",
              "      <td>2701.139893</td>\n",
              "    </tr>\n",
              "    <tr>\n",
              "      <th>2022-03-01</th>\n",
              "      <td>163.199997</td>\n",
              "      <td>NaN</td>\n",
              "      <td>2681.229980</td>\n",
              "    </tr>\n",
              "    <tr>\n",
              "      <th>2022-03-02</th>\n",
              "      <td>166.559998</td>\n",
              "      <td>NaN</td>\n",
              "      <td>2691.429932</td>\n",
              "    </tr>\n",
              "    <tr>\n",
              "      <th>2022-03-03</th>\n",
              "      <td>167.044998</td>\n",
              "      <td>NaN</td>\n",
              "      <td>2691.295410</td>\n",
              "    </tr>\n",
              "  </tbody>\n",
              "</table>\n",
              "<p>10394 rows × 3 columns</p>\n",
              "</div>\n",
              "      <button class=\"colab-df-convert\" onclick=\"convertToInteractive('df-6527b310-8c29-4b3c-ba54-3d7e8727f3c0')\"\n",
              "              title=\"Convert this dataframe to an interactive table.\"\n",
              "              style=\"display:none;\">\n",
              "        \n",
              "  <svg xmlns=\"http://www.w3.org/2000/svg\" height=\"24px\"viewBox=\"0 0 24 24\"\n",
              "       width=\"24px\">\n",
              "    <path d=\"M0 0h24v24H0V0z\" fill=\"none\"/>\n",
              "    <path d=\"M18.56 5.44l.94 2.06.94-2.06 2.06-.94-2.06-.94-.94-2.06-.94 2.06-2.06.94zm-11 1L8.5 8.5l.94-2.06 2.06-.94-2.06-.94L8.5 2.5l-.94 2.06-2.06.94zm10 10l.94 2.06.94-2.06 2.06-.94-2.06-.94-.94-2.06-.94 2.06-2.06.94z\"/><path d=\"M17.41 7.96l-1.37-1.37c-.4-.4-.92-.59-1.43-.59-.52 0-1.04.2-1.43.59L10.3 9.45l-7.72 7.72c-.78.78-.78 2.05 0 2.83L4 21.41c.39.39.9.59 1.41.59.51 0 1.02-.2 1.41-.59l7.78-7.78 2.81-2.81c.8-.78.8-2.07 0-2.86zM5.41 20L4 18.59l7.72-7.72 1.47 1.35L5.41 20z\"/>\n",
              "  </svg>\n",
              "      </button>\n",
              "      \n",
              "  <style>\n",
              "    .colab-df-container {\n",
              "      display:flex;\n",
              "      flex-wrap:wrap;\n",
              "      gap: 12px;\n",
              "    }\n",
              "\n",
              "    .colab-df-convert {\n",
              "      background-color: #E8F0FE;\n",
              "      border: none;\n",
              "      border-radius: 50%;\n",
              "      cursor: pointer;\n",
              "      display: none;\n",
              "      fill: #1967D2;\n",
              "      height: 32px;\n",
              "      padding: 0 0 0 0;\n",
              "      width: 32px;\n",
              "    }\n",
              "\n",
              "    .colab-df-convert:hover {\n",
              "      background-color: #E2EBFA;\n",
              "      box-shadow: 0px 1px 2px rgba(60, 64, 67, 0.3), 0px 1px 3px 1px rgba(60, 64, 67, 0.15);\n",
              "      fill: #174EA6;\n",
              "    }\n",
              "\n",
              "    [theme=dark] .colab-df-convert {\n",
              "      background-color: #3B4455;\n",
              "      fill: #D2E3FC;\n",
              "    }\n",
              "\n",
              "    [theme=dark] .colab-df-convert:hover {\n",
              "      background-color: #434B5C;\n",
              "      box-shadow: 0px 1px 3px 1px rgba(0, 0, 0, 0.15);\n",
              "      filter: drop-shadow(0px 1px 2px rgba(0, 0, 0, 0.3));\n",
              "      fill: #FFFFFF;\n",
              "    }\n",
              "  </style>\n",
              "\n",
              "      <script>\n",
              "        const buttonEl =\n",
              "          document.querySelector('#df-6527b310-8c29-4b3c-ba54-3d7e8727f3c0 button.colab-df-convert');\n",
              "        buttonEl.style.display =\n",
              "          google.colab.kernel.accessAllowed ? 'block' : 'none';\n",
              "\n",
              "        async function convertToInteractive(key) {\n",
              "          const element = document.querySelector('#df-6527b310-8c29-4b3c-ba54-3d7e8727f3c0');\n",
              "          const dataTable =\n",
              "            await google.colab.kernel.invokeFunction('convertToInteractive',\n",
              "                                                     [key], {});\n",
              "          if (!dataTable) return;\n",
              "\n",
              "          const docLinkHtml = 'Like what you see? Visit the ' +\n",
              "            '<a target=\"_blank\" href=https://colab.research.google.com/notebooks/data_table.ipynb>data table notebook</a>'\n",
              "            + ' to learn more about interactive tables.';\n",
              "          element.innerHTML = '';\n",
              "          dataTable['output_type'] = 'display_data';\n",
              "          await google.colab.output.renderOutput(dataTable, element);\n",
              "          const docLink = document.createElement('div');\n",
              "          docLink.innerHTML = docLinkHtml;\n",
              "          element.appendChild(docLink);\n",
              "        }\n",
              "      </script>\n",
              "    </div>\n",
              "  </div>\n",
              "  "
            ],
            "text/plain": [
              "               Apple_C  Amazon_C     Google_C\n",
              "Date                                         \n",
              "1980-12-12    0.100326       NaN          NaN\n",
              "1980-12-15    0.095092       NaN          NaN\n",
              "1980-12-16    0.088112       NaN          NaN\n",
              "1980-12-17    0.090293       NaN          NaN\n",
              "1980-12-18    0.092911       NaN          NaN\n",
              "...                ...       ...          ...\n",
              "2022-02-25  164.850006       NaN  2689.189941\n",
              "2022-02-28  165.119995       NaN  2701.139893\n",
              "2022-03-01  163.199997       NaN  2681.229980\n",
              "2022-03-02  166.559998       NaN  2691.429932\n",
              "2022-03-03  167.044998       NaN  2691.295410\n",
              "\n",
              "[10394 rows x 3 columns]"
            ]
          },
          "metadata": {},
          "execution_count": 41
        }
      ]
    },
    {
      "cell_type": "code",
      "source": [
        "Stock.plot(grid = True)"
      ],
      "metadata": {
        "colab": {
          "base_uri": "https://localhost:8080/",
          "height": 287
        },
        "id": "-Y8XJ4pEWBlS",
        "outputId": "488ddde1-798d-48c6-fa8f-a070f7f6dbd9"
      },
      "execution_count": null,
      "outputs": [
        {
          "output_type": "execute_result",
          "data": {
            "text/plain": [
              "<matplotlib.axes._subplots.AxesSubplot at 0x7fb3f5658250>"
            ]
          },
          "metadata": {},
          "execution_count": 42
        },
        {
          "output_type": "display_data",
          "data": {
            "image/png": "[encoded data removed]",
            "text/plain": [
              "<Figure size 432x288 with 1 Axes>"
            ]
          },
          "metadata": {
            "needs_background": "light"
          }
        }
      ]
    },
    {
      "cell_type": "markdown",
      "source": [
        "La diferencia entre los precios de las acciones de nuestro portafolio hace que sea dificil de visualizar correctamentre nuestros datos.\n",
        "\n",
        "Una solución es mapear en dos escalas diferentes. Una escala se usa para los datos de Apple; la otra escala se usa para datos de Google y Amazon."
      ],
      "metadata": {
        "id": "a2hJKgSiYErb"
      }
    },
    {
      "cell_type": "code",
      "source": [
        "Stock"
      ],
      "metadata": {
        "colab": {
          "base_uri": "https://localhost:8080/",
          "height": 455
        },
        "id": "4JbmZ8b_Y-K0",
        "outputId": "c13fe155-0ba4-4e9e-aafd-efdcf39273ac"
      },
      "execution_count": null,
      "outputs": [
        {
          "output_type": "execute_result",
          "data": {
            "text/html": [
              "\n",
              "  <div id=\"df-0fc6a26f-5c1b-4f81-930b-605dee25324b\">\n",
              "    <div class=\"colab-df-container\">\n",
              "      <div>\n",
              "<style scoped>\n",
              "    .dataframe tbody tr th:only-of-type {\n",
              "        vertical-align: middle;\n",
              "    }\n",
              "\n",
              "    .dataframe tbody tr th {\n",
              "        vertical-align: top;\n",
              "    }\n",
              "\n",
              "    .dataframe thead th {\n",
              "        text-align: right;\n",
              "    }\n",
              "</style>\n",
              "<table border=\"1\" class=\"dataframe\">\n",
              "  <thead>\n",
              "    <tr style=\"text-align: right;\">\n",
              "      <th></th>\n",
              "      <th>Apple_C</th>\n",
              "      <th>Amazon_C</th>\n",
              "      <th>Google_C</th>\n",
              "    </tr>\n",
              "    <tr>\n",
              "      <th>Date</th>\n",
              "      <th></th>\n",
              "      <th></th>\n",
              "      <th></th>\n",
              "    </tr>\n",
              "  </thead>\n",
              "  <tbody>\n",
              "    <tr>\n",
              "      <th>1980-12-12</th>\n",
              "      <td>0.100326</td>\n",
              "      <td>NaN</td>\n",
              "      <td>NaN</td>\n",
              "    </tr>\n",
              "    <tr>\n",
              "      <th>1980-12-15</th>\n",
              "      <td>0.095092</td>\n",
              "      <td>NaN</td>\n",
              "      <td>NaN</td>\n",
              "    </tr>\n",
              "    <tr>\n",
              "      <th>1980-12-16</th>\n",
              "      <td>0.088112</td>\n",
              "      <td>NaN</td>\n",
              "      <td>NaN</td>\n",
              "    </tr>\n",
              "    <tr>\n",
              "      <th>1980-12-17</th>\n",
              "      <td>0.090293</td>\n",
              "      <td>NaN</td>\n",
              "      <td>NaN</td>\n",
              "    </tr>\n",
              "    <tr>\n",
              "      <th>1980-12-18</th>\n",
              "      <td>0.092911</td>\n",
              "      <td>NaN</td>\n",
              "      <td>NaN</td>\n",
              "    </tr>\n",
              "    <tr>\n",
              "      <th>...</th>\n",
              "      <td>...</td>\n",
              "      <td>...</td>\n",
              "      <td>...</td>\n",
              "    </tr>\n",
              "    <tr>\n",
              "      <th>2022-02-25</th>\n",
              "      <td>164.850006</td>\n",
              "      <td>NaN</td>\n",
              "      <td>2689.189941</td>\n",
              "    </tr>\n",
              "    <tr>\n",
              "      <th>2022-02-28</th>\n",
              "      <td>165.119995</td>\n",
              "      <td>NaN</td>\n",
              "      <td>2701.139893</td>\n",
              "    </tr>\n",
              "    <tr>\n",
              "      <th>2022-03-01</th>\n",
              "      <td>163.199997</td>\n",
              "      <td>NaN</td>\n",
              "      <td>2681.229980</td>\n",
              "    </tr>\n",
              "    <tr>\n",
              "      <th>2022-03-02</th>\n",
              "      <td>166.559998</td>\n",
              "      <td>NaN</td>\n",
              "      <td>2691.429932</td>\n",
              "    </tr>\n",
              "    <tr>\n",
              "      <th>2022-03-03</th>\n",
              "      <td>167.044998</td>\n",
              "      <td>NaN</td>\n",
              "      <td>2691.295410</td>\n",
              "    </tr>\n",
              "  </tbody>\n",
              "</table>\n",
              "<p>10394 rows × 3 columns</p>\n",
              "</div>\n",
              "      <button class=\"colab-df-convert\" onclick=\"convertToInteractive('df-0fc6a26f-5c1b-4f81-930b-605dee25324b')\"\n",
              "              title=\"Convert this dataframe to an interactive table.\"\n",
              "              style=\"display:none;\">\n",
              "        \n",
              "  <svg xmlns=\"http://www.w3.org/2000/svg\" height=\"24px\"viewBox=\"0 0 24 24\"\n",
              "       width=\"24px\">\n",
              "    <path d=\"M0 0h24v24H0V0z\" fill=\"none\"/>\n",
              "    <path d=\"M18.56 5.44l.94 2.06.94-2.06 2.06-.94-2.06-.94-.94-2.06-.94 2.06-2.06.94zm-11 1L8.5 8.5l.94-2.06 2.06-.94-2.06-.94L8.5 2.5l-.94 2.06-2.06.94zm10 10l.94 2.06.94-2.06 2.06-.94-2.06-.94-.94-2.06-.94 2.06-2.06.94z\"/><path d=\"M17.41 7.96l-1.37-1.37c-.4-.4-.92-.59-1.43-.59-.52 0-1.04.2-1.43.59L10.3 9.45l-7.72 7.72c-.78.78-.78 2.05 0 2.83L4 21.41c.39.39.9.59 1.41.59.51 0 1.02-.2 1.41-.59l7.78-7.78 2.81-2.81c.8-.78.8-2.07 0-2.86zM5.41 20L4 18.59l7.72-7.72 1.47 1.35L5.41 20z\"/>\n",
              "  </svg>\n",
              "      </button>\n",
              "      \n",
              "  <style>\n",
              "    .colab-df-container {\n",
              "      display:flex;\n",
              "      flex-wrap:wrap;\n",
              "      gap: 12px;\n",
              "    }\n",
              "\n",
              "    .colab-df-convert {\n",
              "      background-color: #E8F0FE;\n",
              "      border: none;\n",
              "      border-radius: 50%;\n",
              "      cursor: pointer;\n",
              "      display: none;\n",
              "      fill: #1967D2;\n",
              "      height: 32px;\n",
              "      padding: 0 0 0 0;\n",
              "      width: 32px;\n",
              "    }\n",
              "\n",
              "    .colab-df-convert:hover {\n",
              "      background-color: #E2EBFA;\n",
              "      box-shadow: 0px 1px 2px rgba(60, 64, 67, 0.3), 0px 1px 3px 1px rgba(60, 64, 67, 0.15);\n",
              "      fill: #174EA6;\n",
              "    }\n",
              "\n",
              "    [theme=dark] .colab-df-convert {\n",
              "      background-color: #3B4455;\n",
              "      fill: #D2E3FC;\n",
              "    }\n",
              "\n",
              "    [theme=dark] .colab-df-convert:hover {\n",
              "      background-color: #434B5C;\n",
              "      box-shadow: 0px 1px 3px 1px rgba(0, 0, 0, 0.15);\n",
              "      filter: drop-shadow(0px 1px 2px rgba(0, 0, 0, 0.3));\n",
              "      fill: #FFFFFF;\n",
              "    }\n",
              "  </style>\n",
              "\n",
              "      <script>\n",
              "        const buttonEl =\n",
              "          document.querySelector('#df-0fc6a26f-5c1b-4f81-930b-605dee25324b button.colab-df-convert');\n",
              "        buttonEl.style.display =\n",
              "          google.colab.kernel.accessAllowed ? 'block' : 'none';\n",
              "\n",
              "        async function convertToInteractive(key) {\n",
              "          const element = document.querySelector('#df-0fc6a26f-5c1b-4f81-930b-605dee25324b');\n",
              "          const dataTable =\n",
              "            await google.colab.kernel.invokeFunction('convertToInteractive',\n",
              "                                                     [key], {});\n",
              "          if (!dataTable) return;\n",
              "\n",
              "          const docLinkHtml = 'Like what you see? Visit the ' +\n",
              "            '<a target=\"_blank\" href=https://colab.research.google.com/notebooks/data_table.ipynb>data table notebook</a>'\n",
              "            + ' to learn more about interactive tables.';\n",
              "          element.innerHTML = '';\n",
              "          dataTable['output_type'] = 'display_data';\n",
              "          await google.colab.output.renderOutput(dataTable, element);\n",
              "          const docLink = document.createElement('div');\n",
              "          docLink.innerHTML = docLinkHtml;\n",
              "          element.appendChild(docLink);\n",
              "        }\n",
              "      </script>\n",
              "    </div>\n",
              "  </div>\n",
              "  "
            ],
            "text/plain": [
              "               Apple_C  Amazon_C     Google_C\n",
              "Date                                         \n",
              "1980-12-12    0.100326       NaN          NaN\n",
              "1980-12-15    0.095092       NaN          NaN\n",
              "1980-12-16    0.088112       NaN          NaN\n",
              "1980-12-17    0.090293       NaN          NaN\n",
              "1980-12-18    0.092911       NaN          NaN\n",
              "...                ...       ...          ...\n",
              "2022-02-25  164.850006       NaN  2689.189941\n",
              "2022-02-28  165.119995       NaN  2701.139893\n",
              "2022-03-01  163.199997       NaN  2681.229980\n",
              "2022-03-02  166.559998       NaN  2691.429932\n",
              "2022-03-03  167.044998       NaN  2691.295410\n",
              "\n",
              "[10394 rows x 3 columns]"
            ]
          },
          "metadata": {},
          "execution_count": 43
        }
      ]
    },
    {
      "cell_type": "code",
      "source": [
        "Stock.plot(secondary_y = [\"Amazon_C\", \"Google_C\"], grid = True)"
      ],
      "metadata": {
        "colab": {
          "base_uri": "https://localhost:8080/",
          "height": 287
        },
        "id": "y3qnZp9zYWyI",
        "outputId": "18336434-df2d-4460-ad3a-cfb0d8ee2c81"
      },
      "execution_count": null,
      "outputs": [
        {
          "output_type": "execute_result",
          "data": {
            "text/plain": [
              "<matplotlib.axes._subplots.AxesSubplot at 0x7fb3f545fed0>"
            ]
          },
          "metadata": {},
          "execution_count": 44
        },
        {
          "output_type": "display_data",
          "data": {
            "image/png": "[encoded data removed]",
            "text/plain": [
              "<Figure size 432x288 with 2 Axes>"
            ]
          },
          "metadata": {
            "needs_background": "light"
          }
        }
      ]
    },
    {
      "cell_type": "markdown",
      "source": [
        "Una solución \"mejor\" es visualizar la información que realmente nos interesa: las devoluciones de existencias. Esto requiere que realicemos la transformación de datos necesaria. Hay muchas formas de transformar datos. Uno de los métodos de conversión es comparar el precio de las acciones de cada día de negociación con el precio de las acciones al comienzo del período de interés."
      ],
      "metadata": {
        "id": "hBm2Fzdsa6yw"
      }
    },
    {
      "cell_type": "code",
      "source": [
        "Stock_Return = pd.DataFrame()\n",
        "Stock_Return[\"Amazon_R\"] = Stock[\"Amazon_C\"] / Stock[\"Amazon_C\"][0]\n",
        "Stock_Return[\"Apple_R\"] = Stock[\"Apple_C\"] / Stock[\"Apple_C\"][0]\n",
        "Stock_Return[\"Google_R\"] = Stock[\"Google_C\"] / Stock[\"Google_C\"][0]"
      ],
      "metadata": {
        "id": "Egt8cGP0a7Q8"
      },
      "execution_count": null,
      "outputs": []
    },
    {
      "cell_type": "code",
      "source": [
        "Stock_Return.plot(grid = True).axhline(y = 1, color = \"black\", lw = 2)"
      ],
      "metadata": {
        "colab": {
          "base_uri": "https://localhost:8080/",
          "height": 287
        },
        "id": "yInJPEyPbTs3",
        "outputId": "b7689262-9a42-442a-cf8d-882b1fb51897"
      },
      "execution_count": null,
      "outputs": [
        {
          "output_type": "execute_result",
          "data": {
            "text/plain": [
              "<matplotlib.lines.Line2D at 0x7fb3f5b99390>"
            ]
          },
          "metadata": {},
          "execution_count": 46
        },
        {
          "output_type": "display_data",
          "data": {
            "image/png": "[encoded data removed]",
            "text/plain": [
              "<Figure size 432x288 with 1 Axes>"
            ]
          },
          "metadata": {
            "needs_background": "light"
          }
        }
      ]
    },
    {
      "cell_type": "markdown",
      "source": [
        "Esta foto es mucho más útil. Ahora podemos ver qué tan alto es el rendimiento de cada acción desde la fecha que nos importa. Y podemos ver que la correlación entre estas poblaciones es alta. Básicamente se mueven en la misma dirección, lo cual es difícil de observar en otros tipos de gráficos.\n",
        "\n",
        "También podemos trazar cambios diarios en el valor de las acciones. Un método factible es utilizar el cambio del valor de la acción de $ t + 1 $ al día siguiente y $ t $ el mismo día que el precio de la acción del día:"
      ],
      "metadata": {
        "id": "AB8_9gn7b3_T"
      }
    },
    {
      "cell_type": "markdown",
      "source": [
        "### Incremento\n",
        "Comparación del precio de hoy y el día anterior"
      ],
      "metadata": {
        "id": "kYeeCxbLeQ_Z"
      }
    },
    {
      "cell_type": "code",
      "source": [
        "Stock_Increase = pd.DataFrame()\n",
        "Stock_Increase[\"Amazon_I\"] = (Amazon_hist[\"Close\"]-Amazon_hist[\"Close\"].shift(1))/Amazon_hist[\"Close\"]\n",
        "Stock_Increase[\"Apple_I\"] = (Apple_hist[\"Close\"]-Apple_hist[\"Close\"].shift(1))/Apple_hist[\"Close\"]\n",
        "Stock_Increase[\"Google_I\"] = (Google[\"Close\"]-Google[\"Close\"].shift(1))/Google[\"Close\"]"
      ],
      "metadata": {
        "id": "-_Jg5YzLb3VL"
      },
      "execution_count": null,
      "outputs": []
    },
    {
      "cell_type": "code",
      "source": [
        "Stock_Increase.plot(grid = True)"
      ],
      "metadata": {
        "colab": {
          "base_uri": "https://localhost:8080/",
          "height": 303
        },
        "id": "EnDcjOu8eAya",
        "outputId": "62e358b1-2385-43c7-dde2-ff573cf1c3fb"
      },
      "execution_count": null,
      "outputs": [
        {
          "output_type": "execute_result",
          "data": {
            "text/plain": [
              "<matplotlib.axes._subplots.AxesSubplot at 0x7fb3f28aa650>"
            ]
          },
          "metadata": {},
          "execution_count": 48
        },
        {
          "output_type": "display_data",
          "data": {
            "image/png": "[encoded data removed]",
            "text/plain": [
              "<Figure size 432x288 with 1 Axes>"
            ]
          },
          "metadata": {
            "needs_background": "light"
          }
        }
      ]
    },
    {
      "cell_type": "markdown",
      "source": [
        "### Cambio log\n",
        "\n",
        "La ventaja de usar una diferencia logarítmica es que el valor de la diferencia puede interpretarse como una diferencia porcentual en el stock, pero no se ve afectado por el denominador."
      ],
      "metadata": {
        "id": "R-HagYrhe82L"
      }
    },
    {
      "cell_type": "code",
      "source": [
        "Stock_Change = pd.DataFrame()\n",
        "Stock_Change[\"Amazon_Ch\"] = np.log(Amazon_hist[\"Close\"])-np.log(Amazon_hist[\"Close\"].shift(1))\n",
        "Stock_Change[\"Apple_Ch\"] = np.log(Apple_hist[\"Close\"])-np.log(Apple_hist[\"Close\"].shift(1))\n",
        "Stock_Change[\"Google_Ch\"] = np.log(Google[\"Close\"])-np.log(Google[\"Close\"].shift(1))"
      ],
      "metadata": {
        "id": "9hzuu_WlebQA"
      },
      "execution_count": null,
      "outputs": []
    },
    {
      "cell_type": "code",
      "source": [
        "Stock_Change.plot(grid = True)"
      ],
      "metadata": {
        "colab": {
          "base_uri": "https://localhost:8080/",
          "height": 303
        },
        "id": "Jq3yYzOqecG0",
        "outputId": "2d099bfd-eec8-462c-ad95-6aa915dc36a4"
      },
      "execution_count": null,
      "outputs": [
        {
          "output_type": "execute_result",
          "data": {
            "text/plain": [
              "<matplotlib.axes._subplots.AxesSubplot at 0x7fb3f289aed0>"
            ]
          },
          "metadata": {},
          "execution_count": 50
        },
        {
          "output_type": "display_data",
          "data": {
            "image/png": "[encoded data removed]",
            "text/plain": [
              "<Figure size 432x288 with 1 Axes>"
            ]
          },
          "metadata": {
            "needs_background": "light"
          }
        }
      ]
    },
    {
      "cell_type": "markdown",
      "source": [
        "### Media Movil\n",
        "\n",
        "Un promedio móvil q-día (usando $MA^q_t$ Representar) se define como: para un cierto punto de tiempo $t$, el promedio de q días antes.\n",
        "\n",
        "$MA^{q}_{t}$ = $\\frac{1}{q}\\sum_{i=0}^{q-1}x_{t-i}$\n",
        "\n",
        "Los promedios móviles pueden suavizar una serie de datos y ayudarnos a encontrar tendencias. Cuanto mayor es el valor de q, menos sensible es el promedio móvil a las fluctuaciones a corto plazo. El propósito básico de la media móvil es identificar las tendencias del ruido.RápidoLos promedios móviles tienen qs más pequeños, que están más cerca de los precios de las acciones; yLentoLos promedios móviles tienen un valor q mayor, lo que los hace menos sensibles a las fluctuaciones y más estables.\n",
        "\n",
        "Pandas proporcionan funciones para calcular promedios móviles. A continuación, demostraré el uso de esta función para calcular un promedio móvil de 20 días (un mes) del precio de las acciones de Apple y trazarlo con el precio de las acciones."
      ],
      "metadata": {
        "id": "J9yzivW-gz-K"
      }
    },
    {
      "cell_type": "code",
      "source": [
        "Stock_Apple = pd.DataFrame(Apple_hist[\"Close\"])\n",
        "Stock_Apple[\"MV_20_1\"] =  np.round(Apple_hist[\"Close\"].rolling(window = 20, center = False).mean(), 2)\n",
        "Stock_Apple[\"MV_20_1\"].head(25)"
      ],
      "metadata": {
        "colab": {
          "base_uri": "https://localhost:8080/"
        },
        "id": "coHOAahljDqj",
        "outputId": "023aae85-4eaf-4ec3-b91b-4e8d0677a808"
      },
      "execution_count": null,
      "outputs": [
        {
          "output_type": "execute_result",
          "data": {
            "text/plain": [
              "Date\n",
              "1980-12-12     NaN\n",
              "1980-12-15     NaN\n",
              "1980-12-16     NaN\n",
              "1980-12-17     NaN\n",
              "1980-12-18     NaN\n",
              "1980-12-19     NaN\n",
              "1980-12-22     NaN\n",
              "1980-12-23     NaN\n",
              "1980-12-24     NaN\n",
              "1980-12-26     NaN\n",
              "1980-12-29     NaN\n",
              "1980-12-30     NaN\n",
              "1980-12-31     NaN\n",
              "1981-01-02     NaN\n",
              "1981-01-05     NaN\n",
              "1981-01-06     NaN\n",
              "1981-01-07     NaN\n",
              "1981-01-08     NaN\n",
              "1981-01-09     NaN\n",
              "1981-01-12    0.11\n",
              "1981-01-13    0.11\n",
              "1981-01-14    0.11\n",
              "1981-01-15    0.11\n",
              "1981-01-16    0.11\n",
              "1981-01-19    0.11\n",
              "Name: MV_20_1, dtype: float64"
            ]
          },
          "metadata": {},
          "execution_count": 51
        }
      ]
    },
    {
      "cell_type": "code",
      "source": [
        "Stock_Apple[\"MV_20_2\"] = Apple_hist[\"Close\"].rolling(20).mean()\n",
        "Stock_Apple[\"MV_20_2\"].head(25)"
      ],
      "metadata": {
        "colab": {
          "base_uri": "https://localhost:8080/"
        },
        "id": "DVirc8bYiMuU",
        "outputId": "e459bb52-10a0-4c13-b289-79c0df1ecc30"
      },
      "execution_count": null,
      "outputs": [
        {
          "output_type": "execute_result",
          "data": {
            "text/plain": [
              "Date\n",
              "1980-12-12         NaN\n",
              "1980-12-15         NaN\n",
              "1980-12-16         NaN\n",
              "1980-12-17         NaN\n",
              "1980-12-18         NaN\n",
              "1980-12-19         NaN\n",
              "1980-12-22         NaN\n",
              "1980-12-23         NaN\n",
              "1980-12-24         NaN\n",
              "1980-12-26         NaN\n",
              "1980-12-29         NaN\n",
              "1980-12-30         NaN\n",
              "1980-12-31         NaN\n",
              "1981-01-02         NaN\n",
              "1981-01-05         NaN\n",
              "1981-01-06         NaN\n",
              "1981-01-07         NaN\n",
              "1981-01-08         NaN\n",
              "1981-01-09         NaN\n",
              "1981-01-12    0.108330\n",
              "1981-01-13    0.108635\n",
              "1981-01-14    0.109224\n",
              "1981-01-15    0.110271\n",
              "1981-01-16    0.111165\n",
              "1981-01-19    0.112256\n",
              "Name: MV_20_2, dtype: float64"
            ]
          },
          "metadata": {},
          "execution_count": 52
        }
      ]
    },
    {
      "cell_type": "code",
      "source": [
        "Stock_Apple\n",
        "Stock_Apple.plot(grid = True)"
      ],
      "metadata": {
        "colab": {
          "base_uri": "https://localhost:8080/",
          "height": 287
        },
        "id": "vJRgoM86mRJP",
        "outputId": "7d9d0400-ed36-498d-d826-9488d5ebbd43"
      },
      "execution_count": null,
      "outputs": [
        {
          "output_type": "execute_result",
          "data": {
            "text/plain": [
              "<matplotlib.axes._subplots.AxesSubplot at 0x7fb3f2752a90>"
            ]
          },
          "metadata": {},
          "execution_count": 53
        },
        {
          "output_type": "display_data",
          "data": {
            "image/png": "[encoded data removed]",
            "text/plain": [
              "<Figure size 432x288 with 1 Axes>"
            ]
          },
          "metadata": {
            "needs_background": "light"
          }
        }
      ]
    },
    {
      "cell_type": "markdown",
      "source": [
        "### MACD\n",
        "\n",
        "El indicador MACD significa Divergencia de convergencia de la media móvil. Como sugiere el nombre, el indicador evalúa dos promedios móviles y la relación entre ellos.\n",
        "\n",
        "$MACD=FastEMA-SlowEMA$\n",
        "\n",
        "$SignalLine=9periodEMAfromMACD$\n",
        "\n",
        "FastEMA = EMA de 12 períodos desde el precio de cierre\n",
        "SlowEMA = EMA de 26 períodos desde el precio de cierre\n",
        "\n",
        "ACD utiliza medias móviles exponencialmente ponderadas (EMA). La configuración típica del indicador es MACD (12,26,9) como se muestra arriba.\n",
        "\n",
        "Sesgo alcista: cuando ambas líneas están por encima de cero.\n",
        "Sesgo bajista: cuando ambas líneas están por debajo de cero.\n",
        "\n",
        "El cruce podría significar la reversión de una tendencia.\n",
        "\n",
        "La señal de compra se genera cuando la línea MACD cruza SignalLine desde abajo. La señal de compra se considera más fuerte cuando el cruce se produce por debajo de la línea cero. Compra con sesgo bajista esperando un cambio de tendencia.\n",
        "\n",
        "La señal de venta se genera cuando la línea MACD cruza SignalLine desde arriba. La señal de venta se considera más fuerte cuando el cruce se produce por encima de la línea cero. Vender con sesgo alcista esperando un cambio de tendencia.\n",
        "\n",
        "Además, cuanto más lejos se produzca el cruce desde la línea cero, más fuerte será la señal.\n",
        "\n",
        "Además de esto, también tenemos el histograma (diferencia entre la línea MACD y SignalLine) que sirve como una alerta temprana para los cruces. Cuando las barras se acortan, indica que la señal de cruce podría llegar pronto.\n",
        "\n",
        "También podemos usar MACD para detectar divergencias entre la acción del precio y el indicador, aunque las divergencias son más difíciles de detectar programáticamente."
      ],
      "metadata": {
        "id": "CLaIFwEHS62r"
      }
    },
    {
      "cell_type": "code",
      "source": [
        "import pandas_datareader as pdr\n",
        "import datetime as dt\n",
        "ticker = Google[\"Close\"]\n",
        "print(ticker)"
      ],
      "metadata": {
        "colab": {
          "base_uri": "https://localhost:8080/"
        },
        "id": "RBKVJq56S8Zz",
        "outputId": "7cd835f6-1b13-44d3-cb96-5258e3c28771"
      },
      "execution_count": null,
      "outputs": [
        {
          "output_type": "stream",
          "name": "stdout",
          "text": [
            "Date\n",
            "2020-01-02    1368.680054\n",
            "2020-01-03    1361.520020\n",
            "2020-01-06    1397.810059\n",
            "2020-01-07    1395.109985\n",
            "2020-01-08    1405.040039\n",
            "                 ...     \n",
            "2022-02-25    2689.189941\n",
            "2022-02-28    2701.139893\n",
            "2022-03-01    2681.229980\n",
            "2022-03-02    2691.429932\n",
            "2022-03-03    2691.295410\n",
            "Name: Close, Length: 547, dtype: float64\n"
          ]
        }
      ]
    },
    {
      "cell_type": "code",
      "source": [
        "exp1 = ticker.ewm(span=12, adjust=False).mean()\n",
        "exp2 = ticker.ewm(span=26, adjust=False).mean()\n",
        "macd = exp1 - exp2\n",
        "exp3 = macd.ewm(span=9, adjust=False).mean()"
      ],
      "metadata": {
        "id": "0saFzTFyTCEC"
      },
      "execution_count": null,
      "outputs": []
    },
    {
      "cell_type": "code",
      "source": [
        "macd.plot(label='Google MACD', color='g')\n",
        "ax = exp3.plot(label='Signal Line', color='r')\n",
        "ticker.plot(ax=ax, secondary_y=True, label='Google')"
      ],
      "metadata": {
        "colab": {
          "base_uri": "https://localhost:8080/",
          "height": 301
        },
        "id": "lVR6th6ZTCBn",
        "outputId": "2ef51201-1cfb-4087-e98a-dc6418445fc6"
      },
      "execution_count": null,
      "outputs": [
        {
          "output_type": "execute_result",
          "data": {
            "text/plain": [
              "<matplotlib.axes._subplots.AxesSubplot at 0x7fb3edff7890>"
            ]
          },
          "metadata": {},
          "execution_count": 93
        },
        {
          "output_type": "display_data",
          "data": {
            "image/png": "[encoded data removed]",
            "text/plain": [
              "<Figure size 1440x720 with 2 Axes>"
            ]
          },
          "metadata": {}
        }
      ]
    },
    {
      "cell_type": "markdown",
      "source": [
        "Como podemos observar no nos dice mucho la g´rafica pues esta sobrepuesta, mejoremos esto separandola en 2 partes, cada una correspondiente a sus valores."
      ],
      "metadata": {
        "id": "5lRaIJRCcgiw"
      }
    },
    {
      "cell_type": "code",
      "source": [
        "def computeMACD (df, n_fast, n_slow, n_smooth):\n",
        "    data = df['Close']\n",
        "    \n",
        "    fastEMA = data.ewm(span=n_fast, min_periods=n_slow).mean()\n",
        "    slowEMA = data.ewm(span=n_slow, min_periods=n_slow).mean()\n",
        "    MACD = pd.Series(fastEMA-slowEMA, name = 'MACD')\n",
        "    MACDsig = pd.Series(MACD.ewm(span=n_smooth, min_periods=n_smooth).mean(), name='MACDsig')\n",
        "    MACDhist = pd.Series(MACD - MACDsig, name = 'MACDhist')\n",
        "    df = df.join(MACD)\n",
        "    df = df.join(MACDsig)\n",
        "    df = df.join(MACDhist)\n",
        "    \n",
        "    return df"
      ],
      "metadata": {
        "id": "C1sDubvkXPEh"
      },
      "execution_count": null,
      "outputs": []
    },
    {
      "cell_type": "code",
      "source": [
        "df = computeMACD(Google, 12, 26, 9)\n",
        "df"
      ],
      "metadata": {
        "id": "72ohPQasXpdh"
      },
      "execution_count": null,
      "outputs": []
    },
    {
      "cell_type": "code",
      "source": [
        "fechas = list(df.index)\n",
        "datos = df\n",
        "\n",
        "# plot price\n",
        "plt.figure(figsize=(16,9))\n",
        "plt.plot(fechas, datos[\"Close\"])\n",
        "plt.title('Price chart (Close) ' + \"Google\")\n",
        "plt.show()\n",
        "\n",
        "# plot correspondiendo a los valores del RSI y niveles significantes\n",
        "plt.figure(figsize=(8,3))\n",
        "plt.title('MACD chart ' + \"Google\")\n",
        "plt.plot(fechas, df['MACD'].fillna(0))\n",
        "plt.plot(fechas, df['MACDsig'].fillna(0))\n",
        "plt.plot(fechas, df['MACDhist'].fillna(0))\n",
        "plt.bar(fechas, df['MACDhist'].fillna(0), width=1, snap=False)\n",
        "\n",
        "plt.show()"
      ],
      "metadata": {
        "colab": {
          "base_uri": "https://localhost:8080/",
          "height": 582
        },
        "id": "lfxMF8K9TB-8",
        "outputId": "c2ea9cc4-90fd-4043-dd68-27979d609d60"
      },
      "execution_count": null,
      "outputs": [
        {
          "output_type": "display_data",
          "data": {
            "image/png": "[encoded data removed]",
            "text/plain": [
              "<Figure size 1152x648 with 1 Axes>"
            ]
          },
          "metadata": {}
        },
        {
          "output_type": "display_data",
          "data": {
            "image/png": "[encoded data removed]",
            "text/plain": [
              "<Figure size 576x216 with 1 Axes>"
            ]
          },
          "metadata": {}
        }
      ]
    }
  ]
}