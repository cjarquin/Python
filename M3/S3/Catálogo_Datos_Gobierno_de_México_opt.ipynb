{
  "nbformat": 4,
  "nbformat_minor": 0,
  "metadata": {
    "accelerator": "GPU",
    "colab": {
      "name": "Catálogo_Datos_Gobierno_de_México opt.ipynb",
      "provenance": [],
      "collapsed_sections": [],
      "include_colab_link": true
    },
    "kernelspec": {
      "display_name": "Python 3",
      "name": "python3"
    },
    "language_info": {
      "name": "python"
    }
  },
  "cells": [
    {
      "cell_type": "markdown",
      "metadata": {
        "id": "view-in-github",
        "colab_type": "text"
      },
      "source": [
        "<a href=\"https://colab.research.google.com/github/pikey-msc/Python/blob/main/M3/S3/Cat%C3%A1logo_Datos_Gobierno_de_M%C3%A9xico_opt.ipynb\" target=\"_parent\"><img src=\"https://colab.research.google.com/assets/colab-badge.svg\" alt=\"Open In Colab\"/></a>"
      ]
    },
    {
      "cell_type": "markdown",
      "metadata": {
        "id": "mWgGXs8uHSRK"
      },
      "source": [
        "Formato por catalogo y paginas\n"
      ]
    },
    {
      "cell_type": "code",
      "metadata": {
        "id": "CmhRyEWApl9o"
      },
      "source": [
        "#Cargamos las paqueterias\n",
        " \n",
        "import requests\n",
        "from bs4 import BeautifulSoup\n",
        "import urllib\n",
        "import os\n",
        "import pandas as pd\n",
        "from ast import literal_eval\n",
        "import numpy as np\n",
        " \n",
        "# from cdqa.utils.converters import pdf_converter\n",
        "# from cdqa.utils.filters import filter_paragraphs\n",
        "# from cdqa.pipeline import QAPipeline\n",
        "# from cdqa.utils.download import download_model"
      ],
      "execution_count": 1,
      "outputs": []
    },
    {
      "cell_type": "code",
      "metadata": {
        "id": "BhLrzxQ234ID",
        "colab": {
          "base_uri": "https://localhost:8080/"
        },
        "outputId": "b95bef6d-b91e-46d6-cb22-dea1e105e951"
      },
      "source": [
        "from google.colab import drive\n",
        "drive.mount('/content/drive')"
      ],
      "execution_count": 2,
      "outputs": [
        {
          "output_type": "stream",
          "name": "stdout",
          "text": [
            "Mounted at /content/drive\n"
          ]
        }
      ]
    },
    {
      "cell_type": "code",
      "metadata": {
        "id": "4iFFcUEnrOhz"
      },
      "source": [
        "#----------------------------------- VERSIÓN FINAL ----------------------------------- \n",
        "\n",
        "#----------------------------------- Variables a utilizar ----------------------------------- \n",
        "#Páginas\n",
        "link_pages = []\n",
        "#Publicaciones\n",
        "pages_pages = []\n",
        "soup_pages = []\n",
        "link_results = []\n",
        "results_pages = []\n",
        "#info publicaciones\n",
        "results_names = []\n",
        "results_results = []\n",
        "soup_results = []\n",
        "pages_results = []\n",
        "pages_results = []\n",
        "#archivos publicaciones\n",
        "results_files = []\n",
        "pages_info = []\n",
        "soup_info = []\n",
        "results_info = []\n",
        "#info archivos\n",
        "tabla = []\n",
        "names_files = []\n",
        "names_ind = []\n",
        "names_publication = []\n",
        "names_public = []\n",
        "names_ok = []\n",
        "names_public_ok = []\n",
        "#limpieza info\n",
        "tabla_Actual_ok = []\n",
        "tabla_Formato_ok = []\n",
        "tabla_Estado_ok = []\n",
        "tabla_Id_ok = []\n",
        "tabla_Id_Paquete_ok = []\n",
        "tabla_Id_Revision_ok = []\n",
        "\n",
        "\n",
        "#Página principal\n",
        "\n",
        "URL_main = 'https://datos.gob.mx/busca/dataset'\n",
        "pages_main = requests.get(URL_main)\n",
        "soup_main = BeautifulSoup(pages_main.content, 'html.parser')\n",
        "\n",
        "#----------------------------- Páginas -----------------------------\n",
        "\n",
        "#Links de las páginas que hay en la página\n",
        "ult_pag = soup_main.find('div', {'class': \"pagination pagination-centered\"}) #Todas las paginas\n",
        "ult_pag = ult_pag.find_all(\"a\")[4] #Última pagina\n",
        "ult_pag = int(ult_pag.string)\n",
        "for i in range(1,ult_pag+1):\n",
        "  link_pages += [\"https://datos.gob.mx//busca/dataset?page=\" + str(i)]\n",
        "\n",
        "#----------------------------------- Saca las páginas de los 9408 publicaciones ----------------------------------- \n",
        "\n",
        "for i in range(0,len(link_pages)):\n",
        "  pages_pages += [requests.get(link_pages[i])]\n",
        "  soup_pages += [BeautifulSoup(pages_pages[i].content.decode('utf-8'), 'html.parser')]\n",
        "  results_pages += [soup_pages[i].find('div', {'id': \"datasets-container\"})]\n",
        "  for results_pages[i] in results_pages[i].find_all(\"a\"):\n",
        "    link_results += [\"https://datos.gob.mx/\" + results_pages[i].attrs[\"href\"]]\n",
        "  \n",
        "#limpia los datos\n",
        "link_results_ok = [datos for datos in link_results if datos.__contains__(\"https://datos.gob.mx//busca/dataset/\")]\n",
        "\n",
        "def validpagnone():\n",
        "  global j\n",
        "  global z\n",
        "  global hs\n",
        "  hs=0\n",
        "  if str(pages_results[0])==\"<Response [404]>\":\n",
        "    j+=1\n",
        "    z+=1\n",
        "    hs=1\n",
        "    # print(\"No hay liga en \"+str(j))\n",
        "    # pages_results=[]\n",
        "    # pages_results += [requests.get(link_results_ok[j])]\n",
        "    # validpagnone()\n",
        "\n",
        "import pickle\n",
        "\n",
        "with open('lresok.pkl', 'wb') as f:\n",
        "  pickle.dump(link_results_ok, f)\n"
      ],
      "execution_count": 3,
      "outputs": []
    },
    {
      "cell_type": "code",
      "metadata": {
        "id": "cdJTnHOb3wP3"
      },
      "source": [
        "##Ya que se haya generado el \n",
        "import pickle\n",
        "with open('/content/drive/MyDrive/Colab Notebooks/Datosgob/lresok.pkl', 'rb') as f:\n",
        "  link_results_ok = pickle.load(f)\n",
        "\n",
        "\n",
        "def validpagnone():\n",
        "  global j\n",
        "  global z\n",
        "  global hs\n",
        "  hs=0\n",
        "  if str(pages_results[0])==\"<Response [404]>\":\n",
        "    j+=1\n",
        "    z+=1\n",
        "    hs=1\n",
        "    # print(\"No hay liga en \"+str(j))\n",
        "    # pages_results=[]\n",
        "    # pages_results += [requests.get(link_results_ok[j])]\n",
        "    # validpagnone()"
      ],
      "execution_count": 4,
      "outputs": []
    },
    {
      "cell_type": "code",
      "metadata": {
        "id": "7IBcmALDOA6Z"
      },
      "source": [
        "Data=pd.read_excel('/content/drive/MyDrive/Colab Notebooks/Datosgob/Datosgob.xlsx')\n",
        "len(Data)\n",
        "Data.to_excel('/content/drive/MyDrive/Colab Notebooks/Datosgob/Datosgob_vs.xlsx')"
      ],
      "execution_count": 6,
      "outputs": []
    },
    {
      "cell_type": "code",
      "metadata": {
        "id": "1AET-OMFQg62",
        "colab": {
          "base_uri": "https://localhost:8080/"
        },
        "outputId": "be7e32cb-af70-4c4f-a519-ffa8c5798cb0"
      },
      "source": [
        "# import pickle\n",
        "# with open('/content/drive/MyDrive/Colab Notebooks/Datosgob/lresok.pkl', 'rb') as f:\n",
        "#   link_results_ok = pickle.load(f)\n",
        "len(link_results_ok)"
      ],
      "execution_count": null,
      "outputs": [
        {
          "output_type": "execute_result",
          "data": {
            "text/plain": [
              "9418"
            ]
          },
          "metadata": {
            "tags": []
          },
          "execution_count": 6
        }
      ]
    },
    {
      "cell_type": "code",
      "metadata": {
        "id": "wLkHR4bgZFHL"
      },
      "source": [
        "#----------------------------------- Saca los archivos de las publicaciones ----------------------------------- (Le pusé 10, porque los +9409 se tarda mucho)\n",
        "\n",
        "f=int(round(9418/5+1,0))\n",
        "f=10\n",
        "ini=1\n",
        "\n",
        "try:\n",
        "  Data=pd.read_excel('/content/drive/MyDrive/Colab Notebooks/Datosgob/Datosgob.xlsx')\n",
        "  Data.head(2)\n",
        "  ini=max(Data.num)+1\n",
        "except FileNotFoundError:\n",
        "  Data=pd.DataFrame()\n",
        "  ini=1\n",
        "\n",
        "print(ini)\n",
        "\n",
        "for z in range(ini,f):\n",
        "  pages_results=[]\n",
        "  soup_results = []\n",
        "  results_files=[]\n",
        "  results_results=[]\n",
        "  for j,s in zip(range((z-1), z),range(0,1)): #len(link_results_ok)): \n",
        "    pages_results += [requests.get(link_results_ok[j])]\n",
        "    validpagnone()\n",
        "    while hs==1:\n",
        "      pages_results=[]\n",
        "      pages_results += [requests.get(link_results_ok[j])]\n",
        "      validpagnone()\n",
        "\n",
        "    # print(j,s)\n",
        "    # if j==4: \n",
        "    #   print(pages_results[s].content.decode('utf-8'))\n",
        "    soup_results += [BeautifulSoup(pages_results[s].content.decode('utf-8'), 'html.parser')]\n",
        "    results_files += [soup_results[s].find('div', {'id': \"datasets-list\"})]\n",
        "    # try:\n",
        "    # print(j)\n",
        "    # print(z)\n",
        "    try:\n",
        "      for results_files[s] in results_files[s].find_all(\"a\"):\n",
        "        results_results += [\"https://datos.gob.mx/\" + results_files[s].attrs[\"href\"]] ##################################REVISAR#############################\n",
        "    except:\n",
        "        results_results += [\"\"] ##################################REVISAR#############################\n",
        "    else:\n",
        "      for results_files[s] in results_files[s].find_all(\"a\"):\n",
        "        results_results += [\"https://datos.gob.mx/\" + results_files[s].attrs[\"href\"]] ##################################REVISAR#############################\n",
        "\n",
        "    # except:\n",
        "    #   out=1\n",
        "    #   results+=[]\n",
        "    #   print(\"Excepción en \"+j)\n",
        "\n",
        "  #Limpia los datos\n",
        "  results_results_ok = results_results[::3]\n",
        "  #----------------------------------- Saca la información de la tabla de cada archivo individual -----------------------------------\n",
        "\n",
        "  pages_info=[]\n",
        "  soup_info=[]\n",
        "  results_info=[]\n",
        "  names_files=[]\n",
        "  names_publication=[]\n",
        "  tabla=[]\n",
        "  names_ind=[]\n",
        "  names_public_ok=[]\n",
        "\n",
        "for k in range(0, len(results_results_ok)):\n",
        "  pages_info += [requests.get(results_results_ok[k])]\n",
        "  soup_info += [BeautifulSoup(pages_info[k].content.decode('utf-8'), 'html.parser')]\n",
        "  results_info += [soup_info[k].find('div', {'class': \"module-content\"})]\n",
        "  names_files += [soup_info[k].find_all('h1')] #por pagina\n",
        "  names_publication += [soup_info[k].find_all(\"title\")] #por publicacion\n",
        "  print(k)\n",
        "  try:\n",
        "    for item in results_info[k].find_all(\"tr\"):\n",
        "      item = ((item.text).rstrip(\" \\n\")).split(\"\\n\")\n",
        "      tabla += [item]\n",
        "  except:\n",
        "    tabla +=['']*9\n",
        "  else:\n",
        "    for item in results_info[k].find_all(\"tr\"):\n",
        "      item = ((item.text).rstrip(\" \\n\")).split(\"\\n\")\n",
        "      tabla += [item]\n",
        "  for l in range(0, len(names_files)):\n",
        "    try:\n",
        "      names_files[l][1].get_text()\n",
        "    except:\n",
        "      names_ind += [names_files[l][0].get_text()]\n",
        "    else:\n",
        "      names_ind += [names_files[l][1].get_text()]\n",
        "  for n in range(len(names_publication)-1, len(names_publication)):\n",
        "    names_public_ok += [str(names_publication[n]).split(' - ')[1]]\n",
        "\n",
        "  names_ok = list(dict.fromkeys(names_ind))\n",
        "\n",
        "  #----------------------------------- Limpia la información cada archivo individual -----------------------------------\n",
        "\n",
        "  tabla_Actual = [datos for datos in tabla if datos.__contains__(\"Última actualización\")]\n",
        "  tabla_Formato = [datos for datos in tabla if datos.__contains__(\"Formato\")]\n",
        "  tabla_Estado = [datos for datos in tabla if datos.__contains__(\"                                          Estado\")]\n",
        "  tabla_Id = [datos for datos in tabla if datos.__contains__(\"                                          Id\")]\n",
        "  tabla_Id_Paquete = [datos for datos in tabla if datos.__contains__(\"                                          Id del Paquete\")]\n",
        "  tabla_Id_Revision = [datos for datos in tabla if datos.__contains__(\"                                          Id de Revisión\")]\n",
        "\n",
        "  tabla_Actual_ok=[]\n",
        "  tabla_Formato_ok=[]\n",
        "  tabla_Estado_ok=[]\n",
        "  tabla_Id_ok=[]\n",
        "  tabla_Id_Paquete_ok=[]\n",
        "  tabla_Id_Revision_ok=[]\n",
        "\n",
        "  for l in range(0,len(tabla_Actual)):\n",
        "    tabla_Actual_ok += [tabla_Actual[l][6].split(\"                                            \")[1]]\n",
        "    tabla_Formato_ok += [tabla_Formato[l][2]]\n",
        "    tabla_Estado_ok += [tabla_Estado[l][9].split(\"                                              \")[1]]\n",
        "    tabla_Id_ok += [tabla_Id[l][8].split(\"                                            \")[1]]\n",
        "    tabla_Id_Paquete_ok += [tabla_Id_Paquete[l][8].split(\"                                            \")[1]]\n",
        "    tabla_Id_Revision_ok += [tabla_Id_Revision[l][8].split(\"                                            \")[1]]\n",
        "\n",
        "  # if z==1:\n",
        "  #   Data = pd.DataFrame()\n",
        "\n",
        "  Dt=pd.DataFrame()\n",
        "\n",
        "  #for i in range(0,len(results_results_ok)):\n",
        "  Dt['Publicación'] = names_public_ok\n",
        "  Dt['Nombre'] = names_ok\n",
        "  Dt['Link'] = results_results_ok\n",
        "  if len(tabla_Actual_ok)==1 or len(tabla_Actual_ok)==0:\n",
        "    Dt['Actualizacion'] = [tabla_Actual_ok for i in range(0,len(names_public_ok))]\n",
        "    Dt['Formato'] = [tabla_Formato_ok for i in range(0,len(names_public_ok))]\n",
        "    Dt['Estado'] = [tabla_Estado_ok for i in range(0,len(names_public_ok))]\n",
        "    Dt['Id'] = [tabla_Id_ok for i in range(0,len(names_public_ok))]\n",
        "    Dt['Id_paquete'] = [tabla_Id_Paquete_ok for i in range(0,len(names_public_ok))]\n",
        "    Dt['Id_Revisión'] = [tabla_Id_Revision_ok for i in range(0,len(names_public_ok))]\n",
        "  else:\n",
        "    Dt['Actualizacion'] = tabla_Actual_ok.extend([None]*(len(results_results_ok) - len(tabla_Actual_ok)))\n",
        "    Dt['Formato'] = tabla_Formato_ok.extend([None]*(len(results_results_ok) - len(tabla_Formato_ok)))\n",
        "    Dt['Estado'] = tabla_Estado_ok.extend([None]*(len(results_results_ok) - len(tabla_Estado_ok)))\n",
        "    Dt['Id'] = tabla_Id_ok.extend([None]*(len(results_results_ok) - len(tabla_Id_ok)))\n",
        "    Dt['Id_paquete'] = tabla_Id_Paquete_ok.extend([None]*(len(results_results_ok) - len(tabla_Id_Paquete_ok)))\n",
        "    Dt['Id_Revision'] = tabla_Id_Revision_ok.extend([None]*(len(results_results_ok) - len(tabla_Id_Revision_ok)))\n",
        "    # Dt['Actualizacion'] = tabla_Actual_ok\n",
        "    # Dt['Formato'] = tabla_Formato_ok\n",
        "    # Dt['Estado'] = tabla_Estado_ok\n",
        "    # Dt['Id'] = tabla_Id_ok\n",
        "    # Dt['Id_paquete'] = tabla_Id_Paquete_ok\n",
        "    # Dt['Id_Revisión'] = tabla_Id_Revision_ok\n",
        "  Dt['num']=[z for i in range(0,len(names_public_ok))]\n",
        "    #Data.head()  \n",
        "\n",
        "\n",
        "  Data=Data.append(Dt)\n",
        "  # Data.to_csv('/content/drive/MyDrive/Colab Notebooks/Datosgob/Datosgob.csv',encoding='utf-16')\n",
        "  # Data.to_excel('/content/drive/MyDrive/Colab Notebooks/Datosgob/Datosgob.xlsx')\n",
        "\n",
        "  print(z)"
      ],
      "execution_count": null,
      "outputs": []
    },
    {
      "cell_type": "code",
      "metadata": {
        "colab": {
          "base_uri": "https://localhost:8080/",
          "height": 246
        },
        "id": "x1HcKU5De8UB",
        "outputId": "a7e13efc-3781-45e8-bc5f-01bb840bd240"
      },
      "source": [
        "print(len(names_public_ok))\n",
        "print(len(names_ok))\n",
        "print(len(results_results_ok))\n",
        "\n",
        "len(results_results_ok)\n",
        "\n",
        "len(link_results_ok)\n"
      ],
      "execution_count": null,
      "outputs": [
        {
          "output_type": "stream",
          "text": [
            "45\n",
            "45\n",
            "45\n"
          ],
          "name": "stdout"
        },
        {
          "output_type": "error",
          "ename": "IndexError",
          "evalue": "ignored",
          "traceback": [
            "\u001b[0;31m---------------------------------------------------------------------------\u001b[0m",
            "\u001b[0;31mIndexError\u001b[0m                                Traceback (most recent call last)",
            "\u001b[0;32m<ipython-input-38-9a826121a691>\u001b[0m in \u001b[0;36m<module>\u001b[0;34m()\u001b[0m\n\u001b[1;32m      6\u001b[0m \u001b[0;34m\u001b[0m\u001b[0m\n\u001b[1;32m      7\u001b[0m \u001b[0mlen\u001b[0m\u001b[0;34m(\u001b[0m\u001b[0mlink_results_ok\u001b[0m\u001b[0;34m)\u001b[0m\u001b[0;34m\u001b[0m\u001b[0;34m\u001b[0m\u001b[0m\n\u001b[0;32m----> 8\u001b[0;31m \u001b[0mpages_results\u001b[0m\u001b[0;34m[\u001b[0m\u001b[0;36m1\u001b[0m\u001b[0;34m]\u001b[0m\u001b[0;34m.\u001b[0m\u001b[0mcontent\u001b[0m\u001b[0;34m.\u001b[0m\u001b[0mdecode\u001b[0m\u001b[0;34m(\u001b[0m\u001b[0;34m'utf-8'\u001b[0m\u001b[0;34m)\u001b[0m\u001b[0;34m\u001b[0m\u001b[0;34m\u001b[0m\u001b[0m\n\u001b[0m",
            "\u001b[0;31mIndexError\u001b[0m: list index out of range"
          ]
        }
      ]
    },
    {
      "cell_type": "code",
      "metadata": {
        "colab": {
          "base_uri": "https://localhost:8080/"
        },
        "id": "7Docm5BJ5-In",
        "outputId": "f10bc74c-eb0a-407a-8fc7-231518da5837"
      },
      "source": [
        "# Comprobación\n",
        "\n",
        "print(names_public_ok[0:5]) #No esta del todo bien, es muy larga, hara como \n",
        "print(names_ok[0:5])\n",
        "print(results_results_ok[0:5])\n",
        "print(tabla_Actual_ok[0:5])\n",
        "print(tabla_Formato_ok[0:5])\n",
        "print(tabla_Estado_ok[0:5])\n",
        "print(tabla_Id_ok[0:5])\n",
        "print(tabla_Id_Paquete_ok[0:5])\n",
        "print(tabla_Id_Revision_ok[0:5])"
      ],
      "execution_count": null,
      "outputs": [
        {
          "output_type": "stream",
          "text": [
            "['Estudios financiados con recursos públicos', 'Indicadores de crecimiento verde', 'Indicadores de crecimiento verde', 'Indicadores de crecimiento verde', 'Indicadores de crecimiento verde']\n",
            "['Estudios financiados con recursos públicos', 'Agotamiento de las reservas de hidrocarburos', 'Superficie protegida y bajo manejo sostenible.', 'Rendimiento relativo de las pesquerías de altura', 'Agua residual que recibe tratamiento - IV']\n",
            "['https://datos.gob.mx//busca/dataset/estudios-financiados-con-recursos-publicos/resource/1a00590b-f6df-4b58-9683-35a56195b638', 'https://datos.gob.mx//busca/dataset/indicadores-de-crecimiento-verde--capital-natural/resource/dc9b2e10-9fb8-49fa-998e-a46e426b13de', 'https://datos.gob.mx//busca/dataset/indicadores-de-crecimiento-verde--capital-natural/resource/4a743fc3-a2a8-4e43-9d13-f104c319ddb5', 'https://datos.gob.mx//busca/dataset/indicadores-de-crecimiento-verde--capital-natural/resource/bef7305b-a1d6-41d9-8a7c-026c791d630f', 'https://datos.gob.mx//busca/dataset/indicadores-de-crecimiento-verde--capital-natural/resource/837157e1-3799-48a3-8888-0eade9d4949b']\n",
            "['hace 16 horas', 'hace 16 horas', 'hace 16 horas', 'hace 16 horas', 'hace 16 horas']\n",
            "['CSV', 'CSV', 'CSV', 'CSV', 'CSV']\n",
            "['Activo', 'Activo', 'Activo', 'Activo', 'Activo']\n",
            "['1a00590b-f6df-4b58-9683-35a56195b638', 'dc9b2e10-9fb8-49fa-998e-a46e426b13de', '4a743fc3-a2a8-4e43-9d13-f104c319ddb5', 'bef7305b-a1d6-41d9-8a7c-026c791d630f', '837157e1-3799-48a3-8888-0eade9d4949b']\n",
            "['b9176ab7-8b58-4959-9fe3-0ac48cadd9f6', 'a0a633f9-158a-444a-8a51-4d55e7ae4b33', 'a0a633f9-158a-444a-8a51-4d55e7ae4b33', 'a0a633f9-158a-444a-8a51-4d55e7ae4b33', 'a0a633f9-158a-444a-8a51-4d55e7ae4b33']\n",
            "['b3c56333-abb5-43ab-9c40-083e10c288c1', 'd5a5f964-0d9b-4832-965d-0b24d1145ec6', 'd5a5f964-0d9b-4832-965d-0b24d1145ec6', 'd5a5f964-0d9b-4832-965d-0b24d1145ec6', 'd5a5f964-0d9b-4832-965d-0b24d1145ec6']\n"
          ],
          "name": "stdout"
        }
      ]
    },
    {
      "cell_type": "code",
      "metadata": {
        "colab": {
          "base_uri": "https://localhost:8080/",
          "height": 455
        },
        "id": "ykQa_Tl4rlfS",
        "outputId": "61d3026c-00b2-4abb-e942-bfc2bf303f07"
      },
      "source": [
        "Data = pd.DataFrame()\n",
        "Data['Publicación'] = names_public_ok\n",
        "Data['Nombre'] = names_ok\n",
        "Data['Link'] = results_results_ok\n",
        "Data['Actualizacion'] = tabla_Actual_ok\n",
        "Data['Formato'] = tabla_Formato_ok\n",
        "Data['Estado'] = tabla_Estado_ok\n",
        "Data['Id'] = tabla_Id_ok\n",
        "Data['Id_paquete'] = tabla_Id_Paquete_ok\n",
        "Data['Id_Revisión'] = tabla_Id_Revision_ok\n",
        "Data.head()"
      ],
      "execution_count": null,
      "outputs": [
        {
          "output_type": "execute_result",
          "data": {
            "text/html": [
              "<div>\n",
              "<style scoped>\n",
              "    .dataframe tbody tr th:only-of-type {\n",
              "        vertical-align: middle;\n",
              "    }\n",
              "\n",
              "    .dataframe tbody tr th {\n",
              "        vertical-align: top;\n",
              "    }\n",
              "\n",
              "    .dataframe thead th {\n",
              "        text-align: right;\n",
              "    }\n",
              "</style>\n",
              "<table border=\"1\" class=\"dataframe\">\n",
              "  <thead>\n",
              "    <tr style=\"text-align: right;\">\n",
              "      <th></th>\n",
              "      <th>Publicación</th>\n",
              "      <th>Nombre</th>\n",
              "      <th>Link</th>\n",
              "      <th>Actualizacion</th>\n",
              "      <th>Formato</th>\n",
              "      <th>Estado</th>\n",
              "      <th>Id</th>\n",
              "      <th>Id_paquete</th>\n",
              "      <th>Id_Revisión</th>\n",
              "    </tr>\n",
              "  </thead>\n",
              "  <tbody>\n",
              "    <tr>\n",
              "      <th>0</th>\n",
              "      <td>Estudios financiados con recursos públicos</td>\n",
              "      <td>Estudios financiados con recursos públicos</td>\n",
              "      <td>https://datos.gob.mx//busca/dataset/estudios-f...</td>\n",
              "      <td>hace 16 horas</td>\n",
              "      <td>CSV</td>\n",
              "      <td>Activo</td>\n",
              "      <td>1a00590b-f6df-4b58-9683-35a56195b638</td>\n",
              "      <td>b9176ab7-8b58-4959-9fe3-0ac48cadd9f6</td>\n",
              "      <td>b3c56333-abb5-43ab-9c40-083e10c288c1</td>\n",
              "    </tr>\n",
              "    <tr>\n",
              "      <th>1</th>\n",
              "      <td>Indicadores de crecimiento verde</td>\n",
              "      <td>Agotamiento de las reservas de hidrocarburos</td>\n",
              "      <td>https://datos.gob.mx//busca/dataset/indicadore...</td>\n",
              "      <td>hace 16 horas</td>\n",
              "      <td>CSV</td>\n",
              "      <td>Activo</td>\n",
              "      <td>dc9b2e10-9fb8-49fa-998e-a46e426b13de</td>\n",
              "      <td>a0a633f9-158a-444a-8a51-4d55e7ae4b33</td>\n",
              "      <td>d5a5f964-0d9b-4832-965d-0b24d1145ec6</td>\n",
              "    </tr>\n",
              "    <tr>\n",
              "      <th>2</th>\n",
              "      <td>Indicadores de crecimiento verde</td>\n",
              "      <td>Superficie protegida y bajo manejo sostenible.</td>\n",
              "      <td>https://datos.gob.mx//busca/dataset/indicadore...</td>\n",
              "      <td>hace 16 horas</td>\n",
              "      <td>CSV</td>\n",
              "      <td>Activo</td>\n",
              "      <td>4a743fc3-a2a8-4e43-9d13-f104c319ddb5</td>\n",
              "      <td>a0a633f9-158a-444a-8a51-4d55e7ae4b33</td>\n",
              "      <td>d5a5f964-0d9b-4832-965d-0b24d1145ec6</td>\n",
              "    </tr>\n",
              "    <tr>\n",
              "      <th>3</th>\n",
              "      <td>Indicadores de crecimiento verde</td>\n",
              "      <td>Rendimiento relativo de las pesquerías de altura</td>\n",
              "      <td>https://datos.gob.mx//busca/dataset/indicadore...</td>\n",
              "      <td>hace 16 horas</td>\n",
              "      <td>CSV</td>\n",
              "      <td>Activo</td>\n",
              "      <td>bef7305b-a1d6-41d9-8a7c-026c791d630f</td>\n",
              "      <td>a0a633f9-158a-444a-8a51-4d55e7ae4b33</td>\n",
              "      <td>d5a5f964-0d9b-4832-965d-0b24d1145ec6</td>\n",
              "    </tr>\n",
              "    <tr>\n",
              "      <th>4</th>\n",
              "      <td>Indicadores de crecimiento verde</td>\n",
              "      <td>Agua residual que recibe tratamiento - IV</td>\n",
              "      <td>https://datos.gob.mx//busca/dataset/indicadore...</td>\n",
              "      <td>hace 16 horas</td>\n",
              "      <td>CSV</td>\n",
              "      <td>Activo</td>\n",
              "      <td>837157e1-3799-48a3-8888-0eade9d4949b</td>\n",
              "      <td>a0a633f9-158a-444a-8a51-4d55e7ae4b33</td>\n",
              "      <td>d5a5f964-0d9b-4832-965d-0b24d1145ec6</td>\n",
              "    </tr>\n",
              "  </tbody>\n",
              "</table>\n",
              "</div>"
            ],
            "text/plain": [
              "                                  Publicación  ...                           Id_Revisión\n",
              "0  Estudios financiados con recursos públicos  ...  b3c56333-abb5-43ab-9c40-083e10c288c1\n",
              "1            Indicadores de crecimiento verde  ...  d5a5f964-0d9b-4832-965d-0b24d1145ec6\n",
              "2            Indicadores de crecimiento verde  ...  d5a5f964-0d9b-4832-965d-0b24d1145ec6\n",
              "3            Indicadores de crecimiento verde  ...  d5a5f964-0d9b-4832-965d-0b24d1145ec6\n",
              "4            Indicadores de crecimiento verde  ...  d5a5f964-0d9b-4832-965d-0b24d1145ec6\n",
              "\n",
              "[5 rows x 9 columns]"
            ]
          },
          "metadata": {
            "tags": []
          },
          "execution_count": 5
        }
      ]
    },
    {
      "cell_type": "code",
      "metadata": {
        "id": "yK2ypY7eOvL1"
      },
      "source": [
        "\n",
        "Data.to_csv('Datosgob.csv')\n",
        "#Data.to_xlsx('Datosgob.xlsx')"
      ],
      "execution_count": null,
      "outputs": []
    },
    {
      "cell_type": "code",
      "metadata": {
        "id": "HpWdD0HM94Id"
      },
      "source": [
        "#----------------------------------- Ejemplo paso a paso -----------------------------------\n",
        "\n",
        "URL_main = 'https://datos.gob.mx/busca/dataset'\n",
        "pages_main = requests.get(URL_main)\n",
        "soup_main = BeautifulSoup(pages_main.content, 'html.parser')\n",
        "\n",
        "#----------------------------- Páginas -----------------------------\n",
        "#Links de las páginas\n",
        "ult_pag = soup_main.find('div', {'class': \"pagination pagination-centered\"}) #Todas las paginas\n",
        "ult_pag = ult_pag.find_all(\"a\")[4] #Última pagina\n",
        "ult_pag = int(ult_pag.string)\n",
        "link_pages = []\n",
        "for i in range(1,ult_pag+1):\n",
        "  link_pages += [\"https://datos.gob.mx//busca/dataset?page=\" + str(i)]\n",
        "\n",
        "#----------------------------- Filtros -----------------------------\n",
        "#Links de los filtros\n",
        "filter = soup_main.find('div', {'class': \"col-md-3 col-sm-3\"})\n",
        "link_filters = []\n",
        "for filter in filter.find_all(\"a\"):\n",
        "  link_filters += [\"https://datos.gob.mx/\" + filter.attrs[\"href\"]]\n",
        "\n",
        "#----------------------------- Grupo de archivos -----------------------------\n",
        "\n",
        "#Links de los archivos en general\n",
        "results = soup_main.find('div', {'id': \"datasets-container\"})\n",
        "link_results = []\n",
        "for results in results.find_all(\"a\"):\n",
        "    link_results += [\"https://datos.gob.mx/\" + results.attrs[\"href\"]]\n",
        "\n",
        "#----------------------------- Archivos individuales -----------------------------\n",
        "\n",
        "#Links al entrar a cada conjunto de archivos (Ejemplo)\n",
        "\n",
        "URL_files = \"https://datos.gob.mx//busca/dataset/encuesta-nacional-de-satisfaccion-de-usuarios-del-servicio-de-guarderia-del-imss\"\n",
        "page_files = requests.get(URL_files)\n",
        "soup_files = BeautifulSoup(page_files.content, 'html.parser')\n",
        "\n",
        "#Link por archivo individual\n",
        "\n",
        "files =  soup_files.find('div', {'id': \"datasets-list\"})\n",
        "link_files = []\n",
        "for files in files.find_all(\"a\"):\n",
        "  link_files += [\"https://datos.gob.mx/\" + files.attrs[\"href\"]]\n",
        "link_files = link_files[::3] #De 3 en 3 ya que se repiten los datos\n",
        "\n",
        "#Información de cada archivo individual\n",
        "URL_ind= \"https://datos.gob.mx//busca/dataset/encuesta-nacional-de-satisfaccion-de-usuarios-del-servicio-de-guarderia-del-imss/resource/95b6b830-882d-4b0d-969b-4c4c392f2a6d\"\n",
        "page_ind = requests.get(URL_ind)\n",
        "soup_ind = BeautifulSoup(page_ind.content, 'html.parser')\n",
        "files_ind =  soup_files.find('table', {'class': \"table table-bordered\"})\n",
        "\n",
        "#tabla total\n",
        "files_ind_info = []\n",
        "for files_ind in files_ind.find_all(\"tr\"):\n",
        "  files_ind_info = [files_ind.attrs[\"tr\"]]\n",
        "  print(files_ind_info)\n",
        "\n",
        "#tabla izquierda\n",
        "files_ind_info1 = []\n",
        "for files_ind in files_ind.find_all(\"th\"):\n",
        "  files_ind_info1 = [files_ind.attrs[\"th\"]]\n",
        "  print(files_ind_info1)\n",
        "\n",
        "#tabla derecha\n",
        "files_ind_info2 = []q21\n",
        "for files_ind in files_ind.find_all(\"td\"):\n",
        "  files_ind_info2 = [files_ind.attrs[\"td\"]]\n",
        "  print(files_ind_info2)"
      ],
      "execution_count": null,
      "outputs": []
    }
  ]
}