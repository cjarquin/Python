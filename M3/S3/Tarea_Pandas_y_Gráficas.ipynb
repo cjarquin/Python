{
  "nbformat": 4,
  "nbformat_minor": 0,
  "metadata": {
    "colab": {
      "name": "Tarea Pandas y Gráficas.ipynb",
      "provenance": [],
      "authorship_tag": "ABX9TyO6iUE4BkM9SyHNyfaBio2P",
      "include_colab_link": true
    },
    "kernelspec": {
      "name": "python3",
      "display_name": "Python 3"
    },
    "language_info": {
      "name": "python"
    }
  },
  "cells": [
    {
      "cell_type": "markdown",
      "metadata": {
        "id": "view-in-github",
        "colab_type": "text"
      },
      "source": [
        "<a href=\"https://colab.research.google.com/github/pikey-msc/Python/blob/main/M3/S3/Tarea_Pandas_y_Gr%C3%A1ficas.ipynb\" target=\"_parent\"><img src=\"https://colab.research.google.com/assets/colab-badge.svg\" alt=\"Open In Colab\"/></a>"
      ]
    },
    {
      "cell_type": "markdown",
      "source": [
        "# 1. Usar la tabla de employees.csv en github del curso y hacer lo siguiente:\n",
        "- a. Usa groupby para crear una agregración que contenga el promedio del salario, desviación estándar, min, max, mediana, cuantil 75%, y cuantil al 25% y el conteo de cada departamento.\n",
        "- b. Crea una variable que segmente por lustros la antigüedad del empleado.\n",
        "- c. Crea un índice con la variable del punto b"
      ],
      "metadata": {
        "id": "u60y8dJoSu5u"
      }
    },
    {
      "cell_type": "code",
      "source": [
        ""
      ],
      "metadata": {
        "id": "TIYkgGDIT99T"
      },
      "execution_count": null,
      "outputs": []
    },
    {
      "cell_type": "markdown",
      "source": [
        "# 2. Graficar los siguiente:\n",
        "* a. 1.a en pay, con conteo, con el valor promedio ponderado del salario y el número de personas por departamento (2 gráficas)\n",
        "* b. Histograma de cada departamento del salario\n",
        "* c. Gráfico de barras de variable creada en 1.c de valorpromedio ponderado de salario"
      ],
      "metadata": {
        "id": "NiNF6LE3T-VP"
      }
    },
    {
      "cell_type": "code",
      "source": [
        ""
      ],
      "metadata": {
        "id": "Th8StOWmVHxi"
      },
      "execution_count": null,
      "outputs": []
    }
  ]
}