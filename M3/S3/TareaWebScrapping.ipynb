{
  "nbformat": 4,
  "nbformat_minor": 0,
  "metadata": {
    "colab": {
      "name": "TareaWebScrapping.ipynb",
      "provenance": [],
      "authorship_tag": "ABX9TyOgc39OtUAWlyXAuBwY7Ure",
      "include_colab_link": true
    },
    "kernelspec": {
      "name": "python3",
      "display_name": "Python 3"
    },
    "language_info": {
      "name": "python"
    }
  },
  "cells": [
    {
      "cell_type": "markdown",
      "metadata": {
        "id": "view-in-github",
        "colab_type": "text"
      },
      "source": [
        "<a href=\"https://colab.research.google.com/github/pikey-msc/Python/blob/main/M3/S3/TareaWebScrapping.ipynb\" target=\"_parent\"><img src=\"https://colab.research.google.com/assets/colab-badge.svg\" alt=\"Open In Colab\"/></a>"
      ]
    },
    {
      "cell_type": "markdown",
      "source": [
        "\n",
        "### 1. ¿Cuántas veces se necesita hacer el \"scroll\" para jalar todos los tweets? (tip: Se encuentran el total de tweets en la parte superior). No se necesita obtener todos los tweets."
      ],
      "metadata": {
        "id": "F0cjHr78DXuT"
      }
    },
    {
      "cell_type": "code",
      "source": [
        ""
      ],
      "metadata": {
        "id": "4BwuodgdDnIR"
      },
      "execution_count": null,
      "outputs": []
    },
    {
      "cell_type": "markdown",
      "source": [
        "### 2. Crea un código para listar a los seguidores de una cuenta"
      ],
      "metadata": {
        "id": "7EKHxtqNDsye"
      }
    },
    {
      "cell_type": "code",
      "source": [
        ""
      ],
      "metadata": {
        "id": "VyiLKzIyDy4p"
      },
      "execution_count": null,
      "outputs": []
    }
  ]
}