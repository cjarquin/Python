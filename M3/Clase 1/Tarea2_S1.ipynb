{
  "nbformat": 4,
  "nbformat_minor": 0,
  "metadata": {
    "colab": {
      "name": "Tarea2 S1.ipynb",
      "provenance": [],
      "authorship_tag": "ABX9TyMBIFHudOVfV8QXoO9JT+Z+",
      "include_colab_link": true
    },
    "kernelspec": {
      "name": "python3",
      "display_name": "Python 3"
    },
    "language_info": {
      "name": "python"
    }
  },
  "cells": [
    {
      "cell_type": "markdown",
      "metadata": {
        "id": "view-in-github",
        "colab_type": "text"
      },
      "source": [
        "<a href=\"https://colab.research.google.com/github/pikey-msc/Python/blob/main/M3/S1/Tarea2_S1.ipynb\" target=\"_parent\"><img src=\"https://colab.research.google.com/assets/colab-badge.svg\" alt=\"Open In Colab\"/></a>"
      ]
    },
    {
      "cell_type": "markdown",
      "source": [
        "\n",
        "1.-Por medio de SQLAlchemy, define la tabla orders definida dentro de nabla_python\n",
        "````\n",
        "+----------------+-------------+------+-----+---------+-------+\n",
        "| Field          | Type        | Null | Key | Default | Extra |\n",
        "+----------------+-------------+------+-----+---------+-------+\n",
        "| orderNumber    | int(11)     | NO   | PRI | NULL    |       |\n",
        "| orderDate      | date        | NO   |     | NULL    |       |\n",
        "| requiredDate   | date        | NO   |     | NULL    |       |\n",
        "| shippedDate    | date        | YES  |     | NULL    |       |\n",
        "| status         | varchar(15) | NO   |     | NULL    |       |\n",
        "| comments       | text        | YES  |     | NULL    |       |\n",
        "| customerNumber | int(11)     | NO   | MUL | NULL    |       |\n",
        "+----------------+-------------+------+-----+---------+-------+\n",
        "````\n",
        "\n",
        "2.-Por medio de SQLAlchemy, define la tabla orderdetails definida dentro de nabla_python\n",
        "````\n",
        "+-----------------+---------------+------+-----+---------+-------+\n",
        "| Field           | Type          | Null | Key | Default | Extra |\n",
        "+-----------------+---------------+------+-----+---------+-------+\n",
        "| orderNumber     | int(11)       | NO   | PRI | NULL    |       |\n",
        "| productCode     | varchar(15)   | NO   | PRI | NULL    |       |\n",
        "| quantityOrdered | int(11)       | NO   |     | NULL    |       |\n",
        "| priceEach       | decimal(10,2) | NO   |     | NULL    |       |\n",
        "| orderLineNumber | smallint(6)   | NO   |     | NULL    |       |\n",
        "+-----------------+---------------+------+-----+---------+-------+\n",
        "````\n",
        "\n",
        "3.-Realiza una consulta a la base de datos nabla_python por medio de sqlalchemy: encuentra los tipos de status existentes dentro de la tabla orders.\t\n",
        "\n"
      ],
      "metadata": {
        "id": "qXRWdxrdZcBh"
      }
    },
    {
      "cell_type": "code",
      "source": [
        ""
      ],
      "metadata": {
        "id": "jZgQhQ5cZ2IE"
      },
      "execution_count": null,
      "outputs": []
    }
  ]
}