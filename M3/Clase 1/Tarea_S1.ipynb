{
  "nbformat": 4,
  "nbformat_minor": 0,
  "metadata": {
    "colab": {
      "name": "Tarea S1.ipynb",
      "provenance": [],
      "authorship_tag": "ABX9TyMdcV2asMfgEEpQY9xzfw+c",
      "include_colab_link": true
    },
    "kernelspec": {
      "name": "python3",
      "display_name": "Python 3"
    },
    "language_info": {
      "name": "python"
    }
  },
  "cells": [
    {
      "cell_type": "markdown",
      "metadata": {
        "id": "view-in-github",
        "colab_type": "text"
      },
      "source": [
        "<a href=\"https://colab.research.google.com/github/pikey-msc/Python/blob/main/M3/S1/Tarea_S2.ipynb\" target=\"_parent\"><img src=\"https://colab.research.google.com/assets/colab-badge.svg\" alt=\"Open In Colab\"/></a>"
      ]
    },
    {
      "cell_type": "markdown",
      "source": [
        "### Tarea\n",
        "\n",
        "1. Realiza una consulta a la base de datos `nabla_python1` por medio de `pymysql`: encuentra los tipos de `status` existentes dentro de la tabla `orders`.\n",
        "\n",
        "---\n",
        "\n",
        "2. Realiza una consulta a la base de datos `nabla_pytho1n` por medio de `pymysql`: encuentra los 10 clientes `customerName` que más han comprado en la tienda. La tabla resultante deberá estar ordenada de mayor a menor con `customerName` y `expenses` como la columna en dónde se encuentre el monto gastado en la tienda. (**hint**: considera las tablas `customers` y `payments`)\n",
        "----\n",
        "\n",
        "3. Escribe una consulta que, para cada producto comprado muestre la clave del cliente `customerNumber` y el código del producto `productCode`. Obten los primeros 10 valores\n",
        "\n",
        "---\n",
        "\n",
        "4. Con base al ejercicio anterior, reemplaza `productCode` por `productName`. **HINT**: El comando `WITH` nos ayuda a crear una tabla temporal:\n",
        "\n",
        "```SQL\n",
        "WITH t1 as (\n",
        "    SELECT ...\n",
        "    )\n",
        "SELECT t1.ci, t2.cj\n",
        "FROM t2\n",
        "JOIN t1 ON t1.cx = t2.cx\n",
        "```\n",
        "\n",
        "---\n",
        "\n",
        "5. Con base al ejercicio anterior, reemplaza `customerNumber` por `customerName`\n",
        "\n",
        "----\n",
        "\n",
        "6. Con base en ejercicio 3, encuentra el nombre del producto `productName` y cuantas unidades se han comprado de ese producto. Ordena los elementos de mayor a menor.\n",
        "\n",
        "---"
      ],
      "metadata": {
        "id": "SOZQ6d7vTfnN"
      }
    }
  ]
}
